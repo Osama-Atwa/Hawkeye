{
 "cells": [
  {
   "cell_type": "markdown",
   "metadata": {
    "id": "mt9dL5dIir8X"
   },
   "source": [
    "##### Copyright 2020 The TensorFlow Authors."
   ]
  },
  {
   "cell_type": "markdown",
   "metadata": {
    "id": "hoQQiZDB6URn"
   },
   "source": [
    "## Setup"
   ]
  },
  {
   "cell_type": "code",
   "execution_count": 1,
   "metadata": {},
   "outputs": [],
   "source": [
    "# from sklearn.model_selection import train_test_split\n",
    "# import pandas\n",
    "# import shutil \n",
    "# import os\n",
    "# import numpy as np\n",
    "# import glob\n",
    "# import pathlib\n",
    "# import tensorflow as tf\n",
    "# import random\n",
    "# import codecs\n"
   ]
  },
  {
   "cell_type": "code",
   "execution_count": null,
   "metadata": {},
   "outputs": [],
   "source": []
  },
  {
   "cell_type": "code",
   "execution_count": 2,
   "metadata": {},
   "outputs": [],
   "source": [
    "# # choose some random files names from some folders\n",
    "# print(random.choice(os.listdir(\"Merged_dataset/001\")))\n",
    "\n"
   ]
  },
  {
   "cell_type": "markdown",
   "metadata": {},
   "source": [
    "### Extract Random Samples of Each Class"
   ]
  },
  {
   "cell_type": "code",
   "execution_count": 3,
   "metadata": {},
   "outputs": [],
   "source": [
    "\n",
    "\n",
    "# main_dir = 'Merged_dataset/'\n",
    "# data_dir = pathlib.Path(main_dir)\n",
    "# print(data_dir)\n",
    "# Class = np.array(sorted([item.name for item in data_dir.glob('*') if item.name != \"LICENSE.txt\"]))\n",
    "# class_names = []\n",
    "\n",
    "# for i in Class:\n",
    "#     if i not in class_names:\n",
    "#         class_names.append(i)\n",
    "\n",
    "# NUM_CLASSES = len(class_names)\n",
    "\n",
    "# dataSets = [tf.data.Dataset for x in range(NUM_CLASSES)]\n",
    "# dir = []\n",
    "# image_count_train = np.zeros(NUM_CLASSES)\n",
    "\n",
    "# for i in range(NUM_CLASSES):\n",
    "#   temp = str(class_names[i]+'/*')\n",
    "#   dir.append(str(data_dir/temp))\n",
    "#   print(dir)\n",
    "#   dataSets[i] = (tf.data.Dataset.list_files(dir, shuffle=False))\n",
    "#   dir = []\n",
    "#   image_count_train[i] = len(dataSets[i])\n",
    "\n",
    "# print(class_names)\n",
    "\n",
    "\n",
    "# for c in class_names:\n",
    "#   if not os.path.exists(str('testDataset/' + c)):\n",
    "#     os.makedirs(os.path.join(str('testDataset/' + c)))\n",
    "#     print(\"created path for class\", c)\n",
    "\n",
    "\n",
    "# duplicates=[]\n",
    "# for i in range(len(class_names)):\n",
    "#   for f in range(int(image_count_train[i]*0.2)):\n",
    "\n",
    "#     random_file =random.choice(os.listdir(\"Merged_dataset/\"+class_names[i]))\n",
    "#     while(random_file in duplicates):\n",
    "#       random_file =random.choice(os.listdir(\"Merged_dataset/\"+class_names[i]))\n",
    "\n",
    "#     if random_file not in duplicates:\n",
    "#       duplicates.append(random_file)\n",
    "#     else:\n",
    "#       print(\"file already exists for class\"+ class_names[i])\n",
    "    \n",
    "#     img_path='Merged_dataset/'+class_names[i]+'/'+ random_file\n",
    "#     shutil.move( img_path, str('testDataset/' + class_names[i] + '/'))\n",
    "#     print(img_path, \"copied to\", str('testDataset/' + class_names[i] + '/'))\n",
    "    \n"
   ]
  },
  {
   "cell_type": "code",
   "execution_count": 4,
   "metadata": {},
   "outputs": [],
   "source": [
    "# import csv\n",
    "# import pandas\n",
    "\n",
    "# filename ='i2.csv' # the dir of the csv file\n",
    "# sorted_csv=pandas.read_csv(filename)\n",
    "# # sorted_csv = csv_file.sort_values(by=['Label'])\n",
    "\n",
    "# filename2 ='i1.csv' # the dir of the csv file\n",
    "# sorted_csv2=pandas.read_csv(filename2)\n",
    "# # sorted_csv2 = csv_file2.sort_values(by=['id'])\n",
    "\n",
    "  \n",
    "# # print(sorted_csv[0:5]['Image_ID'])\n",
    "# # print(sorted_csv2.iloc[828]['filename'])\n",
    "# found=[[],[],[]]\n",
    "# classes=[0,1,2]\n",
    "\n",
    "# # print(sorted_csv.iloc[0]['Image_ID']+'.JPG',sorted_csv2.iloc[829-3]['filename'])\n",
    "\n",
    "# # convert the csv file to a list of lists\n",
    "\n",
    "\n",
    "\n",
    "# s2=sorted_csv2['Image_ID'][826].split('.')[0]\n",
    "\n",
    "# print(s2, sorted_csv['Image_ID'][0] )\n",
    "# # print(s[829-3] in s )\n",
    "# for i in  range(len(sorted_csv)):\n",
    "#   label=sorted_csv.iloc[i]['Label']\n",
    "#   image_id=sorted_csv.iloc[i]['Image_ID']+'.JPG'\n",
    "#   # print(image_id,sorted_csv2['filename'][0])\n",
    "#   # x=input()\n",
    "#   if image_id in sorted_csv2['filename']:\n",
    "#     print(image_id, \"found in both\")\n",
    "#     if image_id not in found[label]:\n",
    "#       found[label].append(i)\n",
    "#       print(i,'added to the list!')\n",
    "#     else:\n",
    "#       print('found in the list!')\n",
    "\n",
    "# for j in found:\n",
    "#   print(len(j))\n"
   ]
  },
  {
   "cell_type": "markdown",
   "metadata": {},
   "source": [
    "### Merging The Datasets And Export Them To Single CSV File "
   ]
  },
  {
   "cell_type": "code",
   "execution_count": 5,
   "metadata": {},
   "outputs": [],
   "source": [
    "# # \n",
    "# import csv\n",
    "# import pandas\n",
    "# # import shutil \n",
    "\n",
    "# class_names = [1,2,3] # label of the photos classes  001 --> road, 002--> bump, 003--> pothole\n",
    "# sub_dirs = ['D:/GP/New version/Merged_dataset/New folder/','D:/GP/New version/Merged_dataset/New folder/','D:/GP/New version/Merged_dataset/New folder/'] # each one of the subdirs is one of the two folder you have after splitting/cleaning the data\n",
    "# filename ='D:/GP/New version/Merged_dataset/images.csv' # the dir of the csv file\n",
    "# csv_file0=pandas.read_csv(filename)\n",
    "# sorted_csv0 = csv_file0.sort_values(by=['id'])\n",
    "# # class_names0 = list(sorted_csv0['id'].unique())\n",
    "\n",
    "\n",
    "# ##########newest dataset file ############\n",
    "# csv_file=pandas.read_csv('D:/GP/New version/NEWEST_DATASET_BUMPS/NEWEST_DATASET_BUMPS.csv')\n",
    "# sorted_csv = csv_file.sort_values(by=['id'])\n",
    "# # class_names = list(sorted_csv['id'].unique())\n",
    "# # print(class_names)\n",
    "# # print(sorted_csv[0:10])\n",
    "# ##########train dataset file ############\n",
    "# csv_file1=pandas.read_csv('D:/GP/New version/train/image.csv')\n",
    "# sorted_csv1 = csv_file1.sort_values(by=['id'])\n",
    "# # class_names1 = list(sorted_csv1['id'].unique())\n",
    "# # print(class_names1)\n",
    "# # print(sorted_csv1[0:10])\n",
    "\n",
    "# dataset_dir='D:/GP/New version/test/'\n",
    "\n",
    "# if not os.path.exists(dataset_dir+'001') or not os.path.exists(dataset_dir+'002')or not os.path.exists(dataset_dir+'003'):\n",
    "#   os.makedirs(os.path.join(dataset_dir+'NEWEST_DATASET_BUMPS/'+'001'))\n",
    "#   os.makedirs(os.path.join(dataset_dir+'NEWEST_DATASET_BUMPS/'+'002'))\n",
    "#   os.makedirs(os.path.join(dataset_dir+'NEWEST_DATASET_BUMPS/'+'003'))\n",
    "  \n",
    "#   os.makedirs(os.path.join(dataset_dir+'train/'+'001'))\n",
    "#   os.makedirs(os.path.join(dataset_dir+'train/'+'002'))\n",
    "#   os.makedirs(os.path.join(dataset_dir+'train/'+'003'))\n",
    "#   print(\"created\")\n",
    "\n",
    "\n",
    "\n",
    "\n",
    "# data_locs=sub_dirs[0:3]#[\"D:/GP/New version/PotHole/001/roads/\",\"D:/GP/New version/PotHole/001/bumps/\"]\n",
    "# print(data_locs)\n",
    "# filename1=dataset_dir+'train_test.csv'\n",
    "# temp2=''\n",
    "# with open(filename1, 'w', newline='') as writeFile:\n",
    "#   writer = csv.writer(writeFile)\n",
    "#   writer.writerow(['filename','id','dataset'])\n",
    "#   for i in class_names:\n",
    "#     temp='00'+str(i)          \n",
    "#     for c in list(sorted_csv0[sorted_csv0['id']== i]['filename']):    # c  ->  individual image \n",
    "#     # Creating path to the image\n",
    "#       print(c)\n",
    "#       if c in list(csv_file['filename']):\n",
    "#         print(\"entered for \",c)\n",
    "#         writer.writerow([c,temp,'NEWEST_DATASET_BUMPS'])\n",
    "#         temp2='NEWEST_DATASET_BUMPS/'\n",
    "      \n",
    "#       if c in list(csv_file1['filename']):  \n",
    "#         print(\"entered for \",c)\n",
    "#         writer.writerow([c,temp,'train'])\n",
    "#         temp2='train/'\n",
    "\n",
    "#       if c in list(csv_file['filename']) or c in list(csv_file1['filename']):\n",
    "#         get_image = os.path.join(data_locs[i-1],c)\n",
    "#         print(get_image)\n",
    "#         # # get_image to that path\n",
    "#         if os.path.exists(dataset_dir+temp2+temp):\n",
    "#             # move the image to this path\n",
    "#             print(get_image,\"Loaded to\",temp2+temp)\n",
    "#             move_image = shutil.copy(get_image,dataset_dir+temp2+temp)\n",
    "\n",
    "\n",
    "\n",
    "# # # with open(filename, 'w', newline='') as writeFile:\n",
    "# # #     writer = csv.writer(writeFile)\n",
    "# # #     writer.writerow(['filename','id']) # writing the header for the csv file (names of the columns)\n",
    "# # #     i=0\n",
    "# # #     for sub_dir in sub_dirs:\n",
    "# # #         for filename in os.listdir(sub_dir):\n",
    "# # #             print('image with id: ',filename,' loaded to ',sub_dir)\n",
    "# # #             writer.writerow([filename,class_names[i]])\n",
    "# # #         i=i+1\n",
    "\n",
    "# # # writeFile.close()"
   ]
  },
  {
   "cell_type": "code",
   "execution_count": 6,
   "metadata": {},
   "outputs": [],
   "source": [
    "# import pandas\n",
    "# import shutil \n",
    "# import os\n",
    "\n",
    "# dataset_dir=\"D:\\\\GP\\\\New version\\\\test\\\\\" # the dir of the csv file\n",
    "\n",
    "# csv_name=\"train_test.csv\"\n",
    "\n",
    "# csv_file = pandas.read_csv(dataset_dir+csv_name) # you can implement options as you want here)\n",
    "\n",
    "# sorted_csv = csv_file.sort_values(by=['dataset'])\n",
    "# print(sorted_csv[1:10])\n",
    "# class_names = list(sorted_csv['id'].unique())\n",
    "\n",
    "# train_csv = csv_file.loc[csv_file['dataset']=='NEWEST_DATASET_BUMPS']\n",
    "\n",
    "# test_csv  =csv_file.loc[csv_file['dataset']=='train']\n",
    "# datasets_csv=[train_csv,test_csv]\n",
    "# print(train_csv[1:10],test_csv[1:10])\n",
    "# dataset_dir='D:/GP/New version/test/' # the dir for creating the folders of new datasets\n",
    "\n",
    "# if not os.path.exists(dataset_dir+'NEWEST_DATASET_BUMPS/'+'001') or not os.path.exists(dataset_dir+'NEWEST_DATASET_BUMPS/'+'002')or not os.path.exists(dataset_dir+'NEWEST_DATASET_BUMPS/'+'003'):\n",
    "#   os.makedirs(os.path.join(dataset_dir+'NEWEST_DATASET_BUMPS/'+'001'))\n",
    "#   os.makedirs(os.path.join(dataset_dir+'NEWEST_DATASET_BUMPS/'+'002'))\n",
    "#   os.makedirs(os.path.join(dataset_dir+'NEWEST_DATASET_BUMPS/'+'003'))\n",
    "  \n",
    "#   os.makedirs(os.path.join(dataset_dir+'train/'+'001'))\n",
    "#   os.makedirs(os.path.join(dataset_dir+'train/'+'002'))\n",
    "#   os.makedirs(os.path.join(dataset_dir+'train/'+'003'))\n",
    "#   print(\"created\")\n",
    "\n",
    "\n",
    "\n",
    "# dataset_names=['NEWEST_DATASET_BUMPS/','train/']\n",
    "\n",
    "# # data_locs=[\"D:/GP/New version/PotHole/001/roads/\",\"D:/GP/New version/PotHole/001/bumps/\"]\n",
    "# # print(sorted_csv.where(sorted_csv['id']==1 and sorted_csv['dataset']=='train'))\n",
    "# j=0\n",
    "# for dataset_csv in datasets_csv:\n",
    "#   for i in class_names:\n",
    "#     temp='00'+str(i)\n",
    "#     for c in list(dataset_csv[dataset_csv['id']== i]['filename']):    # c  ->  individual image \n",
    "#     # Creating path to the image\n",
    "#       # print(c)\n",
    "#       get_image = os.path.join(dataset_dir,c)\n",
    "#       # print(get_image)\n",
    "#       # get_image to that path\n",
    "      \n",
    "#       if os.path.exists(dataset_dir+dataset_names[j]+'/'+temp):\n",
    "#           # move the image to this path\n",
    "#           print(get_image,\"Loaded to\",dataset_names[j]+'/'+temp)\n",
    "#           move_image = shutil.copy(get_image,dataset_dir+dataset_names[j]+temp)\n",
    "#   j=j+1\n",
    "          "
   ]
  },
  {
   "cell_type": "markdown",
   "metadata": {},
   "source": [
    "### Create The Final Merged Dataset Based On The Given CSV "
   ]
  },
  {
   "cell_type": "code",
   "execution_count": 7,
   "metadata": {},
   "outputs": [],
   "source": [
    "# import pandas\n",
    "# import shutil \n",
    "# import os\n",
    "# main_dir='D:/GP/New version/Merged_dataset/'\n",
    "# csv_file = pandas.read_csv(main_dir+\"images.csv\") # you can implement options as you want here)\n",
    "# sorted_csv = csv_file.sort_values(by=['id'])\n",
    "# class_names = list(sorted_csv['id'].unique())\n",
    "# print(class_names)\n",
    "# print()\n",
    "# if not os.path.exists(main_dir+'New folder/001') or not os.path.exists(main_dir+'New folder/002'):\n",
    "#   os.makedirs(os.path.join(main_dir+'New folder/001'))\n",
    "#   os.makedirs(os.path.join(main_dir+'New folder/002'))\n",
    "#   os.makedirs(os.path.join(main_dir+'New folder/003'))\n",
    "#   os.makedirs(os.path.join(main_dir+'New folder/004'))\n",
    "#   print(\"created\")\n",
    "\n",
    "# for i in class_names:\n",
    "#   temp='00'+str(i)          \n",
    "#   for c in list(sorted_csv[sorted_csv['id']== i]['filename']):    # c  ->  individual image \n",
    "#   # Creating path to the image\n",
    "#     get_image = os.path.join(main_dir+'New folder/',c)\n",
    "#     # print(get_image)\n",
    "#   # get_image to that path\n",
    "#     if os.path.exists(main_dir+'New folder/'+temp):\n",
    "#         # move the image to this path\n",
    "#         print(get_image,\"Loaded to\",temp)\n",
    "#         move_image = shutil.copy(get_image,main_dir+'New folder/'+temp)\n"
   ]
  },
  {
   "cell_type": "code",
   "execution_count": 8,
   "metadata": {},
   "outputs": [],
   "source": [
    "# # print(sorted_csv)\n",
    "# road_images_count=len(sorted_csv[sorted_csv['Label']== 0])\n",
    "# pothole_images_count=len(sorted_csv[sorted_csv['Label']== 1])\n",
    "# print(\"road_images_count: \"+str(road_images_count),\"\\npothole_images_count: \"+str(pothole_images_count))\n"
   ]
  },
  {
   "cell_type": "markdown",
   "metadata": {},
   "source": [
    "## Setup Essential Imports"
   ]
  },
  {
   "cell_type": "code",
   "execution_count": 9,
   "metadata": {},
   "outputs": [],
   "source": [
    "import numpy as np\n",
    "import os\n",
    "import PIL\n",
    "import PIL.Image\n",
    "import tensorflow as tf\n",
    "\n",
    "\n",
    "NUM_CLASSES = 3 #Bump/Road/pothole\n",
    "IMG_SIZE =224 #SqueezeNet 90x90\n",
    "SHOULD_TEST = False\n",
    "\n",
    "EPOCHS = 40\n",
    "BATCH_SIZE = 64"
   ]
  },
  {
   "cell_type": "code",
   "execution_count": 10,
   "metadata": {},
   "outputs": [
    {
     "name": "stdout",
     "output_type": "stream",
     "text": [
      "Found GPU at: /device:GPU:0\n"
     ]
    }
   ],
   "source": [
    "device_name = tf.test.gpu_device_name()\n",
    "if not device_name:\n",
    "  raise SystemError('GPU device not found')\n",
    "print('Found GPU at: {}'.format(device_name))"
   ]
  },
  {
   "cell_type": "markdown",
   "metadata": {
    "id": "Ju2yXtdV5YaT"
   },
   "source": [
    "Note: all images are licensed CC-BY, creators are listed in the LICENSE.txt file."
   ]
  },
  {
   "cell_type": "code",
   "execution_count": 11,
   "metadata": {},
   "outputs": [],
   "source": [
    "import pathlib\n",
    "\n",
    "data_dirs_string=['D:/GP/New version/NEWEST_DATASET_BUMPS','D:/GP/New version/train','D:/GP/New version/PotHole']\n",
    "data_dirs=[]\n",
    "for i in data_dirs_string:\n",
    "  data_dirs.append(pathlib.Path(i))\n",
    "\n",
    "# data_dir = 'D:/GP/New version/NEWEST_DATASET_BUMPS'\n",
    "# data_dir = pathlib.Path(data_dir)\n",
    "\n",
    "# data_dir2 = 'D:/GP/New version/train'\n",
    "# data_dir2 = pathlib.Path(data_dir2)\n",
    "\n",
    "# # data_dir3 = 'D:/GP/New version/train'\n",
    "# # data_dir3 = pathlib.Path(data_dir2)\n",
    "\n",
    "# data_dir3 = 'D:/GP/New version/PotHole'\n",
    "# data_dir3 = pathlib.Path(data_dir3)\n",
    "# image_count_train = len(list(data_dirs[0].glob('*/*.*')))+len(list(data_dirs[1].glob('*/*.*')))+len(list(data_dirs[2].glob('*/*.*'))) \n",
    "# print(image_count_train)\n"
   ]
  },
  {
   "cell_type": "code",
   "execution_count": 12,
   "metadata": {},
   "outputs": [
    {
     "name": "stdout",
     "output_type": "stream",
     "text": [
      "['001', '002', '003']\n"
     ]
    }
   ],
   "source": [
    "class_names=[]\n",
    "for i in range(NUM_CLASSES):\n",
    "  Class = np.array(sorted([item.name for item in data_dirs[i].glob('*') if item.name != \"LICENSE.txt\"]))\n",
    "  for i in Class:\n",
    "    if i not in class_names:\n",
    "      class_names.append(i)\n",
    "print(class_names)\n",
    "# class_names = np.array(sorted([item.name for item in data_dir2.glob('*') if item.name != \"LICENSE.txt\"]))\n",
    "# print(class_names)\n",
    "# class_names = np.array(sorted([item.name for item in data_dir3.glob('*') if item.name != \"LICENSE.txt\"]))\n",
    "# print(class_names)"
   ]
  },
  {
   "cell_type": "code",
   "execution_count": 13,
   "metadata": {
    "execution": {
     "iopub.execute_input": "2022-01-26T06:29:44.484086Z",
     "iopub.status.busy": "2022-01-26T06:29:44.483305Z",
     "iopub.status.idle": "2022-01-26T06:29:44.497795Z",
     "shell.execute_reply": "2022-01-26T06:29:44.498148Z"
    },
    "id": "lAkQp5uxoINu"
   },
   "outputs": [
    {
     "name": "stdout",
     "output_type": "stream",
     "text": [
      "Length of each dataset:  [6893. 3813. 2865.]\n",
      "train size: 13571\n"
     ]
    }
   ],
   "source": [
    "\n",
    "dataSets=[tf.data.Dataset for x in range(NUM_CLASSES)]\n",
    "dir=[]\n",
    "image_count_train=np.zeros(NUM_CLASSES)\n",
    "\n",
    "for j in range(NUM_CLASSES):\n",
    "  for i in range(NUM_CLASSES):\n",
    "  # if not os.path.exists(str(data_dirs[i]/+class_names[j]+'/*')): \n",
    "    temp=str(class_names[j]+'/*')\n",
    "    dir.append(str(data_dirs[i]/temp))\n",
    "  # print(dir)  \n",
    "  dataSets[j]=(tf.data.Dataset.list_files(dir, shuffle=False))\n",
    "  dir=[]\n",
    "  image_count_train[j]=int(len(dataSets[j]))\n",
    "  dataSets[j] = dataSets[j].shuffle(image_count_train[j], reshuffle_each_iteration=False)\n",
    "  \n",
    "print(\"Length of each dataset: \",image_count_train)\n",
    "\n",
    "minIndex=np.argmin(image_count_train)\n",
    "# print(\"Min. Length is: \",minLen)    \n",
    "\n",
    "list_ds_train=dataSets[minIndex]\n",
    "for i in range(NUM_CLASSES):\n",
    "  if i != minIndex:\n",
    "    # print(\"hi\")\n",
    "    list_ds_train = list_ds_train.concatenate(dataSets[i]) #.take(minLen))\n",
    "minLen= len(list(list_ds_train.as_numpy_iterator()))\n",
    "list_ds_train = list_ds_train.shuffle(NUM_CLASSES*minLen, reshuffle_each_iteration=False)\n",
    "\n",
    "print('train size:' , len(list(list_ds_train.as_numpy_iterator())))\n",
    "# list_ds_train = list_ds_train.batch(BATCH_SIZE).prefetch(2)\n",
    "\n",
    "# list_ds_test = tf.data.Dataset.list_files([str(data_dir2/'*/*')], shuffle=False)\n",
    "# list_ds_test = list_ds_test.shuffle(image_count_test, reshuffle_each_iteration=False)"
   ]
  },
  {
   "cell_type": "code",
   "execution_count": null,
   "metadata": {},
   "outputs": [],
   "source": []
  },
  {
   "cell_type": "code",
   "execution_count": 14,
   "metadata": {
    "execution": {
     "iopub.execute_input": "2022-01-26T06:29:44.503154Z",
     "iopub.status.busy": "2022-01-26T06:29:44.502237Z",
     "iopub.status.idle": "2022-01-26T06:29:44.512927Z",
     "shell.execute_reply": "2022-01-26T06:29:44.513285Z"
    },
    "id": "coORvEH-NGwc"
   },
   "outputs": [
    {
     "name": "stdout",
     "output_type": "stream",
     "text": [
      "b'D:\\\\GP\\\\New version\\\\NEWEST_DATASET_BUMPS\\\\002\\\\MVI_1592 32.jpg'\n",
      "b'D:\\\\GP\\\\New version\\\\NEWEST_DATASET_BUMPS\\\\001\\\\IMG_2112 522.jpg'\n",
      "b'D:\\\\GP\\\\New version\\\\PotHole\\\\001\\\\DwsnlSkBrvwWThL.JPG'\n",
      "b'D:\\\\GP\\\\New version\\\\PotHole\\\\003\\\\20191011_070047 439.jpg'\n",
      "b'D:\\\\GP\\\\New version\\\\NEWEST_DATASET_BUMPS\\\\002\\\\MVI_1589 038.jpg'\n"
     ]
    }
   ],
   "source": [
    "for f in list_ds_train.take(5):\n",
    "  print(f.numpy())\n",
    "\n",
    "# for f in list_ds_test.take(5):\n",
    "#   print(f.numpy())  "
   ]
  },
  {
   "cell_type": "markdown",
   "metadata": {
    "id": "6NLQ_VJhWO4z"
   },
   "source": [
    "The tree structure of the files can be used to compile a `class_names` list."
   ]
  },
  {
   "cell_type": "markdown",
   "metadata": {
    "id": "CiptrWmAlmAa"
   },
   "source": [
    "Split the dataset into training and validation sets:"
   ]
  },
  {
   "cell_type": "code",
   "execution_count": 15,
   "metadata": {
    "execution": {
     "iopub.execute_input": "2022-01-26T06:29:44.524897Z",
     "iopub.status.busy": "2022-01-26T06:29:44.524044Z",
     "iopub.status.idle": "2022-01-26T06:29:44.548354Z",
     "shell.execute_reply": "2022-01-26T06:29:44.547835Z"
    },
    "id": "GWHNPzXclpVr"
   },
   "outputs": [],
   "source": [
    "# image_count=sum(image_count_train)\n",
    "# print(image_count*0.2)\n",
    "test_size = int(minLen *0.2)\n",
    "val_size = int(minLen * 0.2)\n",
    "test_ds = list_ds_train.take(test_size)\n",
    "val_ds = list_ds_train.skip(test_size).take(val_size)\n",
    "train_ds = list_ds_train.skip(val_size+test_size)\n"
   ]
  },
  {
   "cell_type": "markdown",
   "metadata": {
    "id": "rkB-IR4-pS3U"
   },
   "source": [
    "You can print the length of each dataset as follows:"
   ]
  },
  {
   "cell_type": "code",
   "execution_count": 16,
   "metadata": {
    "execution": {
     "iopub.execute_input": "2022-01-26T06:29:44.552974Z",
     "iopub.status.busy": "2022-01-26T06:29:44.552265Z",
     "iopub.status.idle": "2022-01-26T06:29:44.554832Z",
     "shell.execute_reply": "2022-01-26T06:29:44.555181Z"
    },
    "id": "SiKQrb9ppS-7"
   },
   "outputs": [
    {
     "name": "stdout",
     "output_type": "stream",
     "text": [
      "test size: 2714\n",
      "train size: 8143\n",
      "dev size: 2714\n"
     ]
    }
   ],
   "source": [
    "print('test size:' , len(list(test_ds.as_numpy_iterator())))\n",
    "print('train size:' , len(list(train_ds.as_numpy_iterator())))\n",
    "print('dev size:' , len(list(val_ds.as_numpy_iterator())))"
   ]
  },
  {
   "cell_type": "markdown",
   "metadata": {
    "id": "91CPfUUJ_8SZ"
   },
   "source": [
    "Write a short function that converts a file path to an `(img, label)` pair:"
   ]
  },
  {
   "cell_type": "code",
   "execution_count": 17,
   "metadata": {
    "execution": {
     "iopub.execute_input": "2022-01-26T06:29:44.559661Z",
     "iopub.status.busy": "2022-01-26T06:29:44.558876Z",
     "iopub.status.idle": "2022-01-26T06:29:44.560674Z",
     "shell.execute_reply": "2022-01-26T06:29:44.561025Z"
    },
    "id": "arSQzIey-4D4"
   },
   "outputs": [],
   "source": [
    "def get_label(file_path):\n",
    "  # Convert the path to a list of path components\n",
    "  parts = tf.strings.split(file_path, os.path.sep)\n",
    "  # The second to last is the class-directory\n",
    "  \n",
    "  one_hot = parts[-2] == class_names\n",
    "  # Integer encode the label\n",
    "  return tf.argmax(one_hot)"
   ]
  },
  {
   "cell_type": "code",
   "execution_count": 18,
   "metadata": {
    "execution": {
     "iopub.execute_input": "2022-01-26T06:29:44.565350Z",
     "iopub.status.busy": "2022-01-26T06:29:44.564567Z",
     "iopub.status.idle": "2022-01-26T06:29:44.566772Z",
     "shell.execute_reply": "2022-01-26T06:29:44.566353Z"
    },
    "id": "MGlq4IP4Aktb"
   },
   "outputs": [],
   "source": [
    "def decode_img(img):\n",
    "  # Convert the compressed string to a 3D uint8 tensor\n",
    "  img = tf.io.decode_jpeg(img, channels=3)\n",
    "  # Resize the image to the desired size\n",
    "  return tf.image.resize(img, [IMG_SIZE, IMG_SIZE])"
   ]
  },
  {
   "cell_type": "code",
   "execution_count": 19,
   "metadata": {
    "execution": {
     "iopub.execute_input": "2022-01-26T06:29:44.570920Z",
     "iopub.status.busy": "2022-01-26T06:29:44.570131Z",
     "iopub.status.idle": "2022-01-26T06:29:44.572396Z",
     "shell.execute_reply": "2022-01-26T06:29:44.571964Z"
    },
    "id": "-xhBRgvNqRRe"
   },
   "outputs": [],
   "source": [
    "def process_path(file_path):\n",
    "  label = get_label(file_path)\n",
    "  # Load the raw data from the file as a string\n",
    "  img = tf.io.read_file(file_path)\n",
    "  img = decode_img(img)\n",
    "  return img, label"
   ]
  },
  {
   "cell_type": "markdown",
   "metadata": {
    "id": "S9a5GpsUOBx8"
   },
   "source": [
    "Use `Dataset.map` to create a dataset of `image, label` pairs:"
   ]
  },
  {
   "cell_type": "code",
   "execution_count": 20,
   "metadata": {},
   "outputs": [],
   "source": [
    "AUTOTUNE = tf.data.AUTOTUNE"
   ]
  },
  {
   "cell_type": "code",
   "execution_count": 21,
   "metadata": {
    "execution": {
     "iopub.execute_input": "2022-01-26T06:29:44.577584Z",
     "iopub.status.busy": "2022-01-26T06:29:44.576790Z",
     "iopub.status.idle": "2022-01-26T06:29:44.737954Z",
     "shell.execute_reply": "2022-01-26T06:29:44.738344Z"
    },
    "id": "3SDhbo8lOBQv"
   },
   "outputs": [],
   "source": [
    "# Set `num_parallel_calls` so multiple images are loaded/processed in parallel.\n",
    "train_ds = train_ds.map(process_path, num_parallel_calls=AUTOTUNE)\n",
    "val_ds = val_ds.map(process_path, num_parallel_calls=AUTOTUNE)\n",
    "test_ds = test_ds.map(process_path, num_parallel_calls=AUTOTUNE)\n"
   ]
  },
  {
   "cell_type": "code",
   "execution_count": 22,
   "metadata": {
    "execution": {
     "iopub.execute_input": "2022-01-26T06:29:44.743331Z",
     "iopub.status.busy": "2022-01-26T06:29:44.742385Z",
     "iopub.status.idle": "2022-01-26T06:29:44.784823Z",
     "shell.execute_reply": "2022-01-26T06:29:44.785182Z"
    },
    "id": "kxrl0lGdnpRz"
   },
   "outputs": [],
   "source": [
    "# c=0\n",
    "# c1=0\n",
    "# c2=0\n",
    "# for image, label in train_ds:\n",
    "#   # print(\"Image shape: \", image.numpy().shape)\n",
    "#   # print(\"Label: \", label.numpy())\n",
    "#   if(label.numpy()==0):\n",
    "#     c=c+1\n",
    "#   elif (label.numpy()==1):\n",
    "#     c1=c1+1\n",
    "#   elif(label.numpy()==2):\n",
    "#     c2=c2+1\n",
    "#   # print(label.numpy())\n",
    "# print(c,c1,c2)\n",
    "# c=c1=c2=0\n",
    "# for image, label in test_ds:\n",
    "#   # print(\"Image shape: \", image.numpy().shape)\n",
    "#   # print(\"Label: \", label.numpy())\n",
    "\n",
    "#   if(label.numpy()==0):\n",
    "#     c=c+1\n",
    "#   elif (label.numpy()==1):\n",
    "#     c1=c1+1\n",
    "#   elif(label.numpy()==2):\n",
    "#     c2=c2+1\n",
    "#   # print(label.numpy())\n",
    "# print(c,c1,c2)\n",
    "# c=c1=c2=0\n",
    "# for image, label in val_ds:\n",
    "#   # print(\"Image shape: \", image.numpy().shape)\n",
    "#   # print(\"Label: \", label.numpy())\n",
    "\n",
    "#   if(label.numpy()==0):\n",
    "#     c=c+1\n",
    "#   elif (label.numpy()==1):\n",
    "#     c1=c1+1\n",
    "#   elif(label.numpy()==2):\n",
    "#     c2=c2+1\n",
    "#   # print(label.numpy())\n",
    "# print(c,c1,c2)\n",
    "\n",
    "\n",
    "#   # images.append(image)\n",
    "#   # labels.append(label.numpy())\n",
    "#   # 193 201 179\n",
    "\n",
    "#   # 178 218 177"
   ]
  },
  {
   "cell_type": "markdown",
   "metadata": {
    "id": "vYGCgJuR_9Qp"
   },
   "source": [
    "### Configure dataset for performance"
   ]
  },
  {
   "cell_type": "markdown",
   "metadata": {
    "id": "wwZavzgsIytz"
   },
   "source": [
    "To train a model with this dataset you will want the data:\n",
    "\n",
    "* To be well shuffled.\n",
    "* To be batched.\n",
    "* Batches to be available as soon as possible.\n",
    "\n",
    "These features can be added using the `tf.data` API. For more details, visit the [Input Pipeline Performance](../../guide/performance/datasets.ipynb) guide."
   ]
  },
  {
   "cell_type": "code",
   "execution_count": 23,
   "metadata": {
    "execution": {
     "iopub.execute_input": "2022-01-26T06:29:44.790092Z",
     "iopub.status.busy": "2022-01-26T06:29:44.789534Z",
     "iopub.status.idle": "2022-01-26T06:29:44.794535Z",
     "shell.execute_reply": "2022-01-26T06:29:44.794888Z"
    },
    "id": "uZmZJx8ePw_5"
   },
   "outputs": [],
   "source": [
    "def configure_for_performance(ds):\n",
    "  ds = ds.cache()\n",
    "  ds = ds.shuffle(buffer_size=1000)\n",
    "  ds = ds.batch(BATCH_SIZE)\n",
    "  ds = ds.prefetch(buffer_size=AUTOTUNE)\n",
    "  return ds\n",
    "\n",
    "train_ds = configure_for_performance(train_ds)\n",
    "val_ds = configure_for_performance(val_ds)\n",
    "test_ds = configure_for_performance(test_ds)"
   ]
  },
  {
   "cell_type": "markdown",
   "metadata": {
    "id": "45P7OvzRWzOB"
   },
   "source": [
    "### Visualize the data\n",
    "\n",
    "You can visualize this dataset similarly to the one you created previously:"
   ]
  },
  {
   "cell_type": "code",
   "execution_count": 24,
   "metadata": {
    "execution": {
     "iopub.execute_input": "2022-01-26T06:29:44.799476Z",
     "iopub.status.busy": "2022-01-26T06:29:44.798931Z",
     "iopub.status.idle": "2022-01-26T06:29:45.664291Z",
     "shell.execute_reply": "2022-01-26T06:29:45.664666Z"
    },
    "id": "UN_Dnl72YNIj"
   },
   "outputs": [
    {
     "data": {
      "image/png": "[encoded data removed]",
      "text/plain": [
       "<Figure size 720x720 with 9 Axes>"
      ]
     },
     "metadata": {
      "needs_background": "light"
     },
     "output_type": "display_data"
    }
   ],
   "source": [
    "import matplotlib.pyplot as plt\n",
    "\n",
    "image_batch, label_batch = next(iter(train_ds))\n",
    "plt.figure(figsize=(10, 10))\n",
    "for i in range(9):\n",
    "  ax = plt.subplot(3, 3, i + 1)\n",
    "  plt.imshow(image_batch[i].numpy().astype(\"uint8\"))\n",
    "  label = label_batch[i]\n",
    "  plt.title(class_names[label])\n",
    "  plt.axis(\"off\")"
   ]
  },
  {
   "cell_type": "markdown",
   "metadata": {
    "id": "XqHjIr6cplwY"
   },
   "source": [
    "### Train a model\n",
    "\n",
    "For completeness, you will show how to train a simple model using the datasets you have just prepared.\n",
    "\n",
    "The [Sequential](https://www.tensorflow.org/guide/tf/sequential_model) model consists of three convolution blocks (`tf.tf.layers.Conv2D`) with a max pooling layer (`tf.tf.layers.MaxPooling2D`) in each of them. There's a fully-connected layer (`tf.tf.layers.Dense`) with 128 units on top of it that is activated by a ReLU activation function (`'relu'`). This model has not been tuned in any way—the goal is to show you the mechanics using the datasets you just created. To learn more about image classification, visit the [Image classification](../images/classification.ipynb) tutorial."
   ]
  },
  {
   "cell_type": "code",
   "execution_count": 25,
   "metadata": {},
   "outputs": [],
   "source": [
    "import tensorflow as tf\n",
    "import matplotlib.pyplot as plt\n",
    "from tensorflow import keras\n",
    "from sklearn.metrics import accuracy_score,f1_score,precision_score,recall_score\n",
    "\n",
    "from tensorflow.keras import Model\n",
    "from tensorflow.keras.models import Sequential\n",
    "from tensorflow.keras.losses import categorical_crossentropy\n",
    "from tensorflow.keras.layers import Dense, Flatten, Conv2D, AveragePooling2D, MaxPooling2D, BatchNormalization, Concatenate, Dropout, Activation, Input, ZeroPadding2D, LayerNormalization\n",
    "from tensorflow.keras.optimizers import Adam\n",
    "#from tensorflow.keras.metrics import Accuracy, Recall, Precision\n",
    "\n",
    "def recall(y_true, y_pred):\n",
    "    # y_true = keras.backend.ones_like(y_true) \n",
    "    # true_positives = keras.backend.sum(keras.backend.round(keras.backend.clip(y_true * y_pred, 0, 1)))\n",
    "    # all_positives = keras.backend.sum(keras.backend.round(keras.backend.clip(y_true, 0, 1)))\n",
    "    # print(y_pred)\n",
    "    # print(y_true)\n",
    "    # recall = true_positives / (all_positives + keras.backend.epsilon())\n",
    "    y_pred=y_pred.numpy()\n",
    "    y_true=y_true.numpy()\n",
    "    y_pred=np.argmax(y_pred, axis=-1)\n",
    "    return recall_score(y_true, y_pred,labels=[0,1,2], average='weighted')\n",
    "\n",
    "\n",
    "def precision(y_true, y_pred):\n",
    "    # y_true = keras.backend.ones_like(y_true) \n",
    "    # true_positives = keras.backend.sum(keras.backend.round(keras.backend.clip(y_true * y_pred, 0, 1)))\n",
    "    # print(true_positives)\n",
    "\n",
    "    # predicted_positives = keras.backend.sum(keras.backend.round(keras.backend.clip(y_pred, 0, 1)))\n",
    "    # precision = true_positives / (predicted_positives + keras.backend.epsilon())\n",
    "    y_pred=y_pred.numpy()\n",
    "    y_true=y_true.numpy()\n",
    "    y_pred=np.argmax(y_pred, axis=-1)\n",
    "    return precision_score(y_true, y_pred,labels=[0,1,2], average='weighted')\n",
    "\n",
    "def F1_score(y_true, y_pred):\n",
    "    # prec = precision(y_true, y_pred)\n",
    "    # rec = recall(y_true, y_pred)\n",
    "    y_pred=y_pred.numpy()\n",
    "    y_true=y_true.numpy()\n",
    "    y_pred=np.argmax(y_pred, axis=-1)\n",
    "    return f1_score(y_true, y_pred,labels=[0,1,2], average='weighted', )\n",
    "\n",
    "\n",
    "class FireModule(keras.layers.Layer):\n",
    "    def __init__(self, s1x1, e1x1, e3x3):\n",
    "        super(FireModule, self).__init__()\n",
    "        16,64,64\n",
    "        self.s1x1 = Conv2D(s1x1, kernel_size=(1, 1), padding='same', kernel_initializer='glorot_normal', activation='relu')\n",
    "        self.e1x1 = Conv2D(e1x1, kernel_size=(1, 1), padding='same', kernel_initializer='glorot_normal', activation='relu')\n",
    "        self.e3x3 = Conv2D(e3x3, kernel_size=(3, 3), padding='same', kernel_initializer='glorot_normal', activation='relu')\n",
    "        self.concat = Concatenate(axis=3)\n",
    "    \n",
    "    def get_config(self):\n",
    "        base_config = super(FireModule, self).get_config()\n",
    "        #base_config['output_dim'] = self.output_dim\n",
    "        return base_config\n",
    "\n",
    "    def call(self, inputs):\n",
    "        s1x1 = self.s1x1(inputs)\n",
    "        e1x1 = self.e1x1(s1x1)\n",
    "        e3x3 = self.e3x3(s1x1)\n",
    "        concat = self.concat([e1x1, e3x3])\n",
    "        return concat\n",
    "\n",
    "# def FireModule(s1, e1, e3, input):\n",
    "#     squeeze = Conv2D(s1, kernel_size=(1, 1), padding='same', kernel_initializer='glorot_normal', activation='relu')(input)\n",
    "#     expand1 = Conv2D(e1, kernel_size=(1, 1), padding='same', kernel_initializer='glorot_normal', activation='relu')(squeeze)\n",
    "#     expand3 = Conv2D(e3, kernel_size=(3, 3), padding='same', kernel_initializer='glorot_normal', activation='relu')(squeeze)\n",
    "#     concat = Concatenate(axis=1)([expand1, expand3])\n",
    "#     return concat\n",
    "\n",
    "def SqueezeNetV1_0(input_shape, nb_classes):\n",
    "    input = Input(input_shape)\n",
    "    padded = ZeroPadding2D((2, 2))(input)\n",
    "    conv1 = Conv2D(96, kernel_size=(7, 7), strides=(2,2),padding='valid', kernel_initializer='glorot_normal', activation='relu')(padded)\n",
    "    maxpool1 = MaxPooling2D(pool_size=(3, 3), strides=2)(conv1)\n",
    "    fire2 = FireModule(16, 64, 64)(maxpool1)\n",
    "    fire3 = FireModule(16, 64, 64)(fire2)\n",
    "    fire4 = FireModule(32, 128, 128)(fire3)\n",
    "    maxpool4 = MaxPooling2D(pool_size=(3, 3), strides=2)(fire4)\n",
    "    fire5 = FireModule(32, 128, 128)(maxpool4)\n",
    "    fire6 = FireModule(48, 192, 192)(fire5)\n",
    "    fire7 = FireModule(48, 192, 192)(fire6)\n",
    "    fire8 = FireModule(64, 256, 256)(fire7)\n",
    "    maxpool8 = MaxPooling2D(pool_size=(3, 3), strides=2)(fire8)\n",
    "    fire9 = FireModule(64, 256, 256)(maxpool8)\n",
    "    conv10 = Conv2D(1000, kernel_size=(1, 1), strides=1, padding='same', kernel_initializer='glorot_normal', activation='relu')(fire9)\n",
    "    avgpool10 = AveragePooling2D(conv10.get_shape()[1:3], strides=1)(conv10)\n",
    "    #reshaped = tf.squeeze(avgpool10, [1, 2])\n",
    "    flat = Flatten()(avgpool10)\n",
    "    # output = Activation('softmax')(flat)\n",
    "    output = Dense(nb_classes, activation='softmax', kernel_initializer='he_normal')(flat)\n",
    "\n",
    "\n",
    "    model = Model(input, output, name='SqueezeNetV1_0x' + str(IMG_SIZE))\n",
    "    model.compile(optimizer=Adam(learning_rate=0.001),\n",
    "                loss=tf.losses.SparseCategoricalCrossentropy(from_logits=True),\n",
    "                metrics=['accuracy'])\n",
    "    return model\n",
    "\n",
    "def SqueezeNetV1_1(input_shape, nb_classes):\n",
    "    input = Input(input_shape)\n",
    "    conv1 = Conv2D(64, kernel_size=(3, 3), strides=(2,2),padding='valid')(input)\n",
    "    maxpool1 = MaxPooling2D(pool_size=(3, 3), strides=2)(conv1)\n",
    "    fire2 = FireModule(16, 64, 64)(maxpool1)\n",
    "    fire3 = FireModule(16, 64, 64)(fire2)\n",
    "    maxpool3 = MaxPooling2D(pool_size=(3, 3), strides=2)(fire3)\n",
    "    fire4 = FireModule(32, 128, 128)(maxpool3)\n",
    "    fire5 = FireModule(32, 128, 128)(fire4)\n",
    "    maxpool5 = MaxPooling2D(pool_size=(3, 3), strides=2)(fire5)\n",
    "    fire6 = FireModule(48, 192, 192)(maxpool5)\n",
    "    fire7 = FireModule(48, 192, 192)(fire6)\n",
    "    fire8 = FireModule(64, 256, 256)(fire7)\n",
    "    fire9 = FireModule(64, 256, 256)(fire8)\n",
    "    dropout9 = Dropout(0.8)(fire9)\n",
    "    conv10 = Conv2D(nb_classes, kernel_size=(1, 1), strides=1, padding='same', activation=None)(dropout9)\n",
    "    avgpool10 = AveragePooling2D(conv10.get_shape()[1:3])(conv10)\n",
    "    #reshaped10 = Flatten()(avgpool10)\n",
    "    output = Flatten()(avgpool10)\n",
    "    #output = Activation('softmax')(reshaped10)\n",
    "    #output = Dense(nb_classes, activation='softmax', kernel_initializer='he_normal')(reshaped10)\n",
    "\n",
    "    model = Model(input, output, name='SqueezeNetV1_1x' + str(IMG_SIZE))\n",
    "    model.compile(optimizer='adam',\n",
    "                loss=tf.losses.SparseCategoricalCrossentropy(from_logits=True),\n",
    "                metrics=['accuracy', precision, recall, F1_score])\n",
    "    return model\n",
    "\n",
    "\n",
    "def FLSCNN(input_shape, nb_classes):\n",
    "    input = Input(input_shape)\n",
    "\n",
    "    conv1 = Conv2D(8, kernel_size=(5, 5),activation='relu')(input)\n",
    "    bn1 = LayerNormalization()(conv1)\n",
    "    \n",
    "    maxpool1 = MaxPooling2D(pool_size=(4, 4), strides=2, padding='same')(bn1)\n",
    "    \n",
    "    conv2 = Conv2D(16, kernel_size=(5, 5), activation='relu')(maxpool1)\n",
    "    bn2 = LayerNormalization()(conv2)\n",
    "\n",
    "    maxpool2 = MaxPooling2D(pool_size=(4, 4), strides=2, padding='same')(bn2)\n",
    "    \n",
    "    conv3 = Conv2D(16, kernel_size=(5, 5), activation='relu')(maxpool2)\n",
    "    bn3 = LayerNormalization()(conv3)\n",
    "\n",
    "    maxpool3 = MaxPooling2D(pool_size=(3, 3), strides=2)(bn3)\n",
    "\n",
    "    conv4 = Conv2D(32, kernel_size=(5, 5), activation='relu')(maxpool3)\n",
    "    bn4 = LayerNormalization()(conv4)\n",
    "\n",
    "    maxpool4 = MaxPooling2D(pool_size=(5, 5), strides=2, padding='same')(bn4)\n",
    "\n",
    "    conv5 = Conv2D(32, kernel_size=(1, 1), activation='relu', padding='same')(maxpool4)\n",
    "    bn5 = LayerNormalization()(conv5)\n",
    "\n",
    "    maxpool5 = MaxPooling2D(pool_size=(3, 3), strides=2, padding='valid')(bn5)\n",
    "\n",
    "    #maxpool6 = MaxPooling2D(pool_size=(3, 3), strides=1, padding='valid')(maxpool5)\n",
    "\n",
    "    fc1 = Dense(32, activation='tanh',)(maxpool5)\n",
    "    fc2 = Dense(4, activation='tanh',)(fc1)\n",
    "    fc3 = Dense(nb_classes, activation='softmax',)(fc2)\n",
    "\n",
    "    output = Flatten()(fc3)\n",
    "\n",
    "    model = Model(input, output, name='FLSCNNx' + str(IMG_SIZE))\n",
    "    model.compile(optimizer=Adam(learning_rate=0.09),\n",
    "                loss=tf.losses.SparseCategoricalCrossentropy(from_logits=True),\n",
    "                metrics=['accuracy'])\n",
    "    return model"
   ]
  },
  {
   "cell_type": "markdown",
   "metadata": {
    "id": "d83f5aa7f3fb"
   },
   "source": [
    "Choose the `tf.keras.optimizers.Adam` optimizer and `tf.keras.losses.SparseCategoricalCrossentropy` loss function. To view training and validation accuracy for each training epoch, pass the `metrics` argument to `Model.compile`."
   ]
  },
  {
   "cell_type": "code",
   "execution_count": 26,
   "metadata": {},
   "outputs": [],
   "source": [
    "for images, labels in train_ds.take(1):\n",
    "    pass\n"
   ]
  },
  {
   "cell_type": "code",
   "execution_count": 27,
   "metadata": {
    "execution": {
     "iopub.execute_input": "2022-01-26T06:29:38.121144Z",
     "iopub.status.busy": "2022-01-26T06:29:38.120510Z",
     "iopub.status.idle": "2022-01-26T06:29:38.126328Z",
     "shell.execute_reply": "2022-01-26T06:29:38.126669Z"
    },
    "id": "t_BlmsnmsEr4"
   },
   "outputs": [
    {
     "name": "stdout",
     "output_type": "stream",
     "text": [
      "Model: \"SqueezeNetV1_1x224\"\n",
      "_________________________________________________________________\n",
      "Layer (type)                 Output Shape              Param #   \n",
      "=================================================================\n",
      "input_1 (InputLayer)         [(None, 224, 224, 3)]     0         \n",
      "_________________________________________________________________\n",
      "conv2d (Conv2D)              (None, 111, 111, 64)      1792      \n",
      "_________________________________________________________________\n",
      "max_pooling2d (MaxPooling2D) (None, 55, 55, 64)        0         \n",
      "_________________________________________________________________\n",
      "fire_module (FireModule)     (None, 55, 55, 128)       11408     \n",
      "_________________________________________________________________\n",
      "fire_module_1 (FireModule)   (None, 55, 55, 128)       12432     \n",
      "_________________________________________________________________\n",
      "max_pooling2d_1 (MaxPooling2 (None, 27, 27, 128)       0         \n",
      "_________________________________________________________________\n",
      "fire_module_2 (FireModule)   (None, 27, 27, 256)       45344     \n",
      "_________________________________________________________________\n",
      "fire_module_3 (FireModule)   (None, 27, 27, 256)       49440     \n",
      "_________________________________________________________________\n",
      "max_pooling2d_2 (MaxPooling2 (None, 13, 13, 256)       0         \n",
      "_________________________________________________________________\n",
      "fire_module_4 (FireModule)   (None, 13, 13, 384)       104880    \n",
      "_________________________________________________________________\n",
      "fire_module_5 (FireModule)   (None, 13, 13, 384)       111024    \n",
      "_________________________________________________________________\n",
      "fire_module_6 (FireModule)   (None, 13, 13, 512)       188992    \n",
      "_________________________________________________________________\n",
      "fire_module_7 (FireModule)   (None, 13, 13, 512)       197184    \n",
      "_________________________________________________________________\n",
      "dropout (Dropout)            (None, 13, 13, 512)       0         \n",
      "_________________________________________________________________\n",
      "conv2d_25 (Conv2D)           (None, 13, 13, 3)         1539      \n",
      "_________________________________________________________________\n",
      "average_pooling2d (AveragePo (None, 1, 1, 3)           0         \n",
      "_________________________________________________________________\n",
      "flatten (Flatten)            (None, 3)                 0         \n",
      "=================================================================\n",
      "Total params: 724,035\n",
      "Trainable params: 724,035\n",
      "Non-trainable params: 0\n",
      "_________________________________________________________________\n"
     ]
    }
   ],
   "source": [
    "model = SqueezeNetV1_1((224,224,3), NUM_CLASSES)\n",
    "model.summary()"
   ]
  },
  {
   "cell_type": "markdown",
   "metadata": {
    "id": "ffwd44ldNMOE"
   },
   "source": [
    "Note: You will only train for a few epochs so this tutorial runs quickly. "
   ]
  },
  {
   "cell_type": "code",
   "execution_count": 28,
   "metadata": {
    "collapsed": false
   },
   "outputs": [],
   "source": [
    "import datetime\n",
    "# Place the logs in a timestamped subdirectory\n",
    "# This allows to easy select different training runs\n",
    "# In order not to overwrite some data, it is useful to have a name with a timestamp\n",
    "log_dir=\"logs/fit/\" + datetime.datetime.now().strftime(\"%Y%m%d-%H%M%S\")\n",
    "# Specify the callback object\n",
    "tensorboard_callback = tf.keras.callbacks.TensorBoard(log_dir=log_dir, histogram_freq=1, profile_batch = (50,80))\n",
    "\n",
    "# tf.keras.callback.TensorBoard ensures that logs are created and stored\n",
    "# We need to pass callback object to the fit method\n",
    "# The way to do this is by passing the list of callback objects, which is in our case just one"
   ]
  },
  {
   "cell_type": "code",
   "execution_count": 29,
   "metadata": {},
   "outputs": [],
   "source": [
    "checkpoint_path = \"training_1/cp.ckpt\"\n",
    "checkpoint_dir = os.path.dirname(checkpoint_path)\n",
    "\n",
    "# Create a callback that saves the model's weights\n",
    "cp_callback = tf.keras.callbacks.ModelCheckpoint(filepath=checkpoint_path,\n",
    "                                                 save_weights_only=True,\n",
    "                                                 verbose=1)\n"
   ]
  },
  {
   "cell_type": "code",
   "execution_count": 30,
   "metadata": {},
   "outputs": [],
   "source": [
    "tf.config.run_functions_eagerly(True)"
   ]
  },
  {
   "cell_type": "code",
   "execution_count": 31,
   "metadata": {
    "execution": {
     "iopub.execute_input": "2022-01-26T06:29:38.130807Z",
     "iopub.status.busy": "2022-01-26T06:29:38.130262Z",
     "iopub.status.idle": "2022-01-26T06:29:44.478265Z",
     "shell.execute_reply": "2022-01-26T06:29:44.478658Z"
    },
    "id": "S08ZKKODsnGW"
   },
   "outputs": [
    {
     "name": "stdout",
     "output_type": "stream",
     "text": [
      "Epoch 1/40\n",
      "  2/128 [..............................] - ETA: 1:35 - loss: 1.0418 - accuracy: 0.4141 - precision: 0.5151 - recall: 0.4141 - F1_score: 0.2693 "
     ]
    },
    {
     "name": "stderr",
     "output_type": "stream",
     "text": [
      "C:\\Users\\Fat7y\\AppData\\Local\\Temp\\tmpvm54tj9k.py:42: UndefinedMetricWarning: Precision is ill-defined and being set to 0.0 in labels with no predicted samples. Use `zero_division` parameter to control this behavior.\n",
      "  ag__.converted_call(ag__.ld(warnings).warn, (ag__.ld(msg), ag__.ld(UndefinedMetricWarning)), dict(stacklevel=2), fscope)\n"
     ]
    },
    {
     "name": "stdout",
     "output_type": "stream",
     "text": [
      "  3/128 [..............................] - ETA: 1:18 - loss: 1.0636 - accuracy: 0.4531 - precision: 0.4375 - recall: 0.4531 - F1_score: 0.3024"
     ]
    },
    {
     "name": "stderr",
     "output_type": "stream",
     "text": [
      "C:\\Users\\Fat7y\\AppData\\Local\\Temp\\tmpvm54tj9k.py:42: UndefinedMetricWarning: Precision is ill-defined and being set to 0.0 in labels with no predicted samples. Use `zero_division` parameter to control this behavior.\n",
      "  ag__.converted_call(ag__.ld(warnings).warn, (ag__.ld(msg), ag__.ld(UndefinedMetricWarning)), dict(stacklevel=2), fscope)\n",
      "C:\\Users\\Fat7y\\AppData\\Local\\Temp\\tmpvm54tj9k.py:42: UndefinedMetricWarning: Precision is ill-defined and being set to 0.0 in labels with no predicted samples. Use `zero_division` parameter to control this behavior.\n",
      "  ag__.converted_call(ag__.ld(warnings).warn, (ag__.ld(msg), ag__.ld(UndefinedMetricWarning)), dict(stacklevel=2), fscope)\n"
     ]
    },
    {
     "name": "stdout",
     "output_type": "stream",
     "text": [
      "  4/128 [..............................] - ETA: 1:16 - loss: 1.0642 - accuracy: 0.4609 - precision: 0.3868 - recall: 0.4609 - F1_score: 0.3059"
     ]
    },
    {
     "name": "stderr",
     "output_type": "stream",
     "text": [
      "C:\\Users\\Fat7y\\AppData\\Local\\Temp\\tmpvm54tj9k.py:42: UndefinedMetricWarning: Precision is ill-defined and being set to 0.0 in labels with no predicted samples. Use `zero_division` parameter to control this behavior.\n",
      "  ag__.converted_call(ag__.ld(warnings).warn, (ag__.ld(msg), ag__.ld(UndefinedMetricWarning)), dict(stacklevel=2), fscope)\n"
     ]
    },
    {
     "name": "stdout",
     "output_type": "stream",
     "text": [
      "  5/128 [>.............................] - ETA: 1:13 - loss: 1.0513 - accuracy: 0.4812 - precision: 0.3727 - recall: 0.4812 - F1_score: 0.3257"
     ]
    },
    {
     "name": "stderr",
     "output_type": "stream",
     "text": [
      "C:\\Users\\Fat7y\\AppData\\Local\\Temp\\tmpvm54tj9k.py:42: UndefinedMetricWarning: Precision is ill-defined and being set to 0.0 in labels with no predicted samples. Use `zero_division` parameter to control this behavior.\n",
      "  ag__.converted_call(ag__.ld(warnings).warn, (ag__.ld(msg), ag__.ld(UndefinedMetricWarning)), dict(stacklevel=2), fscope)\n"
     ]
    },
    {
     "name": "stdout",
     "output_type": "stream",
     "text": [
      "  6/128 [>.............................] - ETA: 1:12 - loss: 1.1004 - accuracy: 0.4818 - precision: 0.3497 - recall: 0.4818 - F1_score: 0.3241"
     ]
    },
    {
     "name": "stderr",
     "output_type": "stream",
     "text": [
      "C:\\Users\\Fat7y\\AppData\\Local\\Temp\\tmpvm54tj9k.py:42: UndefinedMetricWarning: Precision is ill-defined and being set to 0.0 in labels with no predicted samples. Use `zero_division` parameter to control this behavior.\n",
      "  ag__.converted_call(ag__.ld(warnings).warn, (ag__.ld(msg), ag__.ld(UndefinedMetricWarning)), dict(stacklevel=2), fscope)\n"
     ]
    },
    {
     "name": "stdout",
     "output_type": "stream",
     "text": [
      "  8/128 [>.............................] - ETA: 1:11 - loss: 1.0934 - accuracy: 0.4766 - precision: 0.3155 - recall: 0.4766 - F1_score: 0.3159"
     ]
    },
    {
     "name": "stderr",
     "output_type": "stream",
     "text": [
      "C:\\Users\\Fat7y\\AppData\\Local\\Temp\\tmpvm54tj9k.py:42: UndefinedMetricWarning: Precision is ill-defined and being set to 0.0 in labels with no predicted samples. Use `zero_division` parameter to control this behavior.\n",
      "  ag__.converted_call(ag__.ld(warnings).warn, (ag__.ld(msg), ag__.ld(UndefinedMetricWarning)), dict(stacklevel=2), fscope)\n",
      "C:\\Users\\Fat7y\\AppData\\Local\\Temp\\tmpvm54tj9k.py:42: UndefinedMetricWarning: Precision is ill-defined and being set to 0.0 in labels with no predicted samples. Use `zero_division` parameter to control this behavior.\n",
      "  ag__.converted_call(ag__.ld(warnings).warn, (ag__.ld(msg), ag__.ld(UndefinedMetricWarning)), dict(stacklevel=2), fscope)\n"
     ]
    },
    {
     "name": "stdout",
     "output_type": "stream",
     "text": [
      "  9/128 [=>............................] - ETA: 1:12 - loss: 1.0917 - accuracy: 0.4826 - precision: 0.3118 - recall: 0.4826 - F1_score: 0.3217"
     ]
    },
    {
     "name": "stderr",
     "output_type": "stream",
     "text": [
      "C:\\Users\\Fat7y\\AppData\\Local\\Temp\\tmpvm54tj9k.py:42: UndefinedMetricWarning: Precision is ill-defined and being set to 0.0 in labels with no predicted samples. Use `zero_division` parameter to control this behavior.\n",
      "  ag__.converted_call(ag__.ld(warnings).warn, (ag__.ld(msg), ag__.ld(UndefinedMetricWarning)), dict(stacklevel=2), fscope)\n"
     ]
    },
    {
     "name": "stdout",
     "output_type": "stream",
     "text": [
      " 10/128 [=>............................] - ETA: 1:14 - loss: 1.0911 - accuracy: 0.4797 - precision: 0.3012 - recall: 0.4797 - F1_score: 0.3178"
     ]
    },
    {
     "name": "stderr",
     "output_type": "stream",
     "text": [
      "C:\\Users\\Fat7y\\AppData\\Local\\Temp\\tmpvm54tj9k.py:42: UndefinedMetricWarning: Precision is ill-defined and being set to 0.0 in labels with no predicted samples. Use `zero_division` parameter to control this behavior.\n",
      "  ag__.converted_call(ag__.ld(warnings).warn, (ag__.ld(msg), ag__.ld(UndefinedMetricWarning)), dict(stacklevel=2), fscope)\n"
     ]
    },
    {
     "name": "stdout",
     "output_type": "stream",
     "text": [
      " 11/128 [=>............................] - ETA: 1:13 - loss: 1.0908 - accuracy: 0.4759 - precision: 0.2912 - recall: 0.4759 - F1_score: 0.3131"
     ]
    },
    {
     "name": "stderr",
     "output_type": "stream",
     "text": [
      "C:\\Users\\Fat7y\\AppData\\Local\\Temp\\tmpvm54tj9k.py:42: UndefinedMetricWarning: Precision is ill-defined and being set to 0.0 in labels with no predicted samples. Use `zero_division` parameter to control this behavior.\n",
      "  ag__.converted_call(ag__.ld(warnings).warn, (ag__.ld(msg), ag__.ld(UndefinedMetricWarning)), dict(stacklevel=2), fscope)\n"
     ]
    },
    {
     "name": "stdout",
     "output_type": "stream",
     "text": [
      " 12/128 [=>............................] - ETA: 1:12 - loss: 1.0877 - accuracy: 0.4974 - precision: 0.3119 - recall: 0.4974 - F1_score: 0.3389"
     ]
    },
    {
     "name": "stderr",
     "output_type": "stream",
     "text": [
      "C:\\Users\\Fat7y\\AppData\\Local\\Temp\\tmpvm54tj9k.py:42: UndefinedMetricWarning: Precision is ill-defined and being set to 0.0 in labels with no predicted samples. Use `zero_division` parameter to control this behavior.\n",
      "  ag__.converted_call(ag__.ld(warnings).warn, (ag__.ld(msg), ag__.ld(UndefinedMetricWarning)), dict(stacklevel=2), fscope)\n"
     ]
    },
    {
     "name": "stdout",
     "output_type": "stream",
     "text": [
      " 13/128 [==>...........................] - ETA: 1:11 - loss: 1.0877 - accuracy: 0.4916 - precision: 0.3016 - recall: 0.4916 - F1_score: 0.3321"
     ]
    },
    {
     "name": "stderr",
     "output_type": "stream",
     "text": [
      "C:\\Users\\Fat7y\\AppData\\Local\\Temp\\tmpvm54tj9k.py:42: UndefinedMetricWarning: Precision is ill-defined and being set to 0.0 in labels with no predicted samples. Use `zero_division` parameter to control this behavior.\n",
      "  ag__.converted_call(ag__.ld(warnings).warn, (ag__.ld(msg), ag__.ld(UndefinedMetricWarning)), dict(stacklevel=2), fscope)\n"
     ]
    },
    {
     "name": "stdout",
     "output_type": "stream",
     "text": [
      " 14/128 [==>...........................] - ETA: 1:12 - loss: 1.0853 - accuracy: 0.5000 - precision: 0.3065 - recall: 0.5000 - F1_score: 0.3413"
     ]
    },
    {
     "name": "stderr",
     "output_type": "stream",
     "text": [
      "C:\\Users\\Fat7y\\AppData\\Local\\Temp\\tmpvm54tj9k.py:42: UndefinedMetricWarning: Precision is ill-defined and being set to 0.0 in labels with no predicted samples. Use `zero_division` parameter to control this behavior.\n",
      "  ag__.converted_call(ag__.ld(warnings).warn, (ag__.ld(msg), ag__.ld(UndefinedMetricWarning)), dict(stacklevel=2), fscope)\n"
     ]
    },
    {
     "name": "stdout",
     "output_type": "stream",
     "text": [
      " 15/128 [==>...........................] - ETA: 1:14 - loss: 1.0830 - accuracy: 0.5042 - precision: 0.3072 - recall: 0.5042 - F1_score: 0.3455"
     ]
    },
    {
     "name": "stderr",
     "output_type": "stream",
     "text": [
      "C:\\Users\\Fat7y\\AppData\\Local\\Temp\\tmpvm54tj9k.py:42: UndefinedMetricWarning: Precision is ill-defined and being set to 0.0 in labels with no predicted samples. Use `zero_division` parameter to control this behavior.\n",
      "  ag__.converted_call(ag__.ld(warnings).warn, (ag__.ld(msg), ag__.ld(UndefinedMetricWarning)), dict(stacklevel=2), fscope)\n"
     ]
    },
    {
     "name": "stdout",
     "output_type": "stream",
     "text": [
      " 16/128 [==>...........................] - ETA: 1:12 - loss: 1.0780 - accuracy: 0.5127 - precision: 0.3137 - recall: 0.5127 - F1_score: 0.3552"
     ]
    },
    {
     "name": "stderr",
     "output_type": "stream",
     "text": [
      "C:\\Users\\Fat7y\\AppData\\Local\\Temp\\tmpvm54tj9k.py:42: UndefinedMetricWarning: Precision is ill-defined and being set to 0.0 in labels with no predicted samples. Use `zero_division` parameter to control this behavior.\n",
      "  ag__.converted_call(ag__.ld(warnings).warn, (ag__.ld(msg), ag__.ld(UndefinedMetricWarning)), dict(stacklevel=2), fscope)\n"
     ]
    },
    {
     "name": "stdout",
     "output_type": "stream",
     "text": [
      " 17/128 [==>...........................] - ETA: 1:10 - loss: 1.0753 - accuracy: 0.5129 - precision: 0.3108 - recall: 0.5129 - F1_score: 0.3550"
     ]
    },
    {
     "name": "stderr",
     "output_type": "stream",
     "text": [
      "C:\\Users\\Fat7y\\AppData\\Local\\Temp\\tmpvm54tj9k.py:42: UndefinedMetricWarning: Precision is ill-defined and being set to 0.0 in labels with no predicted samples. Use `zero_division` parameter to control this behavior.\n",
      "  ag__.converted_call(ag__.ld(warnings).warn, (ag__.ld(msg), ag__.ld(UndefinedMetricWarning)), dict(stacklevel=2), fscope)\n"
     ]
    },
    {
     "name": "stdout",
     "output_type": "stream",
     "text": [
      " 18/128 [===>..........................] - ETA: 1:11 - loss: 1.0703 - accuracy: 0.5165 - precision: 0.3121 - recall: 0.5165 - F1_score: 0.3588"
     ]
    },
    {
     "name": "stderr",
     "output_type": "stream",
     "text": [
      "C:\\Users\\Fat7y\\AppData\\Local\\Temp\\tmpvm54tj9k.py:42: UndefinedMetricWarning: Precision is ill-defined and being set to 0.0 in labels with no predicted samples. Use `zero_division` parameter to control this behavior.\n",
      "  ag__.converted_call(ag__.ld(warnings).warn, (ag__.ld(msg), ag__.ld(UndefinedMetricWarning)), dict(stacklevel=2), fscope)\n"
     ]
    },
    {
     "name": "stdout",
     "output_type": "stream",
     "text": [
      " 19/128 [===>..........................] - ETA: 1:09 - loss: 1.0729 - accuracy: 0.5123 - precision: 0.3058 - recall: 0.5123 - F1_score: 0.3539"
     ]
    },
    {
     "name": "stderr",
     "output_type": "stream",
     "text": [
      "C:\\Users\\Fat7y\\AppData\\Local\\Temp\\tmpvm54tj9k.py:42: UndefinedMetricWarning: Precision is ill-defined and being set to 0.0 in labels with no predicted samples. Use `zero_division` parameter to control this behavior.\n",
      "  ag__.converted_call(ag__.ld(warnings).warn, (ag__.ld(msg), ag__.ld(UndefinedMetricWarning)), dict(stacklevel=2), fscope)\n"
     ]
    },
    {
     "name": "stdout",
     "output_type": "stream",
     "text": [
      " 20/128 [===>..........................] - ETA: 1:08 - loss: 1.0716 - accuracy: 0.5102 - precision: 0.3015 - recall: 0.5102 - F1_score: 0.3512"
     ]
    },
    {
     "name": "stderr",
     "output_type": "stream",
     "text": [
      "C:\\Users\\Fat7y\\AppData\\Local\\Temp\\tmpvm54tj9k.py:42: UndefinedMetricWarning: Precision is ill-defined and being set to 0.0 in labels with no predicted samples. Use `zero_division` parameter to control this behavior.\n",
      "  ag__.converted_call(ag__.ld(warnings).warn, (ag__.ld(msg), ag__.ld(UndefinedMetricWarning)), dict(stacklevel=2), fscope)\n"
     ]
    },
    {
     "name": "stdout",
     "output_type": "stream",
     "text": [
      " 21/128 [===>..........................] - ETA: 1:07 - loss: 1.0710 - accuracy: 0.5082 - precision: 0.2976 - recall: 0.5082 - F1_score: 0.3487"
     ]
    },
    {
     "name": "stderr",
     "output_type": "stream",
     "text": [
      "C:\\Users\\Fat7y\\AppData\\Local\\Temp\\tmpvm54tj9k.py:42: UndefinedMetricWarning: Precision is ill-defined and being set to 0.0 in labels with no predicted samples. Use `zero_division` parameter to control this behavior.\n",
      "  ag__.converted_call(ag__.ld(warnings).warn, (ag__.ld(msg), ag__.ld(UndefinedMetricWarning)), dict(stacklevel=2), fscope)\n"
     ]
    },
    {
     "name": "stdout",
     "output_type": "stream",
     "text": [
      " 22/128 [====>.........................] - ETA: 1:07 - loss: 1.0702 - accuracy: 0.5078 - precision: 0.2954 - recall: 0.5078 - F1_score: 0.3480"
     ]
    },
    {
     "name": "stderr",
     "output_type": "stream",
     "text": [
      "C:\\Users\\Fat7y\\AppData\\Local\\Temp\\tmpvm54tj9k.py:42: UndefinedMetricWarning: Precision is ill-defined and being set to 0.0 in labels with no predicted samples. Use `zero_division` parameter to control this behavior.\n",
      "  ag__.converted_call(ag__.ld(warnings).warn, (ag__.ld(msg), ag__.ld(UndefinedMetricWarning)), dict(stacklevel=2), fscope)\n"
     ]
    },
    {
     "name": "stdout",
     "output_type": "stream",
     "text": [
      " 23/128 [====>.........................] - ETA: 1:06 - loss: 1.0695 - accuracy: 0.5075 - precision: 0.2935 - recall: 0.5075 - F1_score: 0.3474"
     ]
    },
    {
     "name": "stderr",
     "output_type": "stream",
     "text": [
      "C:\\Users\\Fat7y\\AppData\\Local\\Temp\\tmpvm54tj9k.py:42: UndefinedMetricWarning: Precision is ill-defined and being set to 0.0 in labels with no predicted samples. Use `zero_division` parameter to control this behavior.\n",
      "  ag__.converted_call(ag__.ld(warnings).warn, (ag__.ld(msg), ag__.ld(UndefinedMetricWarning)), dict(stacklevel=2), fscope)\n"
     ]
    },
    {
     "name": "stdout",
     "output_type": "stream",
     "text": [
      " 24/128 [====>.........................] - ETA: 1:05 - loss: 1.0684 - accuracy: 0.5091 - precision: 0.2937 - recall: 0.5091 - F1_score: 0.3490"
     ]
    },
    {
     "name": "stderr",
     "output_type": "stream",
     "text": [
      "C:\\Users\\Fat7y\\AppData\\Local\\Temp\\tmpvm54tj9k.py:42: UndefinedMetricWarning: Precision is ill-defined and being set to 0.0 in labels with no predicted samples. Use `zero_division` parameter to control this behavior.\n",
      "  ag__.converted_call(ag__.ld(warnings).warn, (ag__.ld(msg), ag__.ld(UndefinedMetricWarning)), dict(stacklevel=2), fscope)\n"
     ]
    },
    {
     "name": "stdout",
     "output_type": "stream",
     "text": [
      " 26/128 [=====>........................] - ETA: 1:03 - loss: 1.0664 - accuracy: 0.5120 - precision: 0.2942 - recall: 0.5120 - F1_score: 0.3519"
     ]
    },
    {
     "name": "stderr",
     "output_type": "stream",
     "text": [
      "C:\\Users\\Fat7y\\AppData\\Local\\Temp\\tmpvm54tj9k.py:42: UndefinedMetricWarning: Precision is ill-defined and being set to 0.0 in labels with no predicted samples. Use `zero_division` parameter to control this behavior.\n",
      "  ag__.converted_call(ag__.ld(warnings).warn, (ag__.ld(msg), ag__.ld(UndefinedMetricWarning)), dict(stacklevel=2), fscope)\n",
      "C:\\Users\\Fat7y\\AppData\\Local\\Temp\\tmpvm54tj9k.py:42: UndefinedMetricWarning: Precision is ill-defined and being set to 0.0 in labels with no predicted samples. Use `zero_division` parameter to control this behavior.\n",
      "  ag__.converted_call(ag__.ld(warnings).warn, (ag__.ld(msg), ag__.ld(UndefinedMetricWarning)), dict(stacklevel=2), fscope)\n"
     ]
    },
    {
     "name": "stdout",
     "output_type": "stream",
     "text": [
      " 27/128 [=====>........................] - ETA: 1:05 - loss: 1.0677 - accuracy: 0.5064 - precision: 0.2881 - recall: 0.5064 - F1_score: 0.3459"
     ]
    },
    {
     "name": "stderr",
     "output_type": "stream",
     "text": [
      "C:\\Users\\Fat7y\\AppData\\Local\\Temp\\tmpvm54tj9k.py:42: UndefinedMetricWarning: Precision is ill-defined and being set to 0.0 in labels with no predicted samples. Use `zero_division` parameter to control this behavior.\n",
      "  ag__.converted_call(ag__.ld(warnings).warn, (ag__.ld(msg), ag__.ld(UndefinedMetricWarning)), dict(stacklevel=2), fscope)\n"
     ]
    },
    {
     "name": "stdout",
     "output_type": "stream",
     "text": [
      " 28/128 [=====>........................] - ETA: 1:04 - loss: 1.0677 - accuracy: 0.5045 - precision: 0.2851 - recall: 0.5045 - F1_score: 0.3437"
     ]
    },
    {
     "name": "stderr",
     "output_type": "stream",
     "text": [
      "C:\\Users\\Fat7y\\AppData\\Local\\Temp\\tmpvm54tj9k.py:42: UndefinedMetricWarning: Precision is ill-defined and being set to 0.0 in labels with no predicted samples. Use `zero_division` parameter to control this behavior.\n",
      "  ag__.converted_call(ag__.ld(warnings).warn, (ag__.ld(msg), ag__.ld(UndefinedMetricWarning)), dict(stacklevel=2), fscope)\n"
     ]
    },
    {
     "name": "stdout",
     "output_type": "stream",
     "text": [
      " 29/128 [=====>........................] - ETA: 1:04 - loss: 1.0682 - accuracy: 0.5016 - precision: 0.2814 - recall: 0.5016 - F1_score: 0.3405"
     ]
    },
    {
     "name": "stderr",
     "output_type": "stream",
     "text": [
      "C:\\Users\\Fat7y\\AppData\\Local\\Temp\\tmpvm54tj9k.py:42: UndefinedMetricWarning: Precision is ill-defined and being set to 0.0 in labels with no predicted samples. Use `zero_division` parameter to control this behavior.\n",
      "  ag__.converted_call(ag__.ld(warnings).warn, (ag__.ld(msg), ag__.ld(UndefinedMetricWarning)), dict(stacklevel=2), fscope)\n"
     ]
    },
    {
     "name": "stdout",
     "output_type": "stream",
     "text": [
      " 30/128 [======>.......................] - ETA: 1:03 - loss: 1.0685 - accuracy: 0.4990 - precision: 0.2780 - recall: 0.4990 - F1_score: 0.3375"
     ]
    },
    {
     "name": "stderr",
     "output_type": "stream",
     "text": [
      "C:\\Users\\Fat7y\\AppData\\Local\\Temp\\tmpvm54tj9k.py:42: UndefinedMetricWarning: Precision is ill-defined and being set to 0.0 in labels with no predicted samples. Use `zero_division` parameter to control this behavior.\n",
      "  ag__.converted_call(ag__.ld(warnings).warn, (ag__.ld(msg), ag__.ld(UndefinedMetricWarning)), dict(stacklevel=2), fscope)\n"
     ]
    },
    {
     "name": "stdout",
     "output_type": "stream",
     "text": [
      " 31/128 [======>.......................] - ETA: 1:02 - loss: 1.0678 - accuracy: 0.4995 - precision: 0.2776 - recall: 0.4995 - F1_score: 0.3379"
     ]
    },
    {
     "name": "stderr",
     "output_type": "stream",
     "text": [
      "C:\\Users\\Fat7y\\AppData\\Local\\Temp\\tmpvm54tj9k.py:42: UndefinedMetricWarning: Precision is ill-defined and being set to 0.0 in labels with no predicted samples. Use `zero_division` parameter to control this behavior.\n",
      "  ag__.converted_call(ag__.ld(warnings).warn, (ag__.ld(msg), ag__.ld(UndefinedMetricWarning)), dict(stacklevel=2), fscope)\n"
     ]
    },
    {
     "name": "stdout",
     "output_type": "stream",
     "text": [
      " 32/128 [======>.......................] - ETA: 1:01 - loss: 1.0682 - accuracy: 0.4971 - precision: 0.2745 - recall: 0.4971 - F1_score: 0.3352"
     ]
    },
    {
     "name": "stderr",
     "output_type": "stream",
     "text": [
      "C:\\Users\\Fat7y\\AppData\\Local\\Temp\\tmpvm54tj9k.py:42: UndefinedMetricWarning: Precision is ill-defined and being set to 0.0 in labels with no predicted samples. Use `zero_division` parameter to control this behavior.\n",
      "  ag__.converted_call(ag__.ld(warnings).warn, (ag__.ld(msg), ag__.ld(UndefinedMetricWarning)), dict(stacklevel=2), fscope)\n"
     ]
    },
    {
     "name": "stdout",
     "output_type": "stream",
     "text": [
      " 33/128 [======>.......................] - ETA: 1:00 - loss: 1.0684 - accuracy: 0.4957 - precision: 0.2724 - recall: 0.4957 - F1_score: 0.3336"
     ]
    },
    {
     "name": "stderr",
     "output_type": "stream",
     "text": [
      "C:\\Users\\Fat7y\\AppData\\Local\\Temp\\tmpvm54tj9k.py:42: UndefinedMetricWarning: Precision is ill-defined and being set to 0.0 in labels with no predicted samples. Use `zero_division` parameter to control this behavior.\n",
      "  ag__.converted_call(ag__.ld(warnings).warn, (ag__.ld(msg), ag__.ld(UndefinedMetricWarning)), dict(stacklevel=2), fscope)\n"
     ]
    },
    {
     "name": "stdout",
     "output_type": "stream",
     "text": [
      " 34/128 [======>.......................] - ETA: 1:00 - loss: 1.0671 - accuracy: 0.4972 - precision: 0.2732 - recall: 0.4972 - F1_score: 0.3351"
     ]
    },
    {
     "name": "stderr",
     "output_type": "stream",
     "text": [
      "C:\\Users\\Fat7y\\AppData\\Local\\Temp\\tmpvm54tj9k.py:42: UndefinedMetricWarning: Precision is ill-defined and being set to 0.0 in labels with no predicted samples. Use `zero_division` parameter to control this behavior.\n",
      "  ag__.converted_call(ag__.ld(warnings).warn, (ag__.ld(msg), ag__.ld(UndefinedMetricWarning)), dict(stacklevel=2), fscope)\n"
     ]
    },
    {
     "name": "stdout",
     "output_type": "stream",
     "text": [
      " 35/128 [=======>......................] - ETA: 59s - loss: 1.0647 - accuracy: 0.5013 - precision: 0.2771 - recall: 0.5013 - F1_score: 0.3398 "
     ]
    },
    {
     "name": "stderr",
     "output_type": "stream",
     "text": [
      "C:\\Users\\Fat7y\\AppData\\Local\\Temp\\tmpvm54tj9k.py:42: UndefinedMetricWarning: Precision is ill-defined and being set to 0.0 in labels with no predicted samples. Use `zero_division` parameter to control this behavior.\n",
      "  ag__.converted_call(ag__.ld(warnings).warn, (ag__.ld(msg), ag__.ld(UndefinedMetricWarning)), dict(stacklevel=2), fscope)\n"
     ]
    },
    {
     "name": "stdout",
     "output_type": "stream",
     "text": [
      " 36/128 [=======>......................] - ETA: 59s - loss: 1.0646 - accuracy: 0.5000 - precision: 0.2751 - recall: 0.5000 - F1_score: 0.3383"
     ]
    },
    {
     "name": "stderr",
     "output_type": "stream",
     "text": [
      "C:\\Users\\Fat7y\\AppData\\Local\\Temp\\tmpvm54tj9k.py:42: UndefinedMetricWarning: Precision is ill-defined and being set to 0.0 in labels with no predicted samples. Use `zero_division` parameter to control this behavior.\n",
      "  ag__.converted_call(ag__.ld(warnings).warn, (ag__.ld(msg), ag__.ld(UndefinedMetricWarning)), dict(stacklevel=2), fscope)\n"
     ]
    },
    {
     "name": "stdout",
     "output_type": "stream",
     "text": [
      " 37/128 [=======>......................] - ETA: 59s - loss: 1.0629 - accuracy: 0.5017 - precision: 0.2762 - recall: 0.5017 - F1_score: 0.3401"
     ]
    },
    {
     "name": "stderr",
     "output_type": "stream",
     "text": [
      "C:\\Users\\Fat7y\\AppData\\Local\\Temp\\tmpvm54tj9k.py:42: UndefinedMetricWarning: Precision is ill-defined and being set to 0.0 in labels with no predicted samples. Use `zero_division` parameter to control this behavior.\n",
      "  ag__.converted_call(ag__.ld(warnings).warn, (ag__.ld(msg), ag__.ld(UndefinedMetricWarning)), dict(stacklevel=2), fscope)\n"
     ]
    },
    {
     "name": "stdout",
     "output_type": "stream",
     "text": [
      " 38/128 [=======>......................] - ETA: 58s - loss: 1.0609 - accuracy: 0.5041 - precision: 0.2782 - recall: 0.5041 - F1_score: 0.3427"
     ]
    },
    {
     "name": "stderr",
     "output_type": "stream",
     "text": [
      "C:\\Users\\Fat7y\\AppData\\Local\\Temp\\tmpvm54tj9k.py:42: UndefinedMetricWarning: Precision is ill-defined and being set to 0.0 in labels with no predicted samples. Use `zero_division` parameter to control this behavior.\n",
      "  ag__.converted_call(ag__.ld(warnings).warn, (ag__.ld(msg), ag__.ld(UndefinedMetricWarning)), dict(stacklevel=2), fscope)\n"
     ]
    },
    {
     "name": "stdout",
     "output_type": "stream",
     "text": [
      " 39/128 [========>.....................] - ETA: 57s - loss: 1.0606 - accuracy: 0.5032 - precision: 0.2767 - recall: 0.5032 - F1_score: 0.3416"
     ]
    },
    {
     "name": "stderr",
     "output_type": "stream",
     "text": [
      "C:\\Users\\Fat7y\\AppData\\Local\\Temp\\tmpvm54tj9k.py:42: UndefinedMetricWarning: Precision is ill-defined and being set to 0.0 in labels with no predicted samples. Use `zero_division` parameter to control this behavior.\n",
      "  ag__.converted_call(ag__.ld(warnings).warn, (ag__.ld(msg), ag__.ld(UndefinedMetricWarning)), dict(stacklevel=2), fscope)\n"
     ]
    },
    {
     "name": "stdout",
     "output_type": "stream",
     "text": [
      " 40/128 [========>.....................] - ETA: 57s - loss: 1.0607 - accuracy: 0.5016 - precision: 0.2746 - recall: 0.5016 - F1_score: 0.3397"
     ]
    },
    {
     "name": "stderr",
     "output_type": "stream",
     "text": [
      "C:\\Users\\Fat7y\\AppData\\Local\\Temp\\tmpvm54tj9k.py:42: UndefinedMetricWarning: Precision is ill-defined and being set to 0.0 in labels with no predicted samples. Use `zero_division` parameter to control this behavior.\n",
      "  ag__.converted_call(ag__.ld(warnings).warn, (ag__.ld(msg), ag__.ld(UndefinedMetricWarning)), dict(stacklevel=2), fscope)\n"
     ]
    },
    {
     "name": "stdout",
     "output_type": "stream",
     "text": [
      " 41/128 [========>.....................] - ETA: 56s - loss: 1.0585 - accuracy: 0.5034 - precision: 0.2760 - recall: 0.5034 - F1_score: 0.3418"
     ]
    },
    {
     "name": "stderr",
     "output_type": "stream",
     "text": [
      "C:\\Users\\Fat7y\\AppData\\Local\\Temp\\tmpvm54tj9k.py:42: UndefinedMetricWarning: Precision is ill-defined and being set to 0.0 in labels with no predicted samples. Use `zero_division` parameter to control this behavior.\n",
      "  ag__.converted_call(ag__.ld(warnings).warn, (ag__.ld(msg), ag__.ld(UndefinedMetricWarning)), dict(stacklevel=2), fscope)\n"
     ]
    },
    {
     "name": "stdout",
     "output_type": "stream",
     "text": [
      " 43/128 [=========>....................] - ETA: 56s - loss: 1.0552 - accuracy: 0.5062 - precision: 0.2779 - recall: 0.5062 - F1_score: 0.3447"
     ]
    },
    {
     "name": "stderr",
     "output_type": "stream",
     "text": [
      "C:\\Users\\Fat7y\\AppData\\Local\\Temp\\tmpvm54tj9k.py:42: UndefinedMetricWarning: Precision is ill-defined and being set to 0.0 in labels with no predicted samples. Use `zero_division` parameter to control this behavior.\n",
      "  ag__.converted_call(ag__.ld(warnings).warn, (ag__.ld(msg), ag__.ld(UndefinedMetricWarning)), dict(stacklevel=2), fscope)\n",
      "C:\\Users\\Fat7y\\AppData\\Local\\Temp\\tmpvm54tj9k.py:42: UndefinedMetricWarning: Precision is ill-defined and being set to 0.0 in labels with no predicted samples. Use `zero_division` parameter to control this behavior.\n",
      "  ag__.converted_call(ag__.ld(warnings).warn, (ag__.ld(msg), ag__.ld(UndefinedMetricWarning)), dict(stacklevel=2), fscope)\n"
     ]
    },
    {
     "name": "stdout",
     "output_type": "stream",
     "text": [
      " 44/128 [=========>....................] - ETA: 56s - loss: 1.0566 - accuracy: 0.5050 - precision: 0.2763 - recall: 0.5050 - F1_score: 0.3433"
     ]
    },
    {
     "name": "stderr",
     "output_type": "stream",
     "text": [
      "C:\\Users\\Fat7y\\AppData\\Local\\Temp\\tmpvm54tj9k.py:42: UndefinedMetricWarning: Precision is ill-defined and being set to 0.0 in labels with no predicted samples. Use `zero_division` parameter to control this behavior.\n",
      "  ag__.converted_call(ag__.ld(warnings).warn, (ag__.ld(msg), ag__.ld(UndefinedMetricWarning)), dict(stacklevel=2), fscope)\n"
     ]
    },
    {
     "name": "stdout",
     "output_type": "stream",
     "text": [
      " 45/128 [=========>....................] - ETA: 56s - loss: 1.0548 - accuracy: 0.5066 - precision: 0.2776 - recall: 0.5066 - F1_score: 0.3451"
     ]
    },
    {
     "name": "stderr",
     "output_type": "stream",
     "text": [
      "C:\\Users\\Fat7y\\AppData\\Local\\Temp\\tmpvm54tj9k.py:42: UndefinedMetricWarning: Precision is ill-defined and being set to 0.0 in labels with no predicted samples. Use `zero_division` parameter to control this behavior.\n",
      "  ag__.converted_call(ag__.ld(warnings).warn, (ag__.ld(msg), ag__.ld(UndefinedMetricWarning)), dict(stacklevel=2), fscope)\n"
     ]
    },
    {
     "name": "stdout",
     "output_type": "stream",
     "text": [
      " 46/128 [=========>....................] - ETA: 55s - loss: 1.0547 - accuracy: 0.5061 - precision: 0.2766 - recall: 0.5061 - F1_score: 0.3445"
     ]
    },
    {
     "name": "stderr",
     "output_type": "stream",
     "text": [
      "C:\\Users\\Fat7y\\AppData\\Local\\Temp\\tmpvm54tj9k.py:42: UndefinedMetricWarning: Precision is ill-defined and being set to 0.0 in labels with no predicted samples. Use `zero_division` parameter to control this behavior.\n",
      "  ag__.converted_call(ag__.ld(warnings).warn, (ag__.ld(msg), ag__.ld(UndefinedMetricWarning)), dict(stacklevel=2), fscope)\n"
     ]
    },
    {
     "name": "stdout",
     "output_type": "stream",
     "text": [
      " 47/128 [==========>...................] - ETA: 54s - loss: 1.0530 - accuracy: 0.5070 - precision: 0.2771 - recall: 0.5070 - F1_score: 0.3454"
     ]
    },
    {
     "name": "stderr",
     "output_type": "stream",
     "text": [
      "C:\\Users\\Fat7y\\AppData\\Local\\Temp\\tmpvm54tj9k.py:42: UndefinedMetricWarning: Precision is ill-defined and being set to 0.0 in labels with no predicted samples. Use `zero_division` parameter to control this behavior.\n",
      "  ag__.converted_call(ag__.ld(warnings).warn, (ag__.ld(msg), ag__.ld(UndefinedMetricWarning)), dict(stacklevel=2), fscope)\n"
     ]
    },
    {
     "name": "stdout",
     "output_type": "stream",
     "text": [
      " 48/128 [==========>...................] - ETA: 54s - loss: 1.0527 - accuracy: 0.5065 - precision: 0.2762 - recall: 0.5065 - F1_score: 0.3448"
     ]
    },
    {
     "name": "stderr",
     "output_type": "stream",
     "text": [
      "C:\\Users\\Fat7y\\AppData\\Local\\Temp\\tmpvm54tj9k.py:42: UndefinedMetricWarning: Precision is ill-defined and being set to 0.0 in labels with no predicted samples. Use `zero_division` parameter to control this behavior.\n",
      "  ag__.converted_call(ag__.ld(warnings).warn, (ag__.ld(msg), ag__.ld(UndefinedMetricWarning)), dict(stacklevel=2), fscope)\n"
     ]
    },
    {
     "name": "stdout",
     "output_type": "stream",
     "text": [
      " 49/128 [==========>...................] - ETA: 53s - loss: 1.0509 - accuracy: 0.5073 - precision: 0.2767 - recall: 0.5073 - F1_score: 0.3456"
     ]
    },
    {
     "name": "stderr",
     "output_type": "stream",
     "text": [
      "C:\\Users\\Fat7y\\AppData\\Local\\Temp\\tmpvm54tj9k.py:42: UndefinedMetricWarning: Precision is ill-defined and being set to 0.0 in labels with no predicted samples. Use `zero_division` parameter to control this behavior.\n",
      "  ag__.converted_call(ag__.ld(warnings).warn, (ag__.ld(msg), ag__.ld(UndefinedMetricWarning)), dict(stacklevel=2), fscope)\n"
     ]
    },
    {
     "name": "stdout",
     "output_type": "stream",
     "text": [
      " 50/128 [==========>...................] - ETA: 52s - loss: 1.0503 - accuracy: 0.5075 - precision: 0.2765 - recall: 0.5075 - F1_score: 0.3457"
     ]
    },
    {
     "name": "stderr",
     "output_type": "stream",
     "text": [
      "C:\\Users\\Fat7y\\AppData\\Local\\Temp\\tmpvm54tj9k.py:42: UndefinedMetricWarning: Precision is ill-defined and being set to 0.0 in labels with no predicted samples. Use `zero_division` parameter to control this behavior.\n",
      "  ag__.converted_call(ag__.ld(warnings).warn, (ag__.ld(msg), ag__.ld(UndefinedMetricWarning)), dict(stacklevel=2), fscope)\n"
     ]
    },
    {
     "name": "stdout",
     "output_type": "stream",
     "text": [
      " 51/128 [==========>...................] - ETA: 52s - loss: 1.0503 - accuracy: 0.5074 - precision: 0.2759 - recall: 0.5074 - F1_score: 0.3455"
     ]
    },
    {
     "name": "stderr",
     "output_type": "stream",
     "text": [
      "C:\\Users\\Fat7y\\AppData\\Local\\Temp\\tmpvm54tj9k.py:42: UndefinedMetricWarning: Precision is ill-defined and being set to 0.0 in labels with no predicted samples. Use `zero_division` parameter to control this behavior.\n",
      "  ag__.converted_call(ag__.ld(warnings).warn, (ag__.ld(msg), ag__.ld(UndefinedMetricWarning)), dict(stacklevel=2), fscope)\n"
     ]
    },
    {
     "name": "stdout",
     "output_type": "stream",
     "text": [
      " 52/128 [===========>..................] - ETA: 51s - loss: 1.0506 - accuracy: 0.5066 - precision: 0.2749 - recall: 0.5066 - F1_score: 0.3446"
     ]
    },
    {
     "name": "stderr",
     "output_type": "stream",
     "text": [
      "C:\\Users\\Fat7y\\AppData\\Local\\Temp\\tmpvm54tj9k.py:42: UndefinedMetricWarning: Precision is ill-defined and being set to 0.0 in labels with no predicted samples. Use `zero_division` parameter to control this behavior.\n",
      "  ag__.converted_call(ag__.ld(warnings).warn, (ag__.ld(msg), ag__.ld(UndefinedMetricWarning)), dict(stacklevel=2), fscope)\n"
     ]
    },
    {
     "name": "stdout",
     "output_type": "stream",
     "text": [
      " 53/128 [===========>..................] - ETA: 50s - loss: 1.0504 - accuracy: 0.5059 - precision: 0.2738 - recall: 0.5059 - F1_score: 0.3437"
     ]
    },
    {
     "name": "stderr",
     "output_type": "stream",
     "text": [
      "C:\\Users\\Fat7y\\AppData\\Local\\Temp\\tmpvm54tj9k.py:42: UndefinedMetricWarning: Precision is ill-defined and being set to 0.0 in labels with no predicted samples. Use `zero_division` parameter to control this behavior.\n",
      "  ag__.converted_call(ag__.ld(warnings).warn, (ag__.ld(msg), ag__.ld(UndefinedMetricWarning)), dict(stacklevel=2), fscope)\n"
     ]
    },
    {
     "name": "stdout",
     "output_type": "stream",
     "text": [
      " 54/128 [===========>..................] - ETA: 49s - loss: 1.0500 - accuracy: 0.5052 - precision: 0.2728 - recall: 0.5052 - F1_score: 0.3429"
     ]
    },
    {
     "name": "stderr",
     "output_type": "stream",
     "text": [
      "C:\\Users\\Fat7y\\AppData\\Local\\Temp\\tmpvm54tj9k.py:42: UndefinedMetricWarning: Precision is ill-defined and being set to 0.0 in labels with no predicted samples. Use `zero_division` parameter to control this behavior.\n",
      "  ag__.converted_call(ag__.ld(warnings).warn, (ag__.ld(msg), ag__.ld(UndefinedMetricWarning)), dict(stacklevel=2), fscope)\n"
     ]
    },
    {
     "name": "stdout",
     "output_type": "stream",
     "text": [
      " 55/128 [===========>..................] - ETA: 49s - loss: 1.0495 - accuracy: 0.5060 - precision: 0.2733 - recall: 0.5060 - F1_score: 0.3437"
     ]
    },
    {
     "name": "stderr",
     "output_type": "stream",
     "text": [
      "C:\\Users\\Fat7y\\AppData\\Local\\Temp\\tmpvm54tj9k.py:42: UndefinedMetricWarning: Precision is ill-defined and being set to 0.0 in labels with no predicted samples. Use `zero_division` parameter to control this behavior.\n",
      "  ag__.converted_call(ag__.ld(warnings).warn, (ag__.ld(msg), ag__.ld(UndefinedMetricWarning)), dict(stacklevel=2), fscope)\n"
     ]
    },
    {
     "name": "stdout",
     "output_type": "stream",
     "text": [
      " 56/128 [============>.................] - ETA: 48s - loss: 1.0475 - accuracy: 0.5073 - precision: 0.2744 - recall: 0.5073 - F1_score: 0.3451"
     ]
    },
    {
     "name": "stderr",
     "output_type": "stream",
     "text": [
      "C:\\Users\\Fat7y\\AppData\\Local\\Temp\\tmpvm54tj9k.py:42: UndefinedMetricWarning: Precision is ill-defined and being set to 0.0 in labels with no predicted samples. Use `zero_division` parameter to control this behavior.\n",
      "  ag__.converted_call(ag__.ld(warnings).warn, (ag__.ld(msg), ag__.ld(UndefinedMetricWarning)), dict(stacklevel=2), fscope)\n"
     ]
    },
    {
     "name": "stdout",
     "output_type": "stream",
     "text": [
      " 57/128 [============>.................] - ETA: 48s - loss: 1.0476 - accuracy: 0.5071 - precision: 0.2740 - recall: 0.5071 - F1_score: 0.3449"
     ]
    },
    {
     "name": "stderr",
     "output_type": "stream",
     "text": [
      "C:\\Users\\Fat7y\\AppData\\Local\\Temp\\tmpvm54tj9k.py:42: UndefinedMetricWarning: Precision is ill-defined and being set to 0.0 in labels with no predicted samples. Use `zero_division` parameter to control this behavior.\n",
      "  ag__.converted_call(ag__.ld(warnings).warn, (ag__.ld(msg), ag__.ld(UndefinedMetricWarning)), dict(stacklevel=2), fscope)\n"
     ]
    },
    {
     "name": "stdout",
     "output_type": "stream",
     "text": [
      " 58/128 [============>.................] - ETA: 47s - loss: 1.0466 - accuracy: 0.5078 - precision: 0.2744 - recall: 0.5078 - F1_score: 0.3456"
     ]
    },
    {
     "name": "stderr",
     "output_type": "stream",
     "text": [
      "C:\\Users\\Fat7y\\AppData\\Local\\Temp\\tmpvm54tj9k.py:42: UndefinedMetricWarning: Precision is ill-defined and being set to 0.0 in labels with no predicted samples. Use `zero_division` parameter to control this behavior.\n",
      "  ag__.converted_call(ag__.ld(warnings).warn, (ag__.ld(msg), ag__.ld(UndefinedMetricWarning)), dict(stacklevel=2), fscope)\n"
     ]
    },
    {
     "name": "stdout",
     "output_type": "stream",
     "text": [
      " 59/128 [============>.................] - ETA: 46s - loss: 1.0469 - accuracy: 0.5069 - precision: 0.2732 - recall: 0.5069 - F1_score: 0.3446"
     ]
    },
    {
     "name": "stderr",
     "output_type": "stream",
     "text": [
      "C:\\Users\\Fat7y\\AppData\\Local\\Temp\\tmpvm54tj9k.py:42: UndefinedMetricWarning: Precision is ill-defined and being set to 0.0 in labels with no predicted samples. Use `zero_division` parameter to control this behavior.\n",
      "  ag__.converted_call(ag__.ld(warnings).warn, (ag__.ld(msg), ag__.ld(UndefinedMetricWarning)), dict(stacklevel=2), fscope)\n"
     ]
    },
    {
     "name": "stdout",
     "output_type": "stream",
     "text": [
      " 60/128 [=============>................] - ETA: 46s - loss: 1.0453 - accuracy: 0.5073 - precision: 0.2734 - recall: 0.5073 - F1_score: 0.3450"
     ]
    },
    {
     "name": "stderr",
     "output_type": "stream",
     "text": [
      "C:\\Users\\Fat7y\\AppData\\Local\\Temp\\tmpvm54tj9k.py:42: UndefinedMetricWarning: Precision is ill-defined and being set to 0.0 in labels with no predicted samples. Use `zero_division` parameter to control this behavior.\n",
      "  ag__.converted_call(ag__.ld(warnings).warn, (ag__.ld(msg), ag__.ld(UndefinedMetricWarning)), dict(stacklevel=2), fscope)\n"
     ]
    },
    {
     "name": "stdout",
     "output_type": "stream",
     "text": [
      " 61/128 [=============>................] - ETA: 45s - loss: 1.0446 - accuracy: 0.5077 - precision: 0.2735 - recall: 0.5077 - F1_score: 0.3454"
     ]
    },
    {
     "name": "stderr",
     "output_type": "stream",
     "text": [
      "C:\\Users\\Fat7y\\AppData\\Local\\Temp\\tmpvm54tj9k.py:42: UndefinedMetricWarning: Precision is ill-defined and being set to 0.0 in labels with no predicted samples. Use `zero_division` parameter to control this behavior.\n",
      "  ag__.converted_call(ag__.ld(warnings).warn, (ag__.ld(msg), ag__.ld(UndefinedMetricWarning)), dict(stacklevel=2), fscope)\n"
     ]
    },
    {
     "name": "stdout",
     "output_type": "stream",
     "text": [
      " 62/128 [=============>................] - ETA: 44s - loss: 1.0447 - accuracy: 0.5073 - precision: 0.2729 - recall: 0.5073 - F1_score: 0.3449"
     ]
    },
    {
     "name": "stderr",
     "output_type": "stream",
     "text": [
      "C:\\Users\\Fat7y\\AppData\\Local\\Temp\\tmpvm54tj9k.py:42: UndefinedMetricWarning: Precision is ill-defined and being set to 0.0 in labels with no predicted samples. Use `zero_division` parameter to control this behavior.\n",
      "  ag__.converted_call(ag__.ld(warnings).warn, (ag__.ld(msg), ag__.ld(UndefinedMetricWarning)), dict(stacklevel=2), fscope)\n"
     ]
    },
    {
     "name": "stdout",
     "output_type": "stream",
     "text": [
      " 63/128 [=============>................] - ETA: 43s - loss: 1.0443 - accuracy: 0.5072 - precision: 0.2725 - recall: 0.5072 - F1_score: 0.3447"
     ]
    },
    {
     "name": "stderr",
     "output_type": "stream",
     "text": [
      "C:\\Users\\Fat7y\\AppData\\Local\\Temp\\tmpvm54tj9k.py:42: UndefinedMetricWarning: Precision is ill-defined and being set to 0.0 in labels with no predicted samples. Use `zero_division` parameter to control this behavior.\n",
      "  ag__.converted_call(ag__.ld(warnings).warn, (ag__.ld(msg), ag__.ld(UndefinedMetricWarning)), dict(stacklevel=2), fscope)\n"
     ]
    },
    {
     "name": "stdout",
     "output_type": "stream",
     "text": [
      " 64/128 [==============>...............] - ETA: 43s - loss: 1.0435 - accuracy: 0.5078 - precision: 0.2729 - recall: 0.5078 - F1_score: 0.3454"
     ]
    },
    {
     "name": "stderr",
     "output_type": "stream",
     "text": [
      "C:\\Users\\Fat7y\\AppData\\Local\\Temp\\tmpvm54tj9k.py:42: UndefinedMetricWarning: Precision is ill-defined and being set to 0.0 in labels with no predicted samples. Use `zero_division` parameter to control this behavior.\n",
      "  ag__.converted_call(ag__.ld(warnings).warn, (ag__.ld(msg), ag__.ld(UndefinedMetricWarning)), dict(stacklevel=2), fscope)\n"
     ]
    },
    {
     "name": "stdout",
     "output_type": "stream",
     "text": [
      " 65/128 [==============>...............] - ETA: 42s - loss: 1.0415 - accuracy: 0.5091 - precision: 0.2742 - recall: 0.5091 - F1_score: 0.3469"
     ]
    },
    {
     "name": "stderr",
     "output_type": "stream",
     "text": [
      "C:\\Users\\Fat7y\\AppData\\Local\\Temp\\tmpvm54tj9k.py:42: UndefinedMetricWarning: Precision is ill-defined and being set to 0.0 in labels with no predicted samples. Use `zero_division` parameter to control this behavior.\n",
      "  ag__.converted_call(ag__.ld(warnings).warn, (ag__.ld(msg), ag__.ld(UndefinedMetricWarning)), dict(stacklevel=2), fscope)\n"
     ]
    },
    {
     "name": "stdout",
     "output_type": "stream",
     "text": [
      " 66/128 [==============>...............] - ETA: 41s - loss: 1.0438 - accuracy: 0.5069 - precision: 0.2720 - recall: 0.5069 - F1_score: 0.3445"
     ]
    },
    {
     "name": "stderr",
     "output_type": "stream",
     "text": [
      "C:\\Users\\Fat7y\\AppData\\Local\\Temp\\tmpvm54tj9k.py:42: UndefinedMetricWarning: Precision is ill-defined and being set to 0.0 in labels with no predicted samples. Use `zero_division` parameter to control this behavior.\n",
      "  ag__.converted_call(ag__.ld(warnings).warn, (ag__.ld(msg), ag__.ld(UndefinedMetricWarning)), dict(stacklevel=2), fscope)\n"
     ]
    },
    {
     "name": "stdout",
     "output_type": "stream",
     "text": [
      " 67/128 [==============>...............] - ETA: 41s - loss: 1.0436 - accuracy: 0.5061 - precision: 0.2710 - recall: 0.5061 - F1_score: 0.3436"
     ]
    },
    {
     "name": "stderr",
     "output_type": "stream",
     "text": [
      "C:\\Users\\Fat7y\\AppData\\Local\\Temp\\tmpvm54tj9k.py:42: UndefinedMetricWarning: Precision is ill-defined and being set to 0.0 in labels with no predicted samples. Use `zero_division` parameter to control this behavior.\n",
      "  ag__.converted_call(ag__.ld(warnings).warn, (ag__.ld(msg), ag__.ld(UndefinedMetricWarning)), dict(stacklevel=2), fscope)\n"
     ]
    },
    {
     "name": "stdout",
     "output_type": "stream",
     "text": [
      " 68/128 [==============>...............] - ETA: 40s - loss: 1.0432 - accuracy: 0.5064 - precision: 0.2711 - recall: 0.5064 - F1_score: 0.3439"
     ]
    },
    {
     "name": "stderr",
     "output_type": "stream",
     "text": [
      "C:\\Users\\Fat7y\\AppData\\Local\\Temp\\tmpvm54tj9k.py:42: UndefinedMetricWarning: Precision is ill-defined and being set to 0.0 in labels with no predicted samples. Use `zero_division` parameter to control this behavior.\n",
      "  ag__.converted_call(ag__.ld(warnings).warn, (ag__.ld(msg), ag__.ld(UndefinedMetricWarning)), dict(stacklevel=2), fscope)\n"
     ]
    },
    {
     "name": "stdout",
     "output_type": "stream",
     "text": [
      " 69/128 [===============>..............] - ETA: 39s - loss: 1.0442 - accuracy: 0.5052 - precision: 0.2698 - recall: 0.5052 - F1_score: 0.3426"
     ]
    },
    {
     "name": "stderr",
     "output_type": "stream",
     "text": [
      "C:\\Users\\Fat7y\\AppData\\Local\\Temp\\tmpvm54tj9k.py:42: UndefinedMetricWarning: Precision is ill-defined and being set to 0.0 in labels with no predicted samples. Use `zero_division` parameter to control this behavior.\n",
      "  ag__.converted_call(ag__.ld(warnings).warn, (ag__.ld(msg), ag__.ld(UndefinedMetricWarning)), dict(stacklevel=2), fscope)\n"
     ]
    },
    {
     "name": "stdout",
     "output_type": "stream",
     "text": [
      " 70/128 [===============>..............] - ETA: 39s - loss: 1.0445 - accuracy: 0.5054 - precision: 0.2697 - recall: 0.5054 - F1_score: 0.3427"
     ]
    },
    {
     "name": "stderr",
     "output_type": "stream",
     "text": [
      "C:\\Users\\Fat7y\\AppData\\Local\\Temp\\tmpvm54tj9k.py:42: UndefinedMetricWarning: Precision is ill-defined and being set to 0.0 in labels with no predicted samples. Use `zero_division` parameter to control this behavior.\n",
      "  ag__.converted_call(ag__.ld(warnings).warn, (ag__.ld(msg), ag__.ld(UndefinedMetricWarning)), dict(stacklevel=2), fscope)\n"
     ]
    },
    {
     "name": "stdout",
     "output_type": "stream",
     "text": [
      " 71/128 [===============>..............] - ETA: 38s - loss: 1.0428 - accuracy: 0.5068 - precision: 0.2712 - recall: 0.5068 - F1_score: 0.3444"
     ]
    },
    {
     "name": "stderr",
     "output_type": "stream",
     "text": [
      "C:\\Users\\Fat7y\\AppData\\Local\\Temp\\tmpvm54tj9k.py:42: UndefinedMetricWarning: Precision is ill-defined and being set to 0.0 in labels with no predicted samples. Use `zero_division` parameter to control this behavior.\n",
      "  ag__.converted_call(ag__.ld(warnings).warn, (ag__.ld(msg), ag__.ld(UndefinedMetricWarning)), dict(stacklevel=2), fscope)\n"
     ]
    },
    {
     "name": "stdout",
     "output_type": "stream",
     "text": [
      " 72/128 [===============>..............] - ETA: 37s - loss: 1.0434 - accuracy: 0.5056 - precision: 0.2699 - recall: 0.5056 - F1_score: 0.3431"
     ]
    },
    {
     "name": "stderr",
     "output_type": "stream",
     "text": [
      "C:\\Users\\Fat7y\\AppData\\Local\\Temp\\tmpvm54tj9k.py:42: UndefinedMetricWarning: Precision is ill-defined and being set to 0.0 in labels with no predicted samples. Use `zero_division` parameter to control this behavior.\n",
      "  ag__.converted_call(ag__.ld(warnings).warn, (ag__.ld(msg), ag__.ld(UndefinedMetricWarning)), dict(stacklevel=2), fscope)\n"
     ]
    },
    {
     "name": "stdout",
     "output_type": "stream",
     "text": [
      " 73/128 [================>.............] - ETA: 36s - loss: 1.0424 - accuracy: 0.5066 - precision: 0.2708 - recall: 0.5066 - F1_score: 0.3442"
     ]
    },
    {
     "name": "stderr",
     "output_type": "stream",
     "text": [
      "C:\\Users\\Fat7y\\AppData\\Local\\Temp\\tmpvm54tj9k.py:42: UndefinedMetricWarning: Precision is ill-defined and being set to 0.0 in labels with no predicted samples. Use `zero_division` parameter to control this behavior.\n",
      "  ag__.converted_call(ag__.ld(warnings).warn, (ag__.ld(msg), ag__.ld(UndefinedMetricWarning)), dict(stacklevel=2), fscope)\n"
     ]
    },
    {
     "name": "stdout",
     "output_type": "stream",
     "text": [
      " 74/128 [================>.............] - ETA: 36s - loss: 1.0426 - accuracy: 0.5065 - precision: 0.2705 - recall: 0.5065 - F1_score: 0.3440"
     ]
    },
    {
     "name": "stderr",
     "output_type": "stream",
     "text": [
      "C:\\Users\\Fat7y\\AppData\\Local\\Temp\\tmpvm54tj9k.py:42: UndefinedMetricWarning: Precision is ill-defined and being set to 0.0 in labels with no predicted samples. Use `zero_division` parameter to control this behavior.\n",
      "  ag__.converted_call(ag__.ld(warnings).warn, (ag__.ld(msg), ag__.ld(UndefinedMetricWarning)), dict(stacklevel=2), fscope)\n"
     ]
    },
    {
     "name": "stdout",
     "output_type": "stream",
     "text": [
      " 75/128 [================>.............] - ETA: 35s - loss: 1.0426 - accuracy: 0.5065 - precision: 0.2702 - recall: 0.5065 - F1_score: 0.3439"
     ]
    },
    {
     "name": "stderr",
     "output_type": "stream",
     "text": [
      "C:\\Users\\Fat7y\\AppData\\Local\\Temp\\tmpvm54tj9k.py:42: UndefinedMetricWarning: Precision is ill-defined and being set to 0.0 in labels with no predicted samples. Use `zero_division` parameter to control this behavior.\n",
      "  ag__.converted_call(ag__.ld(warnings).warn, (ag__.ld(msg), ag__.ld(UndefinedMetricWarning)), dict(stacklevel=2), fscope)\n"
     ]
    },
    {
     "name": "stdout",
     "output_type": "stream",
     "text": [
      " 76/128 [================>.............] - ETA: 35s - loss: 1.0423 - accuracy: 0.5068 - precision: 0.2704 - recall: 0.5068 - F1_score: 0.3442"
     ]
    },
    {
     "name": "stderr",
     "output_type": "stream",
     "text": [
      "C:\\Users\\Fat7y\\AppData\\Local\\Temp\\tmpvm54tj9k.py:42: UndefinedMetricWarning: Precision is ill-defined and being set to 0.0 in labels with no predicted samples. Use `zero_division` parameter to control this behavior.\n",
      "  ag__.converted_call(ag__.ld(warnings).warn, (ag__.ld(msg), ag__.ld(UndefinedMetricWarning)), dict(stacklevel=2), fscope)\n"
     ]
    },
    {
     "name": "stdout",
     "output_type": "stream",
     "text": [
      " 78/128 [=================>............] - ETA: 33s - loss: 1.0411 - accuracy: 0.5074 - precision: 0.2707 - recall: 0.5074 - F1_score: 0.3448"
     ]
    },
    {
     "name": "stderr",
     "output_type": "stream",
     "text": [
      "C:\\Users\\Fat7y\\AppData\\Local\\Temp\\tmpvm54tj9k.py:42: UndefinedMetricWarning: Precision is ill-defined and being set to 0.0 in labels with no predicted samples. Use `zero_division` parameter to control this behavior.\n",
      "  ag__.converted_call(ag__.ld(warnings).warn, (ag__.ld(msg), ag__.ld(UndefinedMetricWarning)), dict(stacklevel=2), fscope)\n",
      "C:\\Users\\Fat7y\\AppData\\Local\\Temp\\tmpvm54tj9k.py:42: UndefinedMetricWarning: Precision is ill-defined and being set to 0.0 in labels with no predicted samples. Use `zero_division` parameter to control this behavior.\n",
      "  ag__.converted_call(ag__.ld(warnings).warn, (ag__.ld(msg), ag__.ld(UndefinedMetricWarning)), dict(stacklevel=2), fscope)\n"
     ]
    },
    {
     "name": "stdout",
     "output_type": "stream",
     "text": [
      " 79/128 [=================>............] - ETA: 33s - loss: 1.0404 - accuracy: 0.5079 - precision: 0.2710 - recall: 0.5079 - F1_score: 0.3454"
     ]
    },
    {
     "name": "stderr",
     "output_type": "stream",
     "text": [
      "C:\\Users\\Fat7y\\AppData\\Local\\Temp\\tmpvm54tj9k.py:42: UndefinedMetricWarning: Precision is ill-defined and being set to 0.0 in labels with no predicted samples. Use `zero_division` parameter to control this behavior.\n",
      "  ag__.converted_call(ag__.ld(warnings).warn, (ag__.ld(msg), ag__.ld(UndefinedMetricWarning)), dict(stacklevel=2), fscope)\n"
     ]
    },
    {
     "name": "stdout",
     "output_type": "stream",
     "text": [
      " 80/128 [=================>............] - ETA: 33s - loss: 1.0399 - accuracy: 0.5082 - precision: 0.2712 - recall: 0.5082 - F1_score: 0.3457"
     ]
    },
    {
     "name": "stderr",
     "output_type": "stream",
     "text": [
      "C:\\Users\\Fat7y\\AppData\\Local\\Temp\\tmpvm54tj9k.py:42: UndefinedMetricWarning: Precision is ill-defined and being set to 0.0 in labels with no predicted samples. Use `zero_division` parameter to control this behavior.\n",
      "  ag__.converted_call(ag__.ld(warnings).warn, (ag__.ld(msg), ag__.ld(UndefinedMetricWarning)), dict(stacklevel=2), fscope)\n"
     ]
    },
    {
     "name": "stdout",
     "output_type": "stream",
     "text": [
      " 81/128 [=================>............] - ETA: 36s - loss: 1.0405 - accuracy: 0.5073 - precision: 0.2702 - recall: 0.5073 - F1_score: 0.3447"
     ]
    },
    {
     "name": "stderr",
     "output_type": "stream",
     "text": [
      "C:\\Users\\Fat7y\\AppData\\Local\\Temp\\tmpvm54tj9k.py:42: UndefinedMetricWarning: Precision is ill-defined and being set to 0.0 in labels with no predicted samples. Use `zero_division` parameter to control this behavior.\n",
      "  ag__.converted_call(ag__.ld(warnings).warn, (ag__.ld(msg), ag__.ld(UndefinedMetricWarning)), dict(stacklevel=2), fscope)\n"
     ]
    },
    {
     "name": "stdout",
     "output_type": "stream",
     "text": [
      " 82/128 [==================>...........] - ETA: 35s - loss: 1.0407 - accuracy: 0.5067 - precision: 0.2694 - recall: 0.5067 - F1_score: 0.3439"
     ]
    },
    {
     "name": "stderr",
     "output_type": "stream",
     "text": [
      "C:\\Users\\Fat7y\\AppData\\Local\\Temp\\tmpvm54tj9k.py:42: UndefinedMetricWarning: Precision is ill-defined and being set to 0.0 in labels with no predicted samples. Use `zero_division` parameter to control this behavior.\n",
      "  ag__.converted_call(ag__.ld(warnings).warn, (ag__.ld(msg), ag__.ld(UndefinedMetricWarning)), dict(stacklevel=2), fscope)\n"
     ]
    },
    {
     "name": "stdout",
     "output_type": "stream",
     "text": [
      " 83/128 [==================>...........] - ETA: 34s - loss: 1.0407 - accuracy: 0.5064 - precision: 0.2690 - recall: 0.5064 - F1_score: 0.3436"
     ]
    },
    {
     "name": "stderr",
     "output_type": "stream",
     "text": [
      "C:\\Users\\Fat7y\\AppData\\Local\\Temp\\tmpvm54tj9k.py:42: UndefinedMetricWarning: Precision is ill-defined and being set to 0.0 in labels with no predicted samples. Use `zero_division` parameter to control this behavior.\n",
      "  ag__.converted_call(ag__.ld(warnings).warn, (ag__.ld(msg), ag__.ld(UndefinedMetricWarning)), dict(stacklevel=2), fscope)\n"
     ]
    },
    {
     "name": "stdout",
     "output_type": "stream",
     "text": [
      " 84/128 [==================>...........] - ETA: 33s - loss: 1.0407 - accuracy: 0.5065 - precision: 0.2690 - recall: 0.5065 - F1_score: 0.3437"
     ]
    },
    {
     "name": "stderr",
     "output_type": "stream",
     "text": [
      "C:\\Users\\Fat7y\\AppData\\Local\\Temp\\tmpvm54tj9k.py:42: UndefinedMetricWarning: Precision is ill-defined and being set to 0.0 in labels with no predicted samples. Use `zero_division` parameter to control this behavior.\n",
      "  ag__.converted_call(ag__.ld(warnings).warn, (ag__.ld(msg), ag__.ld(UndefinedMetricWarning)), dict(stacklevel=2), fscope)\n"
     ]
    },
    {
     "name": "stdout",
     "output_type": "stream",
     "text": [
      " 85/128 [==================>...........] - ETA: 32s - loss: 1.0408 - accuracy: 0.5061 - precision: 0.2684 - recall: 0.5061 - F1_score: 0.3431"
     ]
    },
    {
     "name": "stderr",
     "output_type": "stream",
     "text": [
      "C:\\Users\\Fat7y\\AppData\\Local\\Temp\\tmpvm54tj9k.py:42: UndefinedMetricWarning: Precision is ill-defined and being set to 0.0 in labels with no predicted samples. Use `zero_division` parameter to control this behavior.\n",
      "  ag__.converted_call(ag__.ld(warnings).warn, (ag__.ld(msg), ag__.ld(UndefinedMetricWarning)), dict(stacklevel=2), fscope)\n"
     ]
    },
    {
     "name": "stdout",
     "output_type": "stream",
     "text": [
      " 86/128 [===================>..........] - ETA: 32s - loss: 1.0399 - accuracy: 0.5071 - precision: 0.2694 - recall: 0.5071 - F1_score: 0.3443"
     ]
    },
    {
     "name": "stderr",
     "output_type": "stream",
     "text": [
      "C:\\Users\\Fat7y\\AppData\\Local\\Temp\\tmpvm54tj9k.py:42: UndefinedMetricWarning: Precision is ill-defined and being set to 0.0 in labels with no predicted samples. Use `zero_division` parameter to control this behavior.\n",
      "  ag__.converted_call(ag__.ld(warnings).warn, (ag__.ld(msg), ag__.ld(UndefinedMetricWarning)), dict(stacklevel=2), fscope)\n"
     ]
    },
    {
     "name": "stdout",
     "output_type": "stream",
     "text": [
      " 87/128 [===================>..........] - ETA: 31s - loss: 1.0404 - accuracy: 0.5066 - precision: 0.2688 - recall: 0.5066 - F1_score: 0.3438"
     ]
    },
    {
     "name": "stderr",
     "output_type": "stream",
     "text": [
      "C:\\Users\\Fat7y\\AppData\\Local\\Temp\\tmpvm54tj9k.py:42: UndefinedMetricWarning: Precision is ill-defined and being set to 0.0 in labels with no predicted samples. Use `zero_division` parameter to control this behavior.\n",
      "  ag__.converted_call(ag__.ld(warnings).warn, (ag__.ld(msg), ag__.ld(UndefinedMetricWarning)), dict(stacklevel=2), fscope)\n"
     ]
    },
    {
     "name": "stdout",
     "output_type": "stream",
     "text": [
      " 88/128 [===================>..........] - ETA: 30s - loss: 1.0397 - accuracy: 0.5075 - precision: 0.2695 - recall: 0.5075 - F1_score: 0.3447"
     ]
    },
    {
     "name": "stderr",
     "output_type": "stream",
     "text": [
      "C:\\Users\\Fat7y\\AppData\\Local\\Temp\\tmpvm54tj9k.py:42: UndefinedMetricWarning: Precision is ill-defined and being set to 0.0 in labels with no predicted samples. Use `zero_division` parameter to control this behavior.\n",
      "  ag__.converted_call(ag__.ld(warnings).warn, (ag__.ld(msg), ag__.ld(UndefinedMetricWarning)), dict(stacklevel=2), fscope)\n"
     ]
    },
    {
     "name": "stdout",
     "output_type": "stream",
     "text": [
      " 89/128 [===================>..........] - ETA: 29s - loss: 1.0393 - accuracy: 0.5075 - precision: 0.2695 - recall: 0.5075 - F1_score: 0.3448"
     ]
    },
    {
     "name": "stderr",
     "output_type": "stream",
     "text": [
      "C:\\Users\\Fat7y\\AppData\\Local\\Temp\\tmpvm54tj9k.py:42: UndefinedMetricWarning: Precision is ill-defined and being set to 0.0 in labels with no predicted samples. Use `zero_division` parameter to control this behavior.\n",
      "  ag__.converted_call(ag__.ld(warnings).warn, (ag__.ld(msg), ag__.ld(UndefinedMetricWarning)), dict(stacklevel=2), fscope)\n"
     ]
    },
    {
     "name": "stdout",
     "output_type": "stream",
     "text": [
      " 90/128 [====================>.........] - ETA: 28s - loss: 1.0397 - accuracy: 0.5068 - precision: 0.2686 - recall: 0.5068 - F1_score: 0.3439"
     ]
    },
    {
     "name": "stderr",
     "output_type": "stream",
     "text": [
      "C:\\Users\\Fat7y\\AppData\\Local\\Temp\\tmpvm54tj9k.py:42: UndefinedMetricWarning: Precision is ill-defined and being set to 0.0 in labels with no predicted samples. Use `zero_division` parameter to control this behavior.\n",
      "  ag__.converted_call(ag__.ld(warnings).warn, (ag__.ld(msg), ag__.ld(UndefinedMetricWarning)), dict(stacklevel=2), fscope)\n"
     ]
    },
    {
     "name": "stdout",
     "output_type": "stream",
     "text": [
      " 91/128 [====================>.........] - ETA: 28s - loss: 1.0399 - accuracy: 0.5062 - precision: 0.2679 - recall: 0.5062 - F1_score: 0.3432"
     ]
    },
    {
     "name": "stderr",
     "output_type": "stream",
     "text": [
      "C:\\Users\\Fat7y\\AppData\\Local\\Temp\\tmpvm54tj9k.py:42: UndefinedMetricWarning: Precision is ill-defined and being set to 0.0 in labels with no predicted samples. Use `zero_division` parameter to control this behavior.\n",
      "  ag__.converted_call(ag__.ld(warnings).warn, (ag__.ld(msg), ag__.ld(UndefinedMetricWarning)), dict(stacklevel=2), fscope)\n"
     ]
    },
    {
     "name": "stdout",
     "output_type": "stream",
     "text": [
      " 92/128 [====================>.........] - ETA: 27s - loss: 1.0395 - accuracy: 0.5066 - precision: 0.2683 - recall: 0.5066 - F1_score: 0.3437"
     ]
    },
    {
     "name": "stderr",
     "output_type": "stream",
     "text": [
      "C:\\Users\\Fat7y\\AppData\\Local\\Temp\\tmpvm54tj9k.py:42: UndefinedMetricWarning: Precision is ill-defined and being set to 0.0 in labels with no predicted samples. Use `zero_division` parameter to control this behavior.\n",
      "  ag__.converted_call(ag__.ld(warnings).warn, (ag__.ld(msg), ag__.ld(UndefinedMetricWarning)), dict(stacklevel=2), fscope)\n"
     ]
    },
    {
     "name": "stdout",
     "output_type": "stream",
     "text": [
      " 93/128 [====================>.........] - ETA: 26s - loss: 1.0390 - accuracy: 0.5071 - precision: 0.2686 - recall: 0.5071 - F1_score: 0.3442"
     ]
    },
    {
     "name": "stderr",
     "output_type": "stream",
     "text": [
      "C:\\Users\\Fat7y\\AppData\\Local\\Temp\\tmpvm54tj9k.py:42: UndefinedMetricWarning: Precision is ill-defined and being set to 0.0 in labels with no predicted samples. Use `zero_division` parameter to control this behavior.\n",
      "  ag__.converted_call(ag__.ld(warnings).warn, (ag__.ld(msg), ag__.ld(UndefinedMetricWarning)), dict(stacklevel=2), fscope)\n"
     ]
    },
    {
     "name": "stdout",
     "output_type": "stream",
     "text": [
      " 94/128 [=====================>........] - ETA: 25s - loss: 1.0394 - accuracy: 0.5065 - precision: 0.2679 - recall: 0.5065 - F1_score: 0.3435"
     ]
    },
    {
     "name": "stderr",
     "output_type": "stream",
     "text": [
      "C:\\Users\\Fat7y\\AppData\\Local\\Temp\\tmpvm54tj9k.py:42: UndefinedMetricWarning: Precision is ill-defined and being set to 0.0 in labels with no predicted samples. Use `zero_division` parameter to control this behavior.\n",
      "  ag__.converted_call(ag__.ld(warnings).warn, (ag__.ld(msg), ag__.ld(UndefinedMetricWarning)), dict(stacklevel=2), fscope)\n"
     ]
    },
    {
     "name": "stdout",
     "output_type": "stream",
     "text": [
      " 95/128 [=====================>........] - ETA: 24s - loss: 1.0389 - accuracy: 0.5069 - precision: 0.2682 - recall: 0.5069 - F1_score: 0.3440"
     ]
    },
    {
     "name": "stderr",
     "output_type": "stream",
     "text": [
      "C:\\Users\\Fat7y\\AppData\\Local\\Temp\\tmpvm54tj9k.py:42: UndefinedMetricWarning: Precision is ill-defined and being set to 0.0 in labels with no predicted samples. Use `zero_division` parameter to control this behavior.\n",
      "  ag__.converted_call(ag__.ld(warnings).warn, (ag__.ld(msg), ag__.ld(UndefinedMetricWarning)), dict(stacklevel=2), fscope)\n"
     ]
    },
    {
     "name": "stdout",
     "output_type": "stream",
     "text": [
      " 96/128 [=====================>........] - ETA: 24s - loss: 1.0388 - accuracy: 0.5068 - precision: 0.2681 - recall: 0.5068 - F1_score: 0.3438"
     ]
    },
    {
     "name": "stderr",
     "output_type": "stream",
     "text": [
      "C:\\Users\\Fat7y\\AppData\\Local\\Temp\\tmpvm54tj9k.py:42: UndefinedMetricWarning: Precision is ill-defined and being set to 0.0 in labels with no predicted samples. Use `zero_division` parameter to control this behavior.\n",
      "  ag__.converted_call(ag__.ld(warnings).warn, (ag__.ld(msg), ag__.ld(UndefinedMetricWarning)), dict(stacklevel=2), fscope)\n"
     ]
    },
    {
     "name": "stdout",
     "output_type": "stream",
     "text": [
      " 97/128 [=====================>........] - ETA: 23s - loss: 1.0384 - accuracy: 0.5071 - precision: 0.2682 - recall: 0.5071 - F1_score: 0.3441"
     ]
    },
    {
     "name": "stderr",
     "output_type": "stream",
     "text": [
      "C:\\Users\\Fat7y\\AppData\\Local\\Temp\\tmpvm54tj9k.py:42: UndefinedMetricWarning: Precision is ill-defined and being set to 0.0 in labels with no predicted samples. Use `zero_division` parameter to control this behavior.\n",
      "  ag__.converted_call(ag__.ld(warnings).warn, (ag__.ld(msg), ag__.ld(UndefinedMetricWarning)), dict(stacklevel=2), fscope)\n"
     ]
    },
    {
     "name": "stdout",
     "output_type": "stream",
     "text": [
      " 98/128 [=====================>........] - ETA: 22s - loss: 1.0374 - accuracy: 0.5081 - precision: 0.2693 - recall: 0.5081 - F1_score: 0.3453"
     ]
    },
    {
     "name": "stderr",
     "output_type": "stream",
     "text": [
      "C:\\Users\\Fat7y\\AppData\\Local\\Temp\\tmpvm54tj9k.py:42: UndefinedMetricWarning: Precision is ill-defined and being set to 0.0 in labels with no predicted samples. Use `zero_division` parameter to control this behavior.\n",
      "  ag__.converted_call(ag__.ld(warnings).warn, (ag__.ld(msg), ag__.ld(UndefinedMetricWarning)), dict(stacklevel=2), fscope)\n"
     ]
    },
    {
     "name": "stdout",
     "output_type": "stream",
     "text": [
      " 99/128 [======================>.......] - ETA: 21s - loss: 1.0374 - accuracy: 0.5080 - precision: 0.2691 - recall: 0.5080 - F1_score: 0.3452"
     ]
    },
    {
     "name": "stderr",
     "output_type": "stream",
     "text": [
      "C:\\Users\\Fat7y\\AppData\\Local\\Temp\\tmpvm54tj9k.py:42: UndefinedMetricWarning: Precision is ill-defined and being set to 0.0 in labels with no predicted samples. Use `zero_division` parameter to control this behavior.\n",
      "  ag__.converted_call(ag__.ld(warnings).warn, (ag__.ld(msg), ag__.ld(UndefinedMetricWarning)), dict(stacklevel=2), fscope)\n"
     ]
    },
    {
     "name": "stdout",
     "output_type": "stream",
     "text": [
      "100/128 [======================>.......] - ETA: 21s - loss: 1.0379 - accuracy: 0.5077 - precision: 0.2686 - recall: 0.5077 - F1_score: 0.3447"
     ]
    },
    {
     "name": "stderr",
     "output_type": "stream",
     "text": [
      "C:\\Users\\Fat7y\\AppData\\Local\\Temp\\tmpvm54tj9k.py:42: UndefinedMetricWarning: Precision is ill-defined and being set to 0.0 in labels with no predicted samples. Use `zero_division` parameter to control this behavior.\n",
      "  ag__.converted_call(ag__.ld(warnings).warn, (ag__.ld(msg), ag__.ld(UndefinedMetricWarning)), dict(stacklevel=2), fscope)\n"
     ]
    },
    {
     "name": "stdout",
     "output_type": "stream",
     "text": [
      "101/128 [======================>.......] - ETA: 20s - loss: 1.0376 - accuracy: 0.5073 - precision: 0.2681 - recall: 0.5073 - F1_score: 0.3443"
     ]
    },
    {
     "name": "stderr",
     "output_type": "stream",
     "text": [
      "C:\\Users\\Fat7y\\AppData\\Local\\Temp\\tmpvm54tj9k.py:42: UndefinedMetricWarning: Precision is ill-defined and being set to 0.0 in labels with no predicted samples. Use `zero_division` parameter to control this behavior.\n",
      "  ag__.converted_call(ag__.ld(warnings).warn, (ag__.ld(msg), ag__.ld(UndefinedMetricWarning)), dict(stacklevel=2), fscope)\n"
     ]
    },
    {
     "name": "stdout",
     "output_type": "stream",
     "text": [
      "102/128 [======================>.......] - ETA: 19s - loss: 1.0376 - accuracy: 0.5070 - precision: 0.2678 - recall: 0.5070 - F1_score: 0.3440"
     ]
    },
    {
     "name": "stderr",
     "output_type": "stream",
     "text": [
      "C:\\Users\\Fat7y\\AppData\\Local\\Temp\\tmpvm54tj9k.py:42: UndefinedMetricWarning: Precision is ill-defined and being set to 0.0 in labels with no predicted samples. Use `zero_division` parameter to control this behavior.\n",
      "  ag__.converted_call(ag__.ld(warnings).warn, (ag__.ld(msg), ag__.ld(UndefinedMetricWarning)), dict(stacklevel=2), fscope)\n"
     ]
    },
    {
     "name": "stdout",
     "output_type": "stream",
     "text": [
      "103/128 [=======================>......] - ETA: 18s - loss: 1.0382 - accuracy: 0.5062 - precision: 0.2669 - recall: 0.5062 - F1_score: 0.3431"
     ]
    },
    {
     "name": "stderr",
     "output_type": "stream",
     "text": [
      "C:\\Users\\Fat7y\\AppData\\Local\\Temp\\tmpvm54tj9k.py:42: UndefinedMetricWarning: Precision is ill-defined and being set to 0.0 in labels with no predicted samples. Use `zero_division` parameter to control this behavior.\n",
      "  ag__.converted_call(ag__.ld(warnings).warn, (ag__.ld(msg), ag__.ld(UndefinedMetricWarning)), dict(stacklevel=2), fscope)\n"
     ]
    },
    {
     "name": "stdout",
     "output_type": "stream",
     "text": [
      "104/128 [=======================>......] - ETA: 17s - loss: 1.0378 - accuracy: 0.5071 - precision: 0.2677 - recall: 0.5071 - F1_score: 0.3440"
     ]
    },
    {
     "name": "stderr",
     "output_type": "stream",
     "text": [
      "C:\\Users\\Fat7y\\AppData\\Local\\Temp\\tmpvm54tj9k.py:42: UndefinedMetricWarning: Precision is ill-defined and being set to 0.0 in labels with no predicted samples. Use `zero_division` parameter to control this behavior.\n",
      "  ag__.converted_call(ag__.ld(warnings).warn, (ag__.ld(msg), ag__.ld(UndefinedMetricWarning)), dict(stacklevel=2), fscope)\n"
     ]
    },
    {
     "name": "stdout",
     "output_type": "stream",
     "text": [
      "105/128 [=======================>......] - ETA: 17s - loss: 1.0384 - accuracy: 0.5061 - precision: 0.2667 - recall: 0.5061 - F1_score: 0.3430"
     ]
    },
    {
     "name": "stderr",
     "output_type": "stream",
     "text": [
      "C:\\Users\\Fat7y\\AppData\\Local\\Temp\\tmpvm54tj9k.py:42: UndefinedMetricWarning: Precision is ill-defined and being set to 0.0 in labels with no predicted samples. Use `zero_division` parameter to control this behavior.\n",
      "  ag__.converted_call(ag__.ld(warnings).warn, (ag__.ld(msg), ag__.ld(UndefinedMetricWarning)), dict(stacklevel=2), fscope)\n"
     ]
    },
    {
     "name": "stdout",
     "output_type": "stream",
     "text": [
      "106/128 [=======================>......] - ETA: 16s - loss: 1.0385 - accuracy: 0.5063 - precision: 0.2669 - recall: 0.5063 - F1_score: 0.3432"
     ]
    },
    {
     "name": "stderr",
     "output_type": "stream",
     "text": [
      "C:\\Users\\Fat7y\\AppData\\Local\\Temp\\tmpvm54tj9k.py:42: UndefinedMetricWarning: Precision is ill-defined and being set to 0.0 in labels with no predicted samples. Use `zero_division` parameter to control this behavior.\n",
      "  ag__.converted_call(ag__.ld(warnings).warn, (ag__.ld(msg), ag__.ld(UndefinedMetricWarning)), dict(stacklevel=2), fscope)\n"
     ]
    },
    {
     "name": "stdout",
     "output_type": "stream",
     "text": [
      "107/128 [========================>.....] - ETA: 15s - loss: 1.0386 - accuracy: 0.5058 - precision: 0.2663 - recall: 0.5058 - F1_score: 0.3427"
     ]
    },
    {
     "name": "stderr",
     "output_type": "stream",
     "text": [
      "C:\\Users\\Fat7y\\AppData\\Local\\Temp\\tmpvm54tj9k.py:42: UndefinedMetricWarning: Precision is ill-defined and being set to 0.0 in labels with no predicted samples. Use `zero_division` parameter to control this behavior.\n",
      "  ag__.converted_call(ag__.ld(warnings).warn, (ag__.ld(msg), ag__.ld(UndefinedMetricWarning)), dict(stacklevel=2), fscope)\n"
     ]
    },
    {
     "name": "stdout",
     "output_type": "stream",
     "text": [
      "108/128 [========================>.....] - ETA: 14s - loss: 1.0392 - accuracy: 0.5049 - precision: 0.2654 - recall: 0.5049 - F1_score: 0.3417"
     ]
    },
    {
     "name": "stderr",
     "output_type": "stream",
     "text": [
      "C:\\Users\\Fat7y\\AppData\\Local\\Temp\\tmpvm54tj9k.py:42: UndefinedMetricWarning: Precision is ill-defined and being set to 0.0 in labels with no predicted samples. Use `zero_division` parameter to control this behavior.\n",
      "  ag__.converted_call(ag__.ld(warnings).warn, (ag__.ld(msg), ag__.ld(UndefinedMetricWarning)), dict(stacklevel=2), fscope)\n"
     ]
    },
    {
     "name": "stdout",
     "output_type": "stream",
     "text": [
      "109/128 [========================>.....] - ETA: 14s - loss: 1.0392 - accuracy: 0.5050 - precision: 0.2654 - recall: 0.5050 - F1_score: 0.3418"
     ]
    },
    {
     "name": "stderr",
     "output_type": "stream",
     "text": [
      "C:\\Users\\Fat7y\\AppData\\Local\\Temp\\tmpvm54tj9k.py:42: UndefinedMetricWarning: Precision is ill-defined and being set to 0.0 in labels with no predicted samples. Use `zero_division` parameter to control this behavior.\n",
      "  ag__.converted_call(ag__.ld(warnings).warn, (ag__.ld(msg), ag__.ld(UndefinedMetricWarning)), dict(stacklevel=2), fscope)\n"
     ]
    },
    {
     "name": "stdout",
     "output_type": "stream",
     "text": [
      "110/128 [========================>.....] - ETA: 13s - loss: 1.0390 - accuracy: 0.5053 - precision: 0.2655 - recall: 0.5053 - F1_score: 0.3420"
     ]
    },
    {
     "name": "stderr",
     "output_type": "stream",
     "text": [
      "C:\\Users\\Fat7y\\AppData\\Local\\Temp\\tmpvm54tj9k.py:42: UndefinedMetricWarning: Precision is ill-defined and being set to 0.0 in labels with no predicted samples. Use `zero_division` parameter to control this behavior.\n",
      "  ag__.converted_call(ag__.ld(warnings).warn, (ag__.ld(msg), ag__.ld(UndefinedMetricWarning)), dict(stacklevel=2), fscope)\n"
     ]
    },
    {
     "name": "stdout",
     "output_type": "stream",
     "text": [
      "112/128 [=========================>....] - ETA: 11s - loss: 1.0382 - accuracy: 0.5066 - precision: 0.2668 - recall: 0.5066 - F1_score: 0.3435"
     ]
    },
    {
     "name": "stderr",
     "output_type": "stream",
     "text": [
      "C:\\Users\\Fat7y\\AppData\\Local\\Temp\\tmpvm54tj9k.py:42: UndefinedMetricWarning: Precision is ill-defined and being set to 0.0 in labels with no predicted samples. Use `zero_division` parameter to control this behavior.\n",
      "  ag__.converted_call(ag__.ld(warnings).warn, (ag__.ld(msg), ag__.ld(UndefinedMetricWarning)), dict(stacklevel=2), fscope)\n",
      "C:\\Users\\Fat7y\\AppData\\Local\\Temp\\tmpvm54tj9k.py:42: UndefinedMetricWarning: Precision is ill-defined and being set to 0.0 in labels with no predicted samples. Use `zero_division` parameter to control this behavior.\n",
      "  ag__.converted_call(ag__.ld(warnings).warn, (ag__.ld(msg), ag__.ld(UndefinedMetricWarning)), dict(stacklevel=2), fscope)\n"
     ]
    },
    {
     "name": "stdout",
     "output_type": "stream",
     "text": [
      "113/128 [=========================>....] - ETA: 10s - loss: 1.0381 - accuracy: 0.5064 - precision: 0.2665 - recall: 0.5064 - F1_score: 0.3432"
     ]
    },
    {
     "name": "stderr",
     "output_type": "stream",
     "text": [
      "C:\\Users\\Fat7y\\AppData\\Local\\Temp\\tmpvm54tj9k.py:42: UndefinedMetricWarning: Precision is ill-defined and being set to 0.0 in labels with no predicted samples. Use `zero_division` parameter to control this behavior.\n",
      "  ag__.converted_call(ag__.ld(warnings).warn, (ag__.ld(msg), ag__.ld(UndefinedMetricWarning)), dict(stacklevel=2), fscope)\n"
     ]
    },
    {
     "name": "stdout",
     "output_type": "stream",
     "text": [
      "114/128 [=========================>....] - ETA: 10s - loss: 1.0379 - accuracy: 0.5070 - precision: 0.2671 - recall: 0.5070 - F1_score: 0.3439"
     ]
    },
    {
     "name": "stderr",
     "output_type": "stream",
     "text": [
      "C:\\Users\\Fat7y\\AppData\\Local\\Temp\\tmpvm54tj9k.py:42: UndefinedMetricWarning: Precision is ill-defined and being set to 0.0 in labels with no predicted samples. Use `zero_division` parameter to control this behavior.\n",
      "  ag__.converted_call(ag__.ld(warnings).warn, (ag__.ld(msg), ag__.ld(UndefinedMetricWarning)), dict(stacklevel=2), fscope)\n"
     ]
    },
    {
     "name": "stdout",
     "output_type": "stream",
     "text": [
      "116/128 [==========================>...] - ETA: 8s - loss: 1.0384 - accuracy: 0.5065 - precision: 0.2664 - recall: 0.5065 - F1_score: 0.3433"
     ]
    },
    {
     "name": "stderr",
     "output_type": "stream",
     "text": [
      "C:\\Users\\Fat7y\\AppData\\Local\\Temp\\tmpvm54tj9k.py:42: UndefinedMetricWarning: Precision is ill-defined and being set to 0.0 in labels with no predicted samples. Use `zero_division` parameter to control this behavior.\n",
      "  ag__.converted_call(ag__.ld(warnings).warn, (ag__.ld(msg), ag__.ld(UndefinedMetricWarning)), dict(stacklevel=2), fscope)\n",
      "C:\\Users\\Fat7y\\AppData\\Local\\Temp\\tmpvm54tj9k.py:42: UndefinedMetricWarning: Precision is ill-defined and being set to 0.0 in labels with no predicted samples. Use `zero_division` parameter to control this behavior.\n",
      "  ag__.converted_call(ag__.ld(warnings).warn, (ag__.ld(msg), ag__.ld(UndefinedMetricWarning)), dict(stacklevel=2), fscope)\n"
     ]
    },
    {
     "name": "stdout",
     "output_type": "stream",
     "text": [
      "117/128 [==========================>...] - ETA: 7s - loss: 1.0380 - accuracy: 0.5069 - precision: 0.2669 - recall: 0.5069 - F1_score: 0.3439"
     ]
    },
    {
     "name": "stderr",
     "output_type": "stream",
     "text": [
      "C:\\Users\\Fat7y\\AppData\\Local\\Temp\\tmpvm54tj9k.py:42: UndefinedMetricWarning: Precision is ill-defined and being set to 0.0 in labels with no predicted samples. Use `zero_division` parameter to control this behavior.\n",
      "  ag__.converted_call(ag__.ld(warnings).warn, (ag__.ld(msg), ag__.ld(UndefinedMetricWarning)), dict(stacklevel=2), fscope)\n"
     ]
    },
    {
     "name": "stdout",
     "output_type": "stream",
     "text": [
      "118/128 [==========================>...] - ETA: 7s - loss: 1.0383 - accuracy: 0.5065 - precision: 0.2663 - recall: 0.5065 - F1_score: 0.3433"
     ]
    },
    {
     "name": "stderr",
     "output_type": "stream",
     "text": [
      "C:\\Users\\Fat7y\\AppData\\Local\\Temp\\tmpvm54tj9k.py:42: UndefinedMetricWarning: Precision is ill-defined and being set to 0.0 in labels with no predicted samples. Use `zero_division` parameter to control this behavior.\n",
      "  ag__.converted_call(ag__.ld(warnings).warn, (ag__.ld(msg), ag__.ld(UndefinedMetricWarning)), dict(stacklevel=2), fscope)\n"
     ]
    },
    {
     "name": "stdout",
     "output_type": "stream",
     "text": [
      "119/128 [==========================>...] - ETA: 6s - loss: 1.0377 - accuracy: 0.5071 - precision: 0.2669 - recall: 0.5071 - F1_score: 0.3440"
     ]
    },
    {
     "name": "stderr",
     "output_type": "stream",
     "text": [
      "C:\\Users\\Fat7y\\AppData\\Local\\Temp\\tmpvm54tj9k.py:42: UndefinedMetricWarning: Precision is ill-defined and being set to 0.0 in labels with no predicted samples. Use `zero_division` parameter to control this behavior.\n",
      "  ag__.converted_call(ag__.ld(warnings).warn, (ag__.ld(msg), ag__.ld(UndefinedMetricWarning)), dict(stacklevel=2), fscope)\n"
     ]
    },
    {
     "name": "stdout",
     "output_type": "stream",
     "text": [
      "120/128 [===========================>..] - ETA: 5s - loss: 1.0375 - accuracy: 0.5072 - precision: 0.2669 - recall: 0.5072 - F1_score: 0.3441"
     ]
    },
    {
     "name": "stderr",
     "output_type": "stream",
     "text": [
      "C:\\Users\\Fat7y\\AppData\\Local\\Temp\\tmpvm54tj9k.py:42: UndefinedMetricWarning: Precision is ill-defined and being set to 0.0 in labels with no predicted samples. Use `zero_division` parameter to control this behavior.\n",
      "  ag__.converted_call(ag__.ld(warnings).warn, (ag__.ld(msg), ag__.ld(UndefinedMetricWarning)), dict(stacklevel=2), fscope)\n"
     ]
    },
    {
     "name": "stdout",
     "output_type": "stream",
     "text": [
      "121/128 [===========================>..] - ETA: 5s - loss: 1.0378 - accuracy: 0.5066 - precision: 0.2663 - recall: 0.5066 - F1_score: 0.3434"
     ]
    },
    {
     "name": "stderr",
     "output_type": "stream",
     "text": [
      "C:\\Users\\Fat7y\\AppData\\Local\\Temp\\tmpvm54tj9k.py:42: UndefinedMetricWarning: Precision is ill-defined and being set to 0.0 in labels with no predicted samples. Use `zero_division` parameter to control this behavior.\n",
      "  ag__.converted_call(ag__.ld(warnings).warn, (ag__.ld(msg), ag__.ld(UndefinedMetricWarning)), dict(stacklevel=2), fscope)\n"
     ]
    },
    {
     "name": "stdout",
     "output_type": "stream",
     "text": [
      "122/128 [===========================>..] - ETA: 4s - loss: 1.0374 - accuracy: 0.5070 - precision: 0.2667 - recall: 0.5070 - F1_score: 0.3439"
     ]
    },
    {
     "name": "stderr",
     "output_type": "stream",
     "text": [
      "C:\\Users\\Fat7y\\AppData\\Local\\Temp\\tmpvm54tj9k.py:42: UndefinedMetricWarning: Precision is ill-defined and being set to 0.0 in labels with no predicted samples. Use `zero_division` parameter to control this behavior.\n",
      "  ag__.converted_call(ag__.ld(warnings).warn, (ag__.ld(msg), ag__.ld(UndefinedMetricWarning)), dict(stacklevel=2), fscope)\n"
     ]
    },
    {
     "name": "stdout",
     "output_type": "stream",
     "text": [
      "123/128 [===========================>..] - ETA: 3s - loss: 1.0372 - accuracy: 0.5072 - precision: 0.2668 - recall: 0.5072 - F1_score: 0.3441"
     ]
    },
    {
     "name": "stderr",
     "output_type": "stream",
     "text": [
      "C:\\Users\\Fat7y\\AppData\\Local\\Temp\\tmpvm54tj9k.py:42: UndefinedMetricWarning: Precision is ill-defined and being set to 0.0 in labels with no predicted samples. Use `zero_division` parameter to control this behavior.\n",
      "  ag__.converted_call(ag__.ld(warnings).warn, (ag__.ld(msg), ag__.ld(UndefinedMetricWarning)), dict(stacklevel=2), fscope)\n"
     ]
    },
    {
     "name": "stdout",
     "output_type": "stream",
     "text": [
      "125/128 [============================>.] - ETA: 2s - loss: 1.0370 - accuracy: 0.5074 - precision: 0.2668 - recall: 0.5074 - F1_score: 0.3443"
     ]
    },
    {
     "name": "stderr",
     "output_type": "stream",
     "text": [
      "C:\\Users\\Fat7y\\AppData\\Local\\Temp\\tmpvm54tj9k.py:42: UndefinedMetricWarning: Precision is ill-defined and being set to 0.0 in labels with no predicted samples. Use `zero_division` parameter to control this behavior.\n",
      "  ag__.converted_call(ag__.ld(warnings).warn, (ag__.ld(msg), ag__.ld(UndefinedMetricWarning)), dict(stacklevel=2), fscope)\n",
      "C:\\Users\\Fat7y\\AppData\\Local\\Temp\\tmpvm54tj9k.py:42: UndefinedMetricWarning: Precision is ill-defined and being set to 0.0 in labels with no predicted samples. Use `zero_division` parameter to control this behavior.\n",
      "  ag__.converted_call(ag__.ld(warnings).warn, (ag__.ld(msg), ag__.ld(UndefinedMetricWarning)), dict(stacklevel=2), fscope)\n"
     ]
    },
    {
     "name": "stdout",
     "output_type": "stream",
     "text": [
      "127/128 [============================>.] - ETA: 0s - loss: 1.0373 - accuracy: 0.5069 - precision: 0.2662 - recall: 0.5069 - F1_score: 0.3437"
     ]
    },
    {
     "name": "stderr",
     "output_type": "stream",
     "text": [
      "C:\\Users\\Fat7y\\AppData\\Local\\Temp\\tmpvm54tj9k.py:42: UndefinedMetricWarning: Precision is ill-defined and being set to 0.0 in labels with no predicted samples. Use `zero_division` parameter to control this behavior.\n",
      "  ag__.converted_call(ag__.ld(warnings).warn, (ag__.ld(msg), ag__.ld(UndefinedMetricWarning)), dict(stacklevel=2), fscope)\n",
      "C:\\Users\\Fat7y\\AppData\\Local\\Temp\\tmpvm54tj9k.py:42: UndefinedMetricWarning: Precision is ill-defined and being set to 0.0 in labels with no predicted samples. Use `zero_division` parameter to control this behavior.\n",
      "  ag__.converted_call(ag__.ld(warnings).warn, (ag__.ld(msg), ag__.ld(UndefinedMetricWarning)), dict(stacklevel=2), fscope)\n"
     ]
    },
    {
     "name": "stdout",
     "output_type": "stream",
     "text": [
      "128/128 [==============================] - ETA: 0s - loss: 1.0371 - accuracy: 0.5071 - precision: 0.2669 - recall: 0.5076 - F1_score: 0.3445"
     ]
    },
    {
     "name": "stderr",
     "output_type": "stream",
     "text": [
      "C:\\Users\\Fat7y\\AppData\\Local\\Temp\\tmpvm54tj9k.py:42: UndefinedMetricWarning: Precision is ill-defined and being set to 0.0 in labels with no predicted samples. Use `zero_division` parameter to control this behavior.\n",
      "  ag__.converted_call(ag__.ld(warnings).warn, (ag__.ld(msg), ag__.ld(UndefinedMetricWarning)), dict(stacklevel=2), fscope)\n",
      "C:\\Users\\Fat7y\\AppData\\Local\\Temp\\tmpvm54tj9k.py:42: UndefinedMetricWarning: Precision is ill-defined and being set to 0.0 in labels with no predicted samples. Use `zero_division` parameter to control this behavior.\n",
      "  ag__.converted_call(ag__.ld(warnings).warn, (ag__.ld(msg), ag__.ld(UndefinedMetricWarning)), dict(stacklevel=2), fscope)\n",
      "C:\\Users\\Fat7y\\AppData\\Local\\Temp\\tmpvm54tj9k.py:42: UndefinedMetricWarning: Precision is ill-defined and being set to 0.0 in labels with no predicted samples. Use `zero_division` parameter to control this behavior.\n",
      "  ag__.converted_call(ag__.ld(warnings).warn, (ag__.ld(msg), ag__.ld(UndefinedMetricWarning)), dict(stacklevel=2), fscope)\n",
      "C:\\Users\\Fat7y\\AppData\\Local\\Temp\\tmpvm54tj9k.py:42: UndefinedMetricWarning: Precision is ill-defined and being set to 0.0 in labels with no predicted samples. Use `zero_division` parameter to control this behavior.\n",
      "  ag__.converted_call(ag__.ld(warnings).warn, (ag__.ld(msg), ag__.ld(UndefinedMetricWarning)), dict(stacklevel=2), fscope)\n",
      "C:\\Users\\Fat7y\\AppData\\Local\\Temp\\tmpvm54tj9k.py:42: UndefinedMetricWarning: Precision is ill-defined and being set to 0.0 in labels with no predicted samples. Use `zero_division` parameter to control this behavior.\n",
      "  ag__.converted_call(ag__.ld(warnings).warn, (ag__.ld(msg), ag__.ld(UndefinedMetricWarning)), dict(stacklevel=2), fscope)\n",
      "C:\\Users\\Fat7y\\AppData\\Local\\Temp\\tmpvm54tj9k.py:42: UndefinedMetricWarning: Precision is ill-defined and being set to 0.0 in labels with no predicted samples. Use `zero_division` parameter to control this behavior.\n",
      "  ag__.converted_call(ag__.ld(warnings).warn, (ag__.ld(msg), ag__.ld(UndefinedMetricWarning)), dict(stacklevel=2), fscope)\n",
      "C:\\Users\\Fat7y\\AppData\\Local\\Temp\\tmpvm54tj9k.py:42: UndefinedMetricWarning: Precision is ill-defined and being set to 0.0 in labels with no predicted samples. Use `zero_division` parameter to control this behavior.\n",
      "  ag__.converted_call(ag__.ld(warnings).warn, (ag__.ld(msg), ag__.ld(UndefinedMetricWarning)), dict(stacklevel=2), fscope)\n",
      "C:\\Users\\Fat7y\\AppData\\Local\\Temp\\tmpvm54tj9k.py:42: UndefinedMetricWarning: Precision is ill-defined and being set to 0.0 in labels with no predicted samples. Use `zero_division` parameter to control this behavior.\n",
      "  ag__.converted_call(ag__.ld(warnings).warn, (ag__.ld(msg), ag__.ld(UndefinedMetricWarning)), dict(stacklevel=2), fscope)\n",
      "C:\\Users\\Fat7y\\AppData\\Local\\Temp\\tmpvm54tj9k.py:42: UndefinedMetricWarning: Precision is ill-defined and being set to 0.0 in labels with no predicted samples. Use `zero_division` parameter to control this behavior.\n",
      "  ag__.converted_call(ag__.ld(warnings).warn, (ag__.ld(msg), ag__.ld(UndefinedMetricWarning)), dict(stacklevel=2), fscope)\n",
      "C:\\Users\\Fat7y\\AppData\\Local\\Temp\\tmpvm54tj9k.py:42: UndefinedMetricWarning: Precision is ill-defined and being set to 0.0 in labels with no predicted samples. Use `zero_division` parameter to control this behavior.\n",
      "  ag__.converted_call(ag__.ld(warnings).warn, (ag__.ld(msg), ag__.ld(UndefinedMetricWarning)), dict(stacklevel=2), fscope)\n",
      "C:\\Users\\Fat7y\\AppData\\Local\\Temp\\tmpvm54tj9k.py:42: UndefinedMetricWarning: Precision is ill-defined and being set to 0.0 in labels with no predicted samples. Use `zero_division` parameter to control this behavior.\n",
      "  ag__.converted_call(ag__.ld(warnings).warn, (ag__.ld(msg), ag__.ld(UndefinedMetricWarning)), dict(stacklevel=2), fscope)\n",
      "C:\\Users\\Fat7y\\AppData\\Local\\Temp\\tmpvm54tj9k.py:42: UndefinedMetricWarning: Precision is ill-defined and being set to 0.0 in labels with no predicted samples. Use `zero_division` parameter to control this behavior.\n",
      "  ag__.converted_call(ag__.ld(warnings).warn, (ag__.ld(msg), ag__.ld(UndefinedMetricWarning)), dict(stacklevel=2), fscope)\n",
      "C:\\Users\\Fat7y\\AppData\\Local\\Temp\\tmpvm54tj9k.py:42: UndefinedMetricWarning: Precision is ill-defined and being set to 0.0 in labels with no predicted samples. Use `zero_division` parameter to control this behavior.\n",
      "  ag__.converted_call(ag__.ld(warnings).warn, (ag__.ld(msg), ag__.ld(UndefinedMetricWarning)), dict(stacklevel=2), fscope)\n",
      "C:\\Users\\Fat7y\\AppData\\Local\\Temp\\tmpvm54tj9k.py:42: UndefinedMetricWarning: Precision is ill-defined and being set to 0.0 in labels with no predicted samples. Use `zero_division` parameter to control this behavior.\n",
      "  ag__.converted_call(ag__.ld(warnings).warn, (ag__.ld(msg), ag__.ld(UndefinedMetricWarning)), dict(stacklevel=2), fscope)\n",
      "C:\\Users\\Fat7y\\AppData\\Local\\Temp\\tmpvm54tj9k.py:42: UndefinedMetricWarning: Precision is ill-defined and being set to 0.0 in labels with no predicted samples. Use `zero_division` parameter to control this behavior.\n",
      "  ag__.converted_call(ag__.ld(warnings).warn, (ag__.ld(msg), ag__.ld(UndefinedMetricWarning)), dict(stacklevel=2), fscope)\n",
      "C:\\Users\\Fat7y\\AppData\\Local\\Temp\\tmpvm54tj9k.py:42: UndefinedMetricWarning: Precision is ill-defined and being set to 0.0 in labels with no predicted samples. Use `zero_division` parameter to control this behavior.\n",
      "  ag__.converted_call(ag__.ld(warnings).warn, (ag__.ld(msg), ag__.ld(UndefinedMetricWarning)), dict(stacklevel=2), fscope)\n",
      "C:\\Users\\Fat7y\\AppData\\Local\\Temp\\tmpvm54tj9k.py:42: UndefinedMetricWarning: Precision is ill-defined and being set to 0.0 in labels with no predicted samples. Use `zero_division` parameter to control this behavior.\n",
      "  ag__.converted_call(ag__.ld(warnings).warn, (ag__.ld(msg), ag__.ld(UndefinedMetricWarning)), dict(stacklevel=2), fscope)\n",
      "C:\\Users\\Fat7y\\AppData\\Local\\Temp\\tmpvm54tj9k.py:42: UndefinedMetricWarning: Precision is ill-defined and being set to 0.0 in labels with no predicted samples. Use `zero_division` parameter to control this behavior.\n",
      "  ag__.converted_call(ag__.ld(warnings).warn, (ag__.ld(msg), ag__.ld(UndefinedMetricWarning)), dict(stacklevel=2), fscope)\n",
      "C:\\Users\\Fat7y\\AppData\\Local\\Temp\\tmpvm54tj9k.py:42: UndefinedMetricWarning: Precision is ill-defined and being set to 0.0 in labels with no predicted samples. Use `zero_division` parameter to control this behavior.\n",
      "  ag__.converted_call(ag__.ld(warnings).warn, (ag__.ld(msg), ag__.ld(UndefinedMetricWarning)), dict(stacklevel=2), fscope)\n",
      "C:\\Users\\Fat7y\\AppData\\Local\\Temp\\tmpvm54tj9k.py:42: UndefinedMetricWarning: Precision is ill-defined and being set to 0.0 in labels with no predicted samples. Use `zero_division` parameter to control this behavior.\n",
      "  ag__.converted_call(ag__.ld(warnings).warn, (ag__.ld(msg), ag__.ld(UndefinedMetricWarning)), dict(stacklevel=2), fscope)\n",
      "C:\\Users\\Fat7y\\AppData\\Local\\Temp\\tmpvm54tj9k.py:42: UndefinedMetricWarning: Precision is ill-defined and being set to 0.0 in labels with no predicted samples. Use `zero_division` parameter to control this behavior.\n",
      "  ag__.converted_call(ag__.ld(warnings).warn, (ag__.ld(msg), ag__.ld(UndefinedMetricWarning)), dict(stacklevel=2), fscope)\n",
      "C:\\Users\\Fat7y\\AppData\\Local\\Temp\\tmpvm54tj9k.py:42: UndefinedMetricWarning: Precision is ill-defined and being set to 0.0 in labels with no predicted samples. Use `zero_division` parameter to control this behavior.\n",
      "  ag__.converted_call(ag__.ld(warnings).warn, (ag__.ld(msg), ag__.ld(UndefinedMetricWarning)), dict(stacklevel=2), fscope)\n",
      "C:\\Users\\Fat7y\\AppData\\Local\\Temp\\tmpvm54tj9k.py:42: UndefinedMetricWarning: Precision is ill-defined and being set to 0.0 in labels with no predicted samples. Use `zero_division` parameter to control this behavior.\n",
      "  ag__.converted_call(ag__.ld(warnings).warn, (ag__.ld(msg), ag__.ld(UndefinedMetricWarning)), dict(stacklevel=2), fscope)\n",
      "C:\\Users\\Fat7y\\AppData\\Local\\Temp\\tmpvm54tj9k.py:42: UndefinedMetricWarning: Precision is ill-defined and being set to 0.0 in labels with no predicted samples. Use `zero_division` parameter to control this behavior.\n",
      "  ag__.converted_call(ag__.ld(warnings).warn, (ag__.ld(msg), ag__.ld(UndefinedMetricWarning)), dict(stacklevel=2), fscope)\n",
      "C:\\Users\\Fat7y\\AppData\\Local\\Temp\\tmpvm54tj9k.py:42: UndefinedMetricWarning: Precision is ill-defined and being set to 0.0 in labels with no predicted samples. Use `zero_division` parameter to control this behavior.\n",
      "  ag__.converted_call(ag__.ld(warnings).warn, (ag__.ld(msg), ag__.ld(UndefinedMetricWarning)), dict(stacklevel=2), fscope)\n",
      "C:\\Users\\Fat7y\\AppData\\Local\\Temp\\tmpvm54tj9k.py:42: UndefinedMetricWarning: Precision is ill-defined and being set to 0.0 in labels with no predicted samples. Use `zero_division` parameter to control this behavior.\n",
      "  ag__.converted_call(ag__.ld(warnings).warn, (ag__.ld(msg), ag__.ld(UndefinedMetricWarning)), dict(stacklevel=2), fscope)\n",
      "C:\\Users\\Fat7y\\AppData\\Local\\Temp\\tmpvm54tj9k.py:42: UndefinedMetricWarning: Precision is ill-defined and being set to 0.0 in labels with no predicted samples. Use `zero_division` parameter to control this behavior.\n",
      "  ag__.converted_call(ag__.ld(warnings).warn, (ag__.ld(msg), ag__.ld(UndefinedMetricWarning)), dict(stacklevel=2), fscope)\n",
      "C:\\Users\\Fat7y\\AppData\\Local\\Temp\\tmpvm54tj9k.py:42: UndefinedMetricWarning: Precision is ill-defined and being set to 0.0 in labels with no predicted samples. Use `zero_division` parameter to control this behavior.\n",
      "  ag__.converted_call(ag__.ld(warnings).warn, (ag__.ld(msg), ag__.ld(UndefinedMetricWarning)), dict(stacklevel=2), fscope)\n",
      "C:\\Users\\Fat7y\\AppData\\Local\\Temp\\tmpvm54tj9k.py:42: UndefinedMetricWarning: Precision is ill-defined and being set to 0.0 in labels with no predicted samples. Use `zero_division` parameter to control this behavior.\n",
      "  ag__.converted_call(ag__.ld(warnings).warn, (ag__.ld(msg), ag__.ld(UndefinedMetricWarning)), dict(stacklevel=2), fscope)\n",
      "C:\\Users\\Fat7y\\AppData\\Local\\Temp\\tmpvm54tj9k.py:42: UndefinedMetricWarning: Precision is ill-defined and being set to 0.0 in labels with no predicted samples. Use `zero_division` parameter to control this behavior.\n",
      "  ag__.converted_call(ag__.ld(warnings).warn, (ag__.ld(msg), ag__.ld(UndefinedMetricWarning)), dict(stacklevel=2), fscope)\n",
      "C:\\Users\\Fat7y\\AppData\\Local\\Temp\\tmpvm54tj9k.py:42: UndefinedMetricWarning: Precision is ill-defined and being set to 0.0 in labels with no predicted samples. Use `zero_division` parameter to control this behavior.\n",
      "  ag__.converted_call(ag__.ld(warnings).warn, (ag__.ld(msg), ag__.ld(UndefinedMetricWarning)), dict(stacklevel=2), fscope)\n",
      "C:\\Users\\Fat7y\\AppData\\Local\\Temp\\tmpvm54tj9k.py:42: UndefinedMetricWarning: Precision is ill-defined and being set to 0.0 in labels with no predicted samples. Use `zero_division` parameter to control this behavior.\n",
      "  ag__.converted_call(ag__.ld(warnings).warn, (ag__.ld(msg), ag__.ld(UndefinedMetricWarning)), dict(stacklevel=2), fscope)\n",
      "C:\\Users\\Fat7y\\AppData\\Local\\Temp\\tmpvm54tj9k.py:42: UndefinedMetricWarning: Precision is ill-defined and being set to 0.0 in labels with no predicted samples. Use `zero_division` parameter to control this behavior.\n",
      "  ag__.converted_call(ag__.ld(warnings).warn, (ag__.ld(msg), ag__.ld(UndefinedMetricWarning)), dict(stacklevel=2), fscope)\n",
      "C:\\Users\\Fat7y\\AppData\\Local\\Temp\\tmpvm54tj9k.py:42: UndefinedMetricWarning: Precision is ill-defined and being set to 0.0 in labels with no predicted samples. Use `zero_division` parameter to control this behavior.\n",
      "  ag__.converted_call(ag__.ld(warnings).warn, (ag__.ld(msg), ag__.ld(UndefinedMetricWarning)), dict(stacklevel=2), fscope)\n",
      "C:\\Users\\Fat7y\\AppData\\Local\\Temp\\tmpvm54tj9k.py:42: UndefinedMetricWarning: Precision is ill-defined and being set to 0.0 in labels with no predicted samples. Use `zero_division` parameter to control this behavior.\n",
      "  ag__.converted_call(ag__.ld(warnings).warn, (ag__.ld(msg), ag__.ld(UndefinedMetricWarning)), dict(stacklevel=2), fscope)\n",
      "C:\\Users\\Fat7y\\AppData\\Local\\Temp\\tmpvm54tj9k.py:42: UndefinedMetricWarning: Precision is ill-defined and being set to 0.0 in labels with no predicted samples. Use `zero_division` parameter to control this behavior.\n",
      "  ag__.converted_call(ag__.ld(warnings).warn, (ag__.ld(msg), ag__.ld(UndefinedMetricWarning)), dict(stacklevel=2), fscope)\n",
      "C:\\Users\\Fat7y\\AppData\\Local\\Temp\\tmpvm54tj9k.py:42: UndefinedMetricWarning: Precision is ill-defined and being set to 0.0 in labels with no predicted samples. Use `zero_division` parameter to control this behavior.\n",
      "  ag__.converted_call(ag__.ld(warnings).warn, (ag__.ld(msg), ag__.ld(UndefinedMetricWarning)), dict(stacklevel=2), fscope)\n",
      "C:\\Users\\Fat7y\\AppData\\Local\\Temp\\tmpvm54tj9k.py:42: UndefinedMetricWarning: Precision is ill-defined and being set to 0.0 in labels with no predicted samples. Use `zero_division` parameter to control this behavior.\n",
      "  ag__.converted_call(ag__.ld(warnings).warn, (ag__.ld(msg), ag__.ld(UndefinedMetricWarning)), dict(stacklevel=2), fscope)\n",
      "C:\\Users\\Fat7y\\AppData\\Local\\Temp\\tmpvm54tj9k.py:42: UndefinedMetricWarning: Precision is ill-defined and being set to 0.0 in labels with no predicted samples. Use `zero_division` parameter to control this behavior.\n",
      "  ag__.converted_call(ag__.ld(warnings).warn, (ag__.ld(msg), ag__.ld(UndefinedMetricWarning)), dict(stacklevel=2), fscope)\n",
      "C:\\Users\\Fat7y\\AppData\\Local\\Temp\\tmpvm54tj9k.py:42: UndefinedMetricWarning: Precision is ill-defined and being set to 0.0 in labels with no predicted samples. Use `zero_division` parameter to control this behavior.\n",
      "  ag__.converted_call(ag__.ld(warnings).warn, (ag__.ld(msg), ag__.ld(UndefinedMetricWarning)), dict(stacklevel=2), fscope)\n",
      "C:\\Users\\Fat7y\\AppData\\Local\\Temp\\tmpvm54tj9k.py:42: UndefinedMetricWarning: Precision is ill-defined and being set to 0.0 in labels with no predicted samples. Use `zero_division` parameter to control this behavior.\n",
      "  ag__.converted_call(ag__.ld(warnings).warn, (ag__.ld(msg), ag__.ld(UndefinedMetricWarning)), dict(stacklevel=2), fscope)\n",
      "C:\\Users\\Fat7y\\AppData\\Local\\Temp\\tmpvm54tj9k.py:42: UndefinedMetricWarning: Precision is ill-defined and being set to 0.0 in labels with no predicted samples. Use `zero_division` parameter to control this behavior.\n",
      "  ag__.converted_call(ag__.ld(warnings).warn, (ag__.ld(msg), ag__.ld(UndefinedMetricWarning)), dict(stacklevel=2), fscope)\n",
      "C:\\Users\\Fat7y\\AppData\\Local\\Temp\\tmpvm54tj9k.py:42: UndefinedMetricWarning: Precision is ill-defined and being set to 0.0 in labels with no predicted samples. Use `zero_division` parameter to control this behavior.\n",
      "  ag__.converted_call(ag__.ld(warnings).warn, (ag__.ld(msg), ag__.ld(UndefinedMetricWarning)), dict(stacklevel=2), fscope)\n"
     ]
    },
    {
     "name": "stdout",
     "output_type": "stream",
     "text": [
      "128/128 [==============================] - 154s 1s/step - loss: 1.0371 - accuracy: 0.5071 - precision: 0.2669 - recall: 0.5076 - F1_score: 0.3445 - val_loss: 1.0265 - val_accuracy: 0.5169 - val_precision: 0.2705 - val_recall: 0.5172 - val_F1_score: 0.3544\n",
      "\n",
      "Epoch 00001: saving model to training_1\\cp.ckpt\n",
      "Epoch 2/40\n",
      "  1/128 [..............................] - ETA: 5:23 - loss: 0.9894 - accuracy: 0.5625 - precision: 0.3164 - recall: 0.5625 - F1_score: 0.4050"
     ]
    },
    {
     "name": "stderr",
     "output_type": "stream",
     "text": [
      "C:\\Users\\Fat7y\\AppData\\Local\\Temp\\tmpvm54tj9k.py:42: UndefinedMetricWarning: Precision is ill-defined and being set to 0.0 in labels with no predicted samples. Use `zero_division` parameter to control this behavior.\n",
      "  ag__.converted_call(ag__.ld(warnings).warn, (ag__.ld(msg), ag__.ld(UndefinedMetricWarning)), dict(stacklevel=2), fscope)\n"
     ]
    },
    {
     "name": "stdout",
     "output_type": "stream",
     "text": [
      "  2/128 [..............................] - ETA: 1:02 - loss: 1.0298 - accuracy: 0.5078 - precision: 0.2609 - recall: 0.5078 - F1_score: 0.3438"
     ]
    },
    {
     "name": "stderr",
     "output_type": "stream",
     "text": [
      "C:\\Users\\Fat7y\\AppData\\Local\\Temp\\tmpvm54tj9k.py:42: UndefinedMetricWarning: Precision is ill-defined and being set to 0.0 in labels with no predicted samples. Use `zero_division` parameter to control this behavior.\n",
      "  ag__.converted_call(ag__.ld(warnings).warn, (ag__.ld(msg), ag__.ld(UndefinedMetricWarning)), dict(stacklevel=2), fscope)\n",
      "C:\\Users\\Fat7y\\AppData\\Local\\Temp\\tmpvm54tj9k.py:42: UndefinedMetricWarning: Precision is ill-defined and being set to 0.0 in labels with no predicted samples. Use `zero_division` parameter to control this behavior.\n",
      "  ag__.converted_call(ag__.ld(warnings).warn, (ag__.ld(msg), ag__.ld(UndefinedMetricWarning)), dict(stacklevel=2), fscope)\n"
     ]
    },
    {
     "name": "stdout",
     "output_type": "stream",
     "text": [
      "  4/128 [..............................] - ETA: 1:04 - loss: 1.0335 - accuracy: 0.5000 - precision: 0.2518 - recall: 0.5000 - F1_score: 0.3344"
     ]
    },
    {
     "name": "stderr",
     "output_type": "stream",
     "text": [
      "C:\\Users\\Fat7y\\AppData\\Local\\Temp\\tmpvm54tj9k.py:42: UndefinedMetricWarning: Precision is ill-defined and being set to 0.0 in labels with no predicted samples. Use `zero_division` parameter to control this behavior.\n",
      "  ag__.converted_call(ag__.ld(warnings).warn, (ag__.ld(msg), ag__.ld(UndefinedMetricWarning)), dict(stacklevel=2), fscope)\n"
     ]
    },
    {
     "name": "stdout",
     "output_type": "stream",
     "text": [
      "  5/128 [>.............................] - ETA: 1:02 - loss: 1.0304 - accuracy: 0.5031 - precision: 0.2546 - recall: 0.5031 - F1_score: 0.3377"
     ]
    },
    {
     "name": "stderr",
     "output_type": "stream",
     "text": [
      "C:\\Users\\Fat7y\\AppData\\Local\\Temp\\tmpvm54tj9k.py:42: UndefinedMetricWarning: Precision is ill-defined and being set to 0.0 in labels with no predicted samples. Use `zero_division` parameter to control this behavior.\n",
      "  ag__.converted_call(ag__.ld(warnings).warn, (ag__.ld(msg), ag__.ld(UndefinedMetricWarning)), dict(stacklevel=2), fscope)\n"
     ]
    },
    {
     "name": "stdout",
     "output_type": "stream",
     "text": [
      "  6/128 [>.............................] - ETA: 1:00 - loss: 1.0289 - accuracy: 0.5052 - precision: 0.2565 - recall: 0.5052 - F1_score: 0.3399"
     ]
    },
    {
     "name": "stderr",
     "output_type": "stream",
     "text": [
      "C:\\Users\\Fat7y\\AppData\\Local\\Temp\\tmpvm54tj9k.py:42: UndefinedMetricWarning: Precision is ill-defined and being set to 0.0 in labels with no predicted samples. Use `zero_division` parameter to control this behavior.\n",
      "  ag__.converted_call(ag__.ld(warnings).warn, (ag__.ld(msg), ag__.ld(UndefinedMetricWarning)), dict(stacklevel=2), fscope)\n",
      "C:\\Users\\Fat7y\\AppData\\Local\\Temp\\tmpvm54tj9k.py:42: UndefinedMetricWarning: Precision is ill-defined and being set to 0.0 in labels with no predicted samples. Use `zero_division` parameter to control this behavior.\n",
      "  ag__.converted_call(ag__.ld(warnings).warn, (ag__.ld(msg), ag__.ld(UndefinedMetricWarning)), dict(stacklevel=2), fscope)\n"
     ]
    },
    {
     "name": "stdout",
     "output_type": "stream",
     "text": [
      "  8/128 [>.............................] - ETA: 57s - loss: 1.0227 - accuracy: 0.5137 - precision: 0.2658 - recall: 0.5137 - F1_score: 0.3497"
     ]
    },
    {
     "name": "stderr",
     "output_type": "stream",
     "text": [
      "C:\\Users\\Fat7y\\AppData\\Local\\Temp\\tmpvm54tj9k.py:42: UndefinedMetricWarning: Precision is ill-defined and being set to 0.0 in labels with no predicted samples. Use `zero_division` parameter to control this behavior.\n",
      "  ag__.converted_call(ag__.ld(warnings).warn, (ag__.ld(msg), ag__.ld(UndefinedMetricWarning)), dict(stacklevel=2), fscope)\n"
     ]
    },
    {
     "name": "stdout",
     "output_type": "stream",
     "text": [
      "  9/128 [=>............................] - ETA: 58s - loss: 1.0214 - accuracy: 0.5174 - precision: 0.2695 - recall: 0.5174 - F1_score: 0.3538"
     ]
    },
    {
     "name": "stderr",
     "output_type": "stream",
     "text": [
      "C:\\Users\\Fat7y\\AppData\\Local\\Temp\\tmpvm54tj9k.py:42: UndefinedMetricWarning: Precision is ill-defined and being set to 0.0 in labels with no predicted samples. Use `zero_division` parameter to control this behavior.\n",
      "  ag__.converted_call(ag__.ld(warnings).warn, (ag__.ld(msg), ag__.ld(UndefinedMetricWarning)), dict(stacklevel=2), fscope)\n"
     ]
    },
    {
     "name": "stdout",
     "output_type": "stream",
     "text": [
      " 10/128 [=>............................] - ETA: 57s - loss: 1.0242 - accuracy: 0.5188 - precision: 0.2708 - recall: 0.5188 - F1_score: 0.3553"
     ]
    },
    {
     "name": "stderr",
     "output_type": "stream",
     "text": [
      "C:\\Users\\Fat7y\\AppData\\Local\\Temp\\tmpvm54tj9k.py:42: UndefinedMetricWarning: Precision is ill-defined and being set to 0.0 in labels with no predicted samples. Use `zero_division` parameter to control this behavior.\n",
      "  ag__.converted_call(ag__.ld(warnings).warn, (ag__.ld(msg), ag__.ld(UndefinedMetricWarning)), dict(stacklevel=2), fscope)\n"
     ]
    },
    {
     "name": "stdout",
     "output_type": "stream",
     "text": [
      " 11/128 [=>............................] - ETA: 56s - loss: 1.0282 - accuracy: 0.5114 - precision: 0.2635 - recall: 0.5114 - F1_score: 0.3472"
     ]
    },
    {
     "name": "stderr",
     "output_type": "stream",
     "text": [
      "C:\\Users\\Fat7y\\AppData\\Local\\Temp\\tmpvm54tj9k.py:42: UndefinedMetricWarning: Precision is ill-defined and being set to 0.0 in labels with no predicted samples. Use `zero_division` parameter to control this behavior.\n",
      "  ag__.converted_call(ag__.ld(warnings).warn, (ag__.ld(msg), ag__.ld(UndefinedMetricWarning)), dict(stacklevel=2), fscope)\n"
     ]
    },
    {
     "name": "stdout",
     "output_type": "stream",
     "text": [
      " 12/128 [=>............................] - ETA: 55s - loss: 1.0322 - accuracy: 0.5052 - precision: 0.2575 - recall: 0.5052 - F1_score: 0.3405"
     ]
    },
    {
     "name": "stderr",
     "output_type": "stream",
     "text": [
      "C:\\Users\\Fat7y\\AppData\\Local\\Temp\\tmpvm54tj9k.py:42: UndefinedMetricWarning: Precision is ill-defined and being set to 0.0 in labels with no predicted samples. Use `zero_division` parameter to control this behavior.\n",
      "  ag__.converted_call(ag__.ld(warnings).warn, (ag__.ld(msg), ag__.ld(UndefinedMetricWarning)), dict(stacklevel=2), fscope)\n"
     ]
    },
    {
     "name": "stdout",
     "output_type": "stream",
     "text": [
      " 13/128 [==>...........................] - ETA: 54s - loss: 1.0309 - accuracy: 0.5060 - precision: 0.2582 - recall: 0.5060 - F1_score: 0.3413"
     ]
    },
    {
     "name": "stderr",
     "output_type": "stream",
     "text": [
      "C:\\Users\\Fat7y\\AppData\\Local\\Temp\\tmpvm54tj9k.py:42: UndefinedMetricWarning: Precision is ill-defined and being set to 0.0 in labels with no predicted samples. Use `zero_division` parameter to control this behavior.\n",
      "  ag__.converted_call(ag__.ld(warnings).warn, (ag__.ld(msg), ag__.ld(UndefinedMetricWarning)), dict(stacklevel=2), fscope)\n"
     ]
    },
    {
     "name": "stdout",
     "output_type": "stream",
     "text": [
      " 14/128 [==>...........................] - ETA: 54s - loss: 1.0338 - accuracy: 0.5033 - precision: 0.2554 - recall: 0.5033 - F1_score: 0.3383"
     ]
    },
    {
     "name": "stderr",
     "output_type": "stream",
     "text": [
      "C:\\Users\\Fat7y\\AppData\\Local\\Temp\\tmpvm54tj9k.py:42: UndefinedMetricWarning: Precision is ill-defined and being set to 0.0 in labels with no predicted samples. Use `zero_division` parameter to control this behavior.\n",
      "  ag__.converted_call(ag__.ld(warnings).warn, (ag__.ld(msg), ag__.ld(UndefinedMetricWarning)), dict(stacklevel=2), fscope)\n"
     ]
    },
    {
     "name": "stdout",
     "output_type": "stream",
     "text": [
      " 15/128 [==>...........................] - ETA: 53s - loss: 1.0284 - accuracy: 0.5094 - precision: 0.2619 - recall: 0.5094 - F1_score: 0.3452"
     ]
    },
    {
     "name": "stderr",
     "output_type": "stream",
     "text": [
      "C:\\Users\\Fat7y\\AppData\\Local\\Temp\\tmpvm54tj9k.py:42: UndefinedMetricWarning: Precision is ill-defined and being set to 0.0 in labels with no predicted samples. Use `zero_division` parameter to control this behavior.\n",
      "  ag__.converted_call(ag__.ld(warnings).warn, (ag__.ld(msg), ag__.ld(UndefinedMetricWarning)), dict(stacklevel=2), fscope)\n"
     ]
    },
    {
     "name": "stdout",
     "output_type": "stream",
     "text": [
      " 16/128 [==>...........................] - ETA: 52s - loss: 1.0276 - accuracy: 0.5088 - precision: 0.2612 - recall: 0.5088 - F1_score: 0.3445"
     ]
    },
    {
     "name": "stderr",
     "output_type": "stream",
     "text": [
      "C:\\Users\\Fat7y\\AppData\\Local\\Temp\\tmpvm54tj9k.py:42: UndefinedMetricWarning: Precision is ill-defined and being set to 0.0 in labels with no predicted samples. Use `zero_division` parameter to control this behavior.\n",
      "  ag__.converted_call(ag__.ld(warnings).warn, (ag__.ld(msg), ag__.ld(UndefinedMetricWarning)), dict(stacklevel=2), fscope)\n",
      "C:\\Users\\Fat7y\\AppData\\Local\\Temp\\tmpvm54tj9k.py:42: UndefinedMetricWarning: Precision is ill-defined and being set to 0.0 in labels with no predicted samples. Use `zero_division` parameter to control this behavior.\n",
      "  ag__.converted_call(ag__.ld(warnings).warn, (ag__.ld(msg), ag__.ld(UndefinedMetricWarning)), dict(stacklevel=2), fscope)\n"
     ]
    },
    {
     "name": "stdout",
     "output_type": "stream",
     "text": [
      " 18/128 [===>..........................] - ETA: 51s - loss: 1.0221 - accuracy: 0.5139 - precision: 0.2663 - recall: 0.5139 - F1_score: 0.3502"
     ]
    },
    {
     "name": "stderr",
     "output_type": "stream",
     "text": [
      "C:\\Users\\Fat7y\\AppData\\Local\\Temp\\tmpvm54tj9k.py:42: UndefinedMetricWarning: Precision is ill-defined and being set to 0.0 in labels with no predicted samples. Use `zero_division` parameter to control this behavior.\n",
      "  ag__.converted_call(ag__.ld(warnings).warn, (ag__.ld(msg), ag__.ld(UndefinedMetricWarning)), dict(stacklevel=2), fscope)\n"
     ]
    },
    {
     "name": "stdout",
     "output_type": "stream",
     "text": [
      " 19/128 [===>..........................] - ETA: 51s - loss: 1.0186 - accuracy: 0.5148 - precision: 0.2672 - recall: 0.5148 - F1_score: 0.3511"
     ]
    },
    {
     "name": "stderr",
     "output_type": "stream",
     "text": [
      "C:\\Users\\Fat7y\\AppData\\Local\\Temp\\tmpvm54tj9k.py:42: UndefinedMetricWarning: Precision is ill-defined and being set to 0.0 in labels with no predicted samples. Use `zero_division` parameter to control this behavior.\n",
      "  ag__.converted_call(ag__.ld(warnings).warn, (ag__.ld(msg), ag__.ld(UndefinedMetricWarning)), dict(stacklevel=2), fscope)\n"
     ]
    },
    {
     "name": "stdout",
     "output_type": "stream",
     "text": [
      " 20/128 [===>..........................] - ETA: 50s - loss: 1.0194 - accuracy: 0.5172 - precision: 0.2696 - recall: 0.5172 - F1_score: 0.3538"
     ]
    },
    {
     "name": "stderr",
     "output_type": "stream",
     "text": [
      "C:\\Users\\Fat7y\\AppData\\Local\\Temp\\tmpvm54tj9k.py:42: UndefinedMetricWarning: Precision is ill-defined and being set to 0.0 in labels with no predicted samples. Use `zero_division` parameter to control this behavior.\n",
      "  ag__.converted_call(ag__.ld(warnings).warn, (ag__.ld(msg), ag__.ld(UndefinedMetricWarning)), dict(stacklevel=2), fscope)\n"
     ]
    },
    {
     "name": "stdout",
     "output_type": "stream",
     "text": [
      " 21/128 [===>..........................] - ETA: 50s - loss: 1.0183 - accuracy: 0.5179 - precision: 0.2702 - recall: 0.5179 - F1_score: 0.3545"
     ]
    },
    {
     "name": "stderr",
     "output_type": "stream",
     "text": [
      "C:\\Users\\Fat7y\\AppData\\Local\\Temp\\tmpvm54tj9k.py:42: UndefinedMetricWarning: Precision is ill-defined and being set to 0.0 in labels with no predicted samples. Use `zero_division` parameter to control this behavior.\n",
      "  ag__.converted_call(ag__.ld(warnings).warn, (ag__.ld(msg), ag__.ld(UndefinedMetricWarning)), dict(stacklevel=2), fscope)\n"
     ]
    },
    {
     "name": "stdout",
     "output_type": "stream",
     "text": [
      " 22/128 [====>.........................] - ETA: 49s - loss: 1.0181 - accuracy: 0.5170 - precision: 0.2693 - recall: 0.5170 - F1_score: 0.3536"
     ]
    },
    {
     "name": "stderr",
     "output_type": "stream",
     "text": [
      "C:\\Users\\Fat7y\\AppData\\Local\\Temp\\tmpvm54tj9k.py:42: UndefinedMetricWarning: Precision is ill-defined and being set to 0.0 in labels with no predicted samples. Use `zero_division` parameter to control this behavior.\n",
      "  ag__.converted_call(ag__.ld(warnings).warn, (ag__.ld(msg), ag__.ld(UndefinedMetricWarning)), dict(stacklevel=2), fscope)\n"
     ]
    },
    {
     "name": "stdout",
     "output_type": "stream",
     "text": [
      " 23/128 [====>.........................] - ETA: 49s - loss: 1.0177 - accuracy: 0.5177 - precision: 0.2699 - recall: 0.5177 - F1_score: 0.3542"
     ]
    },
    {
     "name": "stderr",
     "output_type": "stream",
     "text": [
      "C:\\Users\\Fat7y\\AppData\\Local\\Temp\\tmpvm54tj9k.py:42: UndefinedMetricWarning: Precision is ill-defined and being set to 0.0 in labels with no predicted samples. Use `zero_division` parameter to control this behavior.\n",
      "  ag__.converted_call(ag__.ld(warnings).warn, (ag__.ld(msg), ag__.ld(UndefinedMetricWarning)), dict(stacklevel=2), fscope)\n"
     ]
    },
    {
     "name": "stdout",
     "output_type": "stream",
     "text": [
      " 24/128 [====>.........................] - ETA: 48s - loss: 1.0206 - accuracy: 0.5143 - precision: 0.2666 - recall: 0.5143 - F1_score: 0.3506"
     ]
    },
    {
     "name": "stderr",
     "output_type": "stream",
     "text": [
      "C:\\Users\\Fat7y\\AppData\\Local\\Temp\\tmpvm54tj9k.py:42: UndefinedMetricWarning: Precision is ill-defined and being set to 0.0 in labels with no predicted samples. Use `zero_division` parameter to control this behavior.\n",
      "  ag__.converted_call(ag__.ld(warnings).warn, (ag__.ld(msg), ag__.ld(UndefinedMetricWarning)), dict(stacklevel=2), fscope)\n",
      "C:\\Users\\Fat7y\\AppData\\Local\\Temp\\tmpvm54tj9k.py:42: UndefinedMetricWarning: Precision is ill-defined and being set to 0.0 in labels with no predicted samples. Use `zero_division` parameter to control this behavior.\n",
      "  ag__.converted_call(ag__.ld(warnings).warn, (ag__.ld(msg), ag__.ld(UndefinedMetricWarning)), dict(stacklevel=2), fscope)\n"
     ]
    },
    {
     "name": "stdout",
     "output_type": "stream",
     "text": [
      " 26/128 [=====>........................] - ETA: 47s - loss: 1.0190 - accuracy: 0.5156 - precision: 0.2680 - recall: 0.5156 - F1_score: 0.3521"
     ]
    },
    {
     "name": "stderr",
     "output_type": "stream",
     "text": [
      "C:\\Users\\Fat7y\\AppData\\Local\\Temp\\tmpvm54tj9k.py:42: UndefinedMetricWarning: Precision is ill-defined and being set to 0.0 in labels with no predicted samples. Use `zero_division` parameter to control this behavior.\n",
      "  ag__.converted_call(ag__.ld(warnings).warn, (ag__.ld(msg), ag__.ld(UndefinedMetricWarning)), dict(stacklevel=2), fscope)\n"
     ]
    },
    {
     "name": "stdout",
     "output_type": "stream",
     "text": [
      " 27/128 [=====>........................] - ETA: 47s - loss: 1.0177 - accuracy: 0.5168 - precision: 0.2691 - recall: 0.5168 - F1_score: 0.3533"
     ]
    },
    {
     "name": "stderr",
     "output_type": "stream",
     "text": [
      "C:\\Users\\Fat7y\\AppData\\Local\\Temp\\tmpvm54tj9k.py:42: UndefinedMetricWarning: Precision is ill-defined and being set to 0.0 in labels with no predicted samples. Use `zero_division` parameter to control this behavior.\n",
      "  ag__.converted_call(ag__.ld(warnings).warn, (ag__.ld(msg), ag__.ld(UndefinedMetricWarning)), dict(stacklevel=2), fscope)\n"
     ]
    },
    {
     "name": "stdout",
     "output_type": "stream",
     "text": [
      " 28/128 [=====>........................] - ETA: 46s - loss: 1.0199 - accuracy: 0.5134 - precision: 0.2659 - recall: 0.5134 - F1_score: 0.3497"
     ]
    },
    {
     "name": "stderr",
     "output_type": "stream",
     "text": [
      "C:\\Users\\Fat7y\\AppData\\Local\\Temp\\tmpvm54tj9k.py:42: UndefinedMetricWarning: Precision is ill-defined and being set to 0.0 in labels with no predicted samples. Use `zero_division` parameter to control this behavior.\n",
      "  ag__.converted_call(ag__.ld(warnings).warn, (ag__.ld(msg), ag__.ld(UndefinedMetricWarning)), dict(stacklevel=2), fscope)\n"
     ]
    },
    {
     "name": "stdout",
     "output_type": "stream",
     "text": [
      " 29/128 [=====>........................] - ETA: 46s - loss: 1.0204 - accuracy: 0.5124 - precision: 0.2648 - recall: 0.5124 - F1_score: 0.3485"
     ]
    },
    {
     "name": "stderr",
     "output_type": "stream",
     "text": [
      "C:\\Users\\Fat7y\\AppData\\Local\\Temp\\tmpvm54tj9k.py:42: UndefinedMetricWarning: Precision is ill-defined and being set to 0.0 in labels with no predicted samples. Use `zero_division` parameter to control this behavior.\n",
      "  ag__.converted_call(ag__.ld(warnings).warn, (ag__.ld(msg), ag__.ld(UndefinedMetricWarning)), dict(stacklevel=2), fscope)\n"
     ]
    },
    {
     "name": "stdout",
     "output_type": "stream",
     "text": [
      " 30/128 [======>.......................] - ETA: 46s - loss: 1.0214 - accuracy: 0.5115 - precision: 0.2638 - recall: 0.5115 - F1_score: 0.3474"
     ]
    },
    {
     "name": "stderr",
     "output_type": "stream",
     "text": [
      "C:\\Users\\Fat7y\\AppData\\Local\\Temp\\tmpvm54tj9k.py:42: UndefinedMetricWarning: Precision is ill-defined and being set to 0.0 in labels with no predicted samples. Use `zero_division` parameter to control this behavior.\n",
      "  ag__.converted_call(ag__.ld(warnings).warn, (ag__.ld(msg), ag__.ld(UndefinedMetricWarning)), dict(stacklevel=2), fscope)\n"
     ]
    },
    {
     "name": "stdout",
     "output_type": "stream",
     "text": [
      " 31/128 [======>.......................] - ETA: 45s - loss: 1.0244 - accuracy: 0.5071 - precision: 0.2598 - recall: 0.5071 - F1_score: 0.3428"
     ]
    },
    {
     "name": "stderr",
     "output_type": "stream",
     "text": [
      "C:\\Users\\Fat7y\\AppData\\Local\\Temp\\tmpvm54tj9k.py:42: UndefinedMetricWarning: Precision is ill-defined and being set to 0.0 in labels with no predicted samples. Use `zero_division` parameter to control this behavior.\n",
      "  ag__.converted_call(ag__.ld(warnings).warn, (ag__.ld(msg), ag__.ld(UndefinedMetricWarning)), dict(stacklevel=2), fscope)\n"
     ]
    },
    {
     "name": "stdout",
     "output_type": "stream",
     "text": [
      " 32/128 [======>.......................] - ETA: 45s - loss: 1.0261 - accuracy: 0.5044 - precision: 0.2573 - recall: 0.5044 - F1_score: 0.3399"
     ]
    },
    {
     "name": "stderr",
     "output_type": "stream",
     "text": [
      "C:\\Users\\Fat7y\\AppData\\Local\\Temp\\tmpvm54tj9k.py:42: UndefinedMetricWarning: Precision is ill-defined and being set to 0.0 in labels with no predicted samples. Use `zero_division` parameter to control this behavior.\n",
      "  ag__.converted_call(ag__.ld(warnings).warn, (ag__.ld(msg), ag__.ld(UndefinedMetricWarning)), dict(stacklevel=2), fscope)\n"
     ]
    },
    {
     "name": "stdout",
     "output_type": "stream",
     "text": [
      " 33/128 [======>.......................] - ETA: 44s - loss: 1.0271 - accuracy: 0.5033 - precision: 0.2561 - recall: 0.5033 - F1_score: 0.3387"
     ]
    },
    {
     "name": "stderr",
     "output_type": "stream",
     "text": [
      "C:\\Users\\Fat7y\\AppData\\Local\\Temp\\tmpvm54tj9k.py:42: UndefinedMetricWarning: Precision is ill-defined and being set to 0.0 in labels with no predicted samples. Use `zero_division` parameter to control this behavior.\n",
      "  ag__.converted_call(ag__.ld(warnings).warn, (ag__.ld(msg), ag__.ld(UndefinedMetricWarning)), dict(stacklevel=2), fscope)\n"
     ]
    },
    {
     "name": "stdout",
     "output_type": "stream",
     "text": [
      " 34/128 [======>.......................] - ETA: 44s - loss: 1.0272 - accuracy: 0.5037 - precision: 0.2564 - recall: 0.5037 - F1_score: 0.3390"
     ]
    },
    {
     "name": "stderr",
     "output_type": "stream",
     "text": [
      "C:\\Users\\Fat7y\\AppData\\Local\\Temp\\tmpvm54tj9k.py:42: UndefinedMetricWarning: Precision is ill-defined and being set to 0.0 in labels with no predicted samples. Use `zero_division` parameter to control this behavior.\n",
      "  ag__.converted_call(ag__.ld(warnings).warn, (ag__.ld(msg), ag__.ld(UndefinedMetricWarning)), dict(stacklevel=2), fscope)\n",
      "C:\\Users\\Fat7y\\AppData\\Local\\Temp\\tmpvm54tj9k.py:42: UndefinedMetricWarning: Precision is ill-defined and being set to 0.0 in labels with no predicted samples. Use `zero_division` parameter to control this behavior.\n",
      "  ag__.converted_call(ag__.ld(warnings).warn, (ag__.ld(msg), ag__.ld(UndefinedMetricWarning)), dict(stacklevel=2), fscope)\n"
     ]
    },
    {
     "name": "stdout",
     "output_type": "stream",
     "text": [
      " 36/128 [=======>......................] - ETA: 43s - loss: 1.0274 - accuracy: 0.5039 - precision: 0.2568 - recall: 0.5039 - F1_score: 0.3394"
     ]
    },
    {
     "name": "stderr",
     "output_type": "stream",
     "text": [
      "C:\\Users\\Fat7y\\AppData\\Local\\Temp\\tmpvm54tj9k.py:42: UndefinedMetricWarning: Precision is ill-defined and being set to 0.0 in labels with no predicted samples. Use `zero_division` parameter to control this behavior.\n",
      "  ag__.converted_call(ag__.ld(warnings).warn, (ag__.ld(msg), ag__.ld(UndefinedMetricWarning)), dict(stacklevel=2), fscope)\n"
     ]
    },
    {
     "name": "stdout",
     "output_type": "stream",
     "text": [
      " 37/128 [=======>......................] - ETA: 42s - loss: 1.0283 - accuracy: 0.5021 - precision: 0.2550 - recall: 0.5021 - F1_score: 0.3374"
     ]
    },
    {
     "name": "stderr",
     "output_type": "stream",
     "text": [
      "C:\\Users\\Fat7y\\AppData\\Local\\Temp\\tmpvm54tj9k.py:42: UndefinedMetricWarning: Precision is ill-defined and being set to 0.0 in labels with no predicted samples. Use `zero_division` parameter to control this behavior.\n",
      "  ag__.converted_call(ag__.ld(warnings).warn, (ag__.ld(msg), ag__.ld(UndefinedMetricWarning)), dict(stacklevel=2), fscope)\n"
     ]
    },
    {
     "name": "stdout",
     "output_type": "stream",
     "text": [
      " 38/128 [=======>......................] - ETA: 42s - loss: 1.0282 - accuracy: 0.5025 - precision: 0.2553 - recall: 0.5025 - F1_score: 0.3378"
     ]
    },
    {
     "name": "stderr",
     "output_type": "stream",
     "text": [
      "C:\\Users\\Fat7y\\AppData\\Local\\Temp\\tmpvm54tj9k.py:42: UndefinedMetricWarning: Precision is ill-defined and being set to 0.0 in labels with no predicted samples. Use `zero_division` parameter to control this behavior.\n",
      "  ag__.converted_call(ag__.ld(warnings).warn, (ag__.ld(msg), ag__.ld(UndefinedMetricWarning)), dict(stacklevel=2), fscope)\n",
      "C:\\Users\\Fat7y\\AppData\\Local\\Temp\\tmpvm54tj9k.py:42: UndefinedMetricWarning: Precision is ill-defined and being set to 0.0 in labels with no predicted samples. Use `zero_division` parameter to control this behavior.\n",
      "  ag__.converted_call(ag__.ld(warnings).warn, (ag__.ld(msg), ag__.ld(UndefinedMetricWarning)), dict(stacklevel=2), fscope)\n"
     ]
    },
    {
     "name": "stdout",
     "output_type": "stream",
     "text": [
      " 39/128 [========>.....................] - ETA: 41s - loss: 1.0276 - accuracy: 0.5036 - precision: 0.2564 - recall: 0.5036 - F1_score: 0.3390"
     ]
    },
    {
     "name": "stderr",
     "output_type": "stream",
     "text": [
      "C:\\Users\\Fat7y\\AppData\\Local\\Temp\\tmpvm54tj9k.py:42: UndefinedMetricWarning: Precision is ill-defined and being set to 0.0 in labels with no predicted samples. Use `zero_division` parameter to control this behavior.\n",
      "  ag__.converted_call(ag__.ld(warnings).warn, (ag__.ld(msg), ag__.ld(UndefinedMetricWarning)), dict(stacklevel=2), fscope)\n"
     ]
    },
    {
     "name": "stdout",
     "output_type": "stream",
     "text": [
      " 40/128 [========>.....................] - ETA: 41s - loss: 1.0286 - accuracy: 0.5027 - precision: 0.2555 - recall: 0.5027 - F1_score: 0.3380"
     ]
    },
    {
     "name": "stderr",
     "output_type": "stream",
     "text": [
      "C:\\Users\\Fat7y\\AppData\\Local\\Temp\\tmpvm54tj9k.py:42: UndefinedMetricWarning: Precision is ill-defined and being set to 0.0 in labels with no predicted samples. Use `zero_division` parameter to control this behavior.\n",
      "  ag__.converted_call(ag__.ld(warnings).warn, (ag__.ld(msg), ag__.ld(UndefinedMetricWarning)), dict(stacklevel=2), fscope)\n"
     ]
    },
    {
     "name": "stdout",
     "output_type": "stream",
     "text": [
      " 41/128 [========>.....................] - ETA: 41s - loss: 1.0286 - accuracy: 0.5034 - precision: 0.2561 - recall: 0.5034 - F1_score: 0.3388"
     ]
    },
    {
     "name": "stderr",
     "output_type": "stream",
     "text": [
      "C:\\Users\\Fat7y\\AppData\\Local\\Temp\\tmpvm54tj9k.py:42: UndefinedMetricWarning: Precision is ill-defined and being set to 0.0 in labels with no predicted samples. Use `zero_division` parameter to control this behavior.\n",
      "  ag__.converted_call(ag__.ld(warnings).warn, (ag__.ld(msg), ag__.ld(UndefinedMetricWarning)), dict(stacklevel=2), fscope)\n"
     ]
    },
    {
     "name": "stdout",
     "output_type": "stream",
     "text": [
      " 43/128 [=========>....................] - ETA: 40s - loss: 1.0281 - accuracy: 0.5044 - precision: 0.2572 - recall: 0.5044 - F1_score: 0.3399"
     ]
    },
    {
     "name": "stderr",
     "output_type": "stream",
     "text": [
      "C:\\Users\\Fat7y\\AppData\\Local\\Temp\\tmpvm54tj9k.py:42: UndefinedMetricWarning: Precision is ill-defined and being set to 0.0 in labels with no predicted samples. Use `zero_division` parameter to control this behavior.\n",
      "  ag__.converted_call(ag__.ld(warnings).warn, (ag__.ld(msg), ag__.ld(UndefinedMetricWarning)), dict(stacklevel=2), fscope)\n",
      "C:\\Users\\Fat7y\\AppData\\Local\\Temp\\tmpvm54tj9k.py:42: UndefinedMetricWarning: Precision is ill-defined and being set to 0.0 in labels with no predicted samples. Use `zero_division` parameter to control this behavior.\n",
      "  ag__.converted_call(ag__.ld(warnings).warn, (ag__.ld(msg), ag__.ld(UndefinedMetricWarning)), dict(stacklevel=2), fscope)\n"
     ]
    },
    {
     "name": "stdout",
     "output_type": "stream",
     "text": [
      " 44/128 [=========>....................] - ETA: 40s - loss: 1.0268 - accuracy: 0.5050 - precision: 0.2578 - recall: 0.5050 - F1_score: 0.3405"
     ]
    },
    {
     "name": "stderr",
     "output_type": "stream",
     "text": [
      "C:\\Users\\Fat7y\\AppData\\Local\\Temp\\tmpvm54tj9k.py:42: UndefinedMetricWarning: Precision is ill-defined and being set to 0.0 in labels with no predicted samples. Use `zero_division` parameter to control this behavior.\n",
      "  ag__.converted_call(ag__.ld(warnings).warn, (ag__.ld(msg), ag__.ld(UndefinedMetricWarning)), dict(stacklevel=2), fscope)\n"
     ]
    },
    {
     "name": "stdout",
     "output_type": "stream",
     "text": [
      " 45/128 [=========>....................] - ETA: 40s - loss: 1.0257 - accuracy: 0.5069 - precision: 0.2599 - recall: 0.5069 - F1_score: 0.3428"
     ]
    },
    {
     "name": "stderr",
     "output_type": "stream",
     "text": [
      "C:\\Users\\Fat7y\\AppData\\Local\\Temp\\tmpvm54tj9k.py:42: UndefinedMetricWarning: Precision is ill-defined and being set to 0.0 in labels with no predicted samples. Use `zero_division` parameter to control this behavior.\n",
      "  ag__.converted_call(ag__.ld(warnings).warn, (ag__.ld(msg), ag__.ld(UndefinedMetricWarning)), dict(stacklevel=2), fscope)\n"
     ]
    },
    {
     "name": "stdout",
     "output_type": "stream",
     "text": [
      " 46/128 [=========>....................] - ETA: 39s - loss: 1.0251 - accuracy: 0.5085 - precision: 0.2615 - recall: 0.5085 - F1_score: 0.3445"
     ]
    },
    {
     "name": "stderr",
     "output_type": "stream",
     "text": [
      "C:\\Users\\Fat7y\\AppData\\Local\\Temp\\tmpvm54tj9k.py:42: UndefinedMetricWarning: Precision is ill-defined and being set to 0.0 in labels with no predicted samples. Use `zero_division` parameter to control this behavior.\n",
      "  ag__.converted_call(ag__.ld(warnings).warn, (ag__.ld(msg), ag__.ld(UndefinedMetricWarning)), dict(stacklevel=2), fscope)\n"
     ]
    },
    {
     "name": "stdout",
     "output_type": "stream",
     "text": [
      " 47/128 [==========>...................] - ETA: 39s - loss: 1.0242 - accuracy: 0.5106 - precision: 0.2638 - recall: 0.5106 - F1_score: 0.3470"
     ]
    },
    {
     "name": "stderr",
     "output_type": "stream",
     "text": [
      "C:\\Users\\Fat7y\\AppData\\Local\\Temp\\tmpvm54tj9k.py:42: UndefinedMetricWarning: Precision is ill-defined and being set to 0.0 in labels with no predicted samples. Use `zero_division` parameter to control this behavior.\n",
      "  ag__.converted_call(ag__.ld(warnings).warn, (ag__.ld(msg), ag__.ld(UndefinedMetricWarning)), dict(stacklevel=2), fscope)\n"
     ]
    },
    {
     "name": "stdout",
     "output_type": "stream",
     "text": [
      " 48/128 [==========>...................] - ETA: 39s - loss: 1.0256 - accuracy: 0.5088 - precision: 0.2620 - recall: 0.5088 - F1_score: 0.3450"
     ]
    },
    {
     "name": "stderr",
     "output_type": "stream",
     "text": [
      "C:\\Users\\Fat7y\\AppData\\Local\\Temp\\tmpvm54tj9k.py:42: UndefinedMetricWarning: Precision is ill-defined and being set to 0.0 in labels with no predicted samples. Use `zero_division` parameter to control this behavior.\n",
      "  ag__.converted_call(ag__.ld(warnings).warn, (ag__.ld(msg), ag__.ld(UndefinedMetricWarning)), dict(stacklevel=2), fscope)\n"
     ]
    },
    {
     "name": "stdout",
     "output_type": "stream",
     "text": [
      " 49/128 [==========>...................] - ETA: 38s - loss: 1.0242 - accuracy: 0.5105 - precision: 0.2639 - recall: 0.5105 - F1_score: 0.3470"
     ]
    },
    {
     "name": "stderr",
     "output_type": "stream",
     "text": [
      "C:\\Users\\Fat7y\\AppData\\Local\\Temp\\tmpvm54tj9k.py:42: UndefinedMetricWarning: Precision is ill-defined and being set to 0.0 in labels with no predicted samples. Use `zero_division` parameter to control this behavior.\n",
      "  ag__.converted_call(ag__.ld(warnings).warn, (ag__.ld(msg), ag__.ld(UndefinedMetricWarning)), dict(stacklevel=2), fscope)\n"
     ]
    },
    {
     "name": "stdout",
     "output_type": "stream",
     "text": [
      " 50/128 [==========>...................] - ETA: 38s - loss: 1.0266 - accuracy: 0.5081 - precision: 0.2617 - recall: 0.5081 - F1_score: 0.3444"
     ]
    },
    {
     "name": "stderr",
     "output_type": "stream",
     "text": [
      "C:\\Users\\Fat7y\\AppData\\Local\\Temp\\tmpvm54tj9k.py:42: UndefinedMetricWarning: Precision is ill-defined and being set to 0.0 in labels with no predicted samples. Use `zero_division` parameter to control this behavior.\n",
      "  ag__.converted_call(ag__.ld(warnings).warn, (ag__.ld(msg), ag__.ld(UndefinedMetricWarning)), dict(stacklevel=2), fscope)\n"
     ]
    },
    {
     "name": "stdout",
     "output_type": "stream",
     "text": [
      " 51/128 [==========>...................] - ETA: 38s - loss: 1.0258 - accuracy: 0.5083 - precision: 0.2617 - recall: 0.5083 - F1_score: 0.3446"
     ]
    },
    {
     "name": "stderr",
     "output_type": "stream",
     "text": [
      "C:\\Users\\Fat7y\\AppData\\Local\\Temp\\tmpvm54tj9k.py:42: UndefinedMetricWarning: Precision is ill-defined and being set to 0.0 in labels with no predicted samples. Use `zero_division` parameter to control this behavior.\n",
      "  ag__.converted_call(ag__.ld(warnings).warn, (ag__.ld(msg), ag__.ld(UndefinedMetricWarning)), dict(stacklevel=2), fscope)\n"
     ]
    },
    {
     "name": "stdout",
     "output_type": "stream",
     "text": [
      " 52/128 [===========>..................] - ETA: 37s - loss: 1.0274 - accuracy: 0.5075 - precision: 0.2609 - recall: 0.5075 - F1_score: 0.3437"
     ]
    },
    {
     "name": "stderr",
     "output_type": "stream",
     "text": [
      "C:\\Users\\Fat7y\\AppData\\Local\\Temp\\tmpvm54tj9k.py:42: UndefinedMetricWarning: Precision is ill-defined and being set to 0.0 in labels with no predicted samples. Use `zero_division` parameter to control this behavior.\n",
      "  ag__.converted_call(ag__.ld(warnings).warn, (ag__.ld(msg), ag__.ld(UndefinedMetricWarning)), dict(stacklevel=2), fscope)\n"
     ]
    },
    {
     "name": "stdout",
     "output_type": "stream",
     "text": [
      " 53/128 [===========>..................] - ETA: 37s - loss: 1.0278 - accuracy: 0.5074 - precision: 0.2607 - recall: 0.5074 - F1_score: 0.3435"
     ]
    },
    {
     "name": "stderr",
     "output_type": "stream",
     "text": [
      "C:\\Users\\Fat7y\\AppData\\Local\\Temp\\tmpvm54tj9k.py:42: UndefinedMetricWarning: Precision is ill-defined and being set to 0.0 in labels with no predicted samples. Use `zero_division` parameter to control this behavior.\n",
      "  ag__.converted_call(ag__.ld(warnings).warn, (ag__.ld(msg), ag__.ld(UndefinedMetricWarning)), dict(stacklevel=2), fscope)\n"
     ]
    },
    {
     "name": "stdout",
     "output_type": "stream",
     "text": [
      " 55/128 [===========>..................] - ETA: 36s - loss: 1.0263 - accuracy: 0.5091 - precision: 0.2627 - recall: 0.5091 - F1_score: 0.3455"
     ]
    },
    {
     "name": "stderr",
     "output_type": "stream",
     "text": [
      "C:\\Users\\Fat7y\\AppData\\Local\\Temp\\tmpvm54tj9k.py:42: UndefinedMetricWarning: Precision is ill-defined and being set to 0.0 in labels with no predicted samples. Use `zero_division` parameter to control this behavior.\n",
      "  ag__.converted_call(ag__.ld(warnings).warn, (ag__.ld(msg), ag__.ld(UndefinedMetricWarning)), dict(stacklevel=2), fscope)\n"
     ]
    },
    {
     "ename": "KeyboardInterrupt",
     "evalue": "",
     "output_type": "error",
     "traceback": [
      "\u001b[1;31m---------------------------------------------------------------------------\u001b[0m",
      "\u001b[1;31mKeyboardInterrupt\u001b[0m                         Traceback (most recent call last)",
      "\u001b[1;32m~\\AppData\\Local\\Temp/ipykernel_21472/976251691.py\u001b[0m in \u001b[0;36m<module>\u001b[1;34m\u001b[0m\n\u001b[0;32m      2\u001b[0m \u001b[1;33m\u001b[0m\u001b[0m\n\u001b[0;32m      3\u001b[0m \u001b[0mrmtree\u001b[0m\u001b[1;33m(\u001b[0m\u001b[1;34m'./logs'\u001b[0m\u001b[1;33m)\u001b[0m\u001b[1;33m\u001b[0m\u001b[1;33m\u001b[0m\u001b[0m\n\u001b[1;32m----> 4\u001b[1;33m model.fit(\n\u001b[0m\u001b[0;32m      5\u001b[0m   \u001b[0mtrain_ds\u001b[0m\u001b[1;33m,\u001b[0m\u001b[1;33m\u001b[0m\u001b[1;33m\u001b[0m\u001b[0m\n\u001b[0;32m      6\u001b[0m   \u001b[0mepochs\u001b[0m\u001b[1;33m=\u001b[0m\u001b[0mEPOCHS\u001b[0m\u001b[1;33m,\u001b[0m\u001b[1;33m\u001b[0m\u001b[1;33m\u001b[0m\u001b[0m\n",
      "\u001b[1;32md:\\anaconda3\\envs\\tf-gpu\\lib\\site-packages\\keras\\engine\\training.py\u001b[0m in \u001b[0;36mfit\u001b[1;34m(self, x, y, batch_size, epochs, verbose, callbacks, validation_split, validation_data, shuffle, class_weight, sample_weight, initial_epoch, steps_per_epoch, validation_steps, validation_batch_size, validation_freq, max_queue_size, workers, use_multiprocessing)\u001b[0m\n\u001b[0;32m   1182\u001b[0m                 _r=1):\n\u001b[0;32m   1183\u001b[0m               \u001b[0mcallbacks\u001b[0m\u001b[1;33m.\u001b[0m\u001b[0mon_train_batch_begin\u001b[0m\u001b[1;33m(\u001b[0m\u001b[0mstep\u001b[0m\u001b[1;33m)\u001b[0m\u001b[1;33m\u001b[0m\u001b[1;33m\u001b[0m\u001b[0m\n\u001b[1;32m-> 1184\u001b[1;33m               \u001b[0mtmp_logs\u001b[0m \u001b[1;33m=\u001b[0m \u001b[0mself\u001b[0m\u001b[1;33m.\u001b[0m\u001b[0mtrain_function\u001b[0m\u001b[1;33m(\u001b[0m\u001b[0miterator\u001b[0m\u001b[1;33m)\u001b[0m\u001b[1;33m\u001b[0m\u001b[1;33m\u001b[0m\u001b[0m\n\u001b[0m\u001b[0;32m   1185\u001b[0m               \u001b[1;32mif\u001b[0m \u001b[0mdata_handler\u001b[0m\u001b[1;33m.\u001b[0m\u001b[0mshould_sync\u001b[0m\u001b[1;33m:\u001b[0m\u001b[1;33m\u001b[0m\u001b[1;33m\u001b[0m\u001b[0m\n\u001b[0;32m   1186\u001b[0m                 \u001b[0mcontext\u001b[0m\u001b[1;33m.\u001b[0m\u001b[0masync_wait\u001b[0m\u001b[1;33m(\u001b[0m\u001b[1;33m)\u001b[0m\u001b[1;33m\u001b[0m\u001b[1;33m\u001b[0m\u001b[0m\n",
      "\u001b[1;32md:\\anaconda3\\envs\\tf-gpu\\lib\\site-packages\\keras\\engine\\training.py\u001b[0m in \u001b[0;36mtrain_function\u001b[1;34m(iterator)\u001b[0m\n\u001b[0;32m    851\u001b[0m       \u001b[1;32mdef\u001b[0m \u001b[0mtrain_function\u001b[0m\u001b[1;33m(\u001b[0m\u001b[0miterator\u001b[0m\u001b[1;33m)\u001b[0m\u001b[1;33m:\u001b[0m\u001b[1;33m\u001b[0m\u001b[1;33m\u001b[0m\u001b[0m\n\u001b[0;32m    852\u001b[0m         \u001b[1;34m\"\"\"Runs a training execution with one step.\"\"\"\u001b[0m\u001b[1;33m\u001b[0m\u001b[1;33m\u001b[0m\u001b[0m\n\u001b[1;32m--> 853\u001b[1;33m         \u001b[1;32mreturn\u001b[0m \u001b[0mstep_function\u001b[0m\u001b[1;33m(\u001b[0m\u001b[0mself\u001b[0m\u001b[1;33m,\u001b[0m \u001b[0miterator\u001b[0m\u001b[1;33m)\u001b[0m\u001b[1;33m\u001b[0m\u001b[1;33m\u001b[0m\u001b[0m\n\u001b[0m\u001b[0;32m    854\u001b[0m \u001b[1;33m\u001b[0m\u001b[0m\n\u001b[0;32m    855\u001b[0m     \u001b[1;32melse\u001b[0m\u001b[1;33m:\u001b[0m\u001b[1;33m\u001b[0m\u001b[1;33m\u001b[0m\u001b[0m\n",
      "\u001b[1;32md:\\anaconda3\\envs\\tf-gpu\\lib\\site-packages\\keras\\engine\\training.py\u001b[0m in \u001b[0;36mstep_function\u001b[1;34m(model, iterator)\u001b[0m\n\u001b[0;32m    840\u001b[0m \u001b[1;33m\u001b[0m\u001b[0m\n\u001b[0;32m    841\u001b[0m       \u001b[0mdata\u001b[0m \u001b[1;33m=\u001b[0m \u001b[0mnext\u001b[0m\u001b[1;33m(\u001b[0m\u001b[0miterator\u001b[0m\u001b[1;33m)\u001b[0m\u001b[1;33m\u001b[0m\u001b[1;33m\u001b[0m\u001b[0m\n\u001b[1;32m--> 842\u001b[1;33m       \u001b[0moutputs\u001b[0m \u001b[1;33m=\u001b[0m \u001b[0mmodel\u001b[0m\u001b[1;33m.\u001b[0m\u001b[0mdistribute_strategy\u001b[0m\u001b[1;33m.\u001b[0m\u001b[0mrun\u001b[0m\u001b[1;33m(\u001b[0m\u001b[0mrun_step\u001b[0m\u001b[1;33m,\u001b[0m \u001b[0margs\u001b[0m\u001b[1;33m=\u001b[0m\u001b[1;33m(\u001b[0m\u001b[0mdata\u001b[0m\u001b[1;33m,\u001b[0m\u001b[1;33m)\u001b[0m\u001b[1;33m)\u001b[0m\u001b[1;33m\u001b[0m\u001b[1;33m\u001b[0m\u001b[0m\n\u001b[0m\u001b[0;32m    843\u001b[0m       outputs = reduce_per_replica(\n\u001b[0;32m    844\u001b[0m           outputs, self.distribute_strategy, reduction='first')\n",
      "\u001b[1;32md:\\anaconda3\\envs\\tf-gpu\\lib\\site-packages\\tensorflow\\python\\distribute\\distribute_lib.py\u001b[0m in \u001b[0;36mrun\u001b[1;34m(***failed resolving arguments***)\u001b[0m\n\u001b[0;32m   1284\u001b[0m       fn = autograph.tf_convert(\n\u001b[0;32m   1285\u001b[0m           fn, autograph_ctx.control_status_ctx(), convert_by_default=False)\n\u001b[1;32m-> 1286\u001b[1;33m       \u001b[1;32mreturn\u001b[0m \u001b[0mself\u001b[0m\u001b[1;33m.\u001b[0m\u001b[0m_extended\u001b[0m\u001b[1;33m.\u001b[0m\u001b[0mcall_for_each_replica\u001b[0m\u001b[1;33m(\u001b[0m\u001b[0mfn\u001b[0m\u001b[1;33m,\u001b[0m \u001b[0margs\u001b[0m\u001b[1;33m=\u001b[0m\u001b[0margs\u001b[0m\u001b[1;33m,\u001b[0m \u001b[0mkwargs\u001b[0m\u001b[1;33m=\u001b[0m\u001b[0mkwargs\u001b[0m\u001b[1;33m)\u001b[0m\u001b[1;33m\u001b[0m\u001b[1;33m\u001b[0m\u001b[0m\n\u001b[0m\u001b[0;32m   1287\u001b[0m \u001b[1;33m\u001b[0m\u001b[0m\n\u001b[0;32m   1288\u001b[0m   \u001b[1;32mdef\u001b[0m \u001b[0mreduce\u001b[0m\u001b[1;33m(\u001b[0m\u001b[0mself\u001b[0m\u001b[1;33m,\u001b[0m \u001b[0mreduce_op\u001b[0m\u001b[1;33m,\u001b[0m \u001b[0mvalue\u001b[0m\u001b[1;33m,\u001b[0m \u001b[0maxis\u001b[0m\u001b[1;33m)\u001b[0m\u001b[1;33m:\u001b[0m\u001b[1;33m\u001b[0m\u001b[1;33m\u001b[0m\u001b[0m\n",
      "\u001b[1;32md:\\anaconda3\\envs\\tf-gpu\\lib\\site-packages\\tensorflow\\python\\distribute\\distribute_lib.py\u001b[0m in \u001b[0;36mcall_for_each_replica\u001b[1;34m(self, fn, args, kwargs)\u001b[0m\n\u001b[0;32m   2847\u001b[0m       \u001b[0mkwargs\u001b[0m \u001b[1;33m=\u001b[0m \u001b[1;33m{\u001b[0m\u001b[1;33m}\u001b[0m\u001b[1;33m\u001b[0m\u001b[1;33m\u001b[0m\u001b[0m\n\u001b[0;32m   2848\u001b[0m     \u001b[1;32mwith\u001b[0m \u001b[0mself\u001b[0m\u001b[1;33m.\u001b[0m\u001b[0m_container_strategy\u001b[0m\u001b[1;33m(\u001b[0m\u001b[1;33m)\u001b[0m\u001b[1;33m.\u001b[0m\u001b[0mscope\u001b[0m\u001b[1;33m(\u001b[0m\u001b[1;33m)\u001b[0m\u001b[1;33m:\u001b[0m\u001b[1;33m\u001b[0m\u001b[1;33m\u001b[0m\u001b[0m\n\u001b[1;32m-> 2849\u001b[1;33m       \u001b[1;32mreturn\u001b[0m \u001b[0mself\u001b[0m\u001b[1;33m.\u001b[0m\u001b[0m_call_for_each_replica\u001b[0m\u001b[1;33m(\u001b[0m\u001b[0mfn\u001b[0m\u001b[1;33m,\u001b[0m \u001b[0margs\u001b[0m\u001b[1;33m,\u001b[0m \u001b[0mkwargs\u001b[0m\u001b[1;33m)\u001b[0m\u001b[1;33m\u001b[0m\u001b[1;33m\u001b[0m\u001b[0m\n\u001b[0m\u001b[0;32m   2850\u001b[0m \u001b[1;33m\u001b[0m\u001b[0m\n\u001b[0;32m   2851\u001b[0m   \u001b[1;32mdef\u001b[0m \u001b[0m_call_for_each_replica\u001b[0m\u001b[1;33m(\u001b[0m\u001b[0mself\u001b[0m\u001b[1;33m,\u001b[0m \u001b[0mfn\u001b[0m\u001b[1;33m,\u001b[0m \u001b[0margs\u001b[0m\u001b[1;33m,\u001b[0m \u001b[0mkwargs\u001b[0m\u001b[1;33m)\u001b[0m\u001b[1;33m:\u001b[0m\u001b[1;33m\u001b[0m\u001b[1;33m\u001b[0m\u001b[0m\n",
      "\u001b[1;32md:\\anaconda3\\envs\\tf-gpu\\lib\\site-packages\\tensorflow\\python\\distribute\\distribute_lib.py\u001b[0m in \u001b[0;36m_call_for_each_replica\u001b[1;34m(self, fn, args, kwargs)\u001b[0m\n\u001b[0;32m   3630\u001b[0m   \u001b[1;32mdef\u001b[0m \u001b[0m_call_for_each_replica\u001b[0m\u001b[1;33m(\u001b[0m\u001b[0mself\u001b[0m\u001b[1;33m,\u001b[0m \u001b[0mfn\u001b[0m\u001b[1;33m,\u001b[0m \u001b[0margs\u001b[0m\u001b[1;33m,\u001b[0m \u001b[0mkwargs\u001b[0m\u001b[1;33m)\u001b[0m\u001b[1;33m:\u001b[0m\u001b[1;33m\u001b[0m\u001b[1;33m\u001b[0m\u001b[0m\n\u001b[0;32m   3631\u001b[0m     \u001b[1;32mwith\u001b[0m \u001b[0mReplicaContext\u001b[0m\u001b[1;33m(\u001b[0m\u001b[0mself\u001b[0m\u001b[1;33m.\u001b[0m\u001b[0m_container_strategy\u001b[0m\u001b[1;33m(\u001b[0m\u001b[1;33m)\u001b[0m\u001b[1;33m,\u001b[0m \u001b[0mreplica_id_in_sync_group\u001b[0m\u001b[1;33m=\u001b[0m\u001b[1;36m0\u001b[0m\u001b[1;33m)\u001b[0m\u001b[1;33m:\u001b[0m\u001b[1;33m\u001b[0m\u001b[1;33m\u001b[0m\u001b[0m\n\u001b[1;32m-> 3632\u001b[1;33m       \u001b[1;32mreturn\u001b[0m \u001b[0mfn\u001b[0m\u001b[1;33m(\u001b[0m\u001b[1;33m*\u001b[0m\u001b[0margs\u001b[0m\u001b[1;33m,\u001b[0m \u001b[1;33m**\u001b[0m\u001b[0mkwargs\u001b[0m\u001b[1;33m)\u001b[0m\u001b[1;33m\u001b[0m\u001b[1;33m\u001b[0m\u001b[0m\n\u001b[0m\u001b[0;32m   3633\u001b[0m \u001b[1;33m\u001b[0m\u001b[0m\n\u001b[0;32m   3634\u001b[0m   \u001b[1;32mdef\u001b[0m \u001b[0m_reduce_to\u001b[0m\u001b[1;33m(\u001b[0m\u001b[0mself\u001b[0m\u001b[1;33m,\u001b[0m \u001b[0mreduce_op\u001b[0m\u001b[1;33m,\u001b[0m \u001b[0mvalue\u001b[0m\u001b[1;33m,\u001b[0m \u001b[0mdestinations\u001b[0m\u001b[1;33m,\u001b[0m \u001b[0moptions\u001b[0m\u001b[1;33m)\u001b[0m\u001b[1;33m:\u001b[0m\u001b[1;33m\u001b[0m\u001b[1;33m\u001b[0m\u001b[0m\n",
      "\u001b[1;32md:\\anaconda3\\envs\\tf-gpu\\lib\\site-packages\\tensorflow\\python\\autograph\\impl\\api.py\u001b[0m in \u001b[0;36mwrapper\u001b[1;34m(*args, **kwargs)\u001b[0m\n\u001b[0;32m    595\u001b[0m   \u001b[1;32mdef\u001b[0m \u001b[0mwrapper\u001b[0m\u001b[1;33m(\u001b[0m\u001b[1;33m*\u001b[0m\u001b[0margs\u001b[0m\u001b[1;33m,\u001b[0m \u001b[1;33m**\u001b[0m\u001b[0mkwargs\u001b[0m\u001b[1;33m)\u001b[0m\u001b[1;33m:\u001b[0m\u001b[1;33m\u001b[0m\u001b[1;33m\u001b[0m\u001b[0m\n\u001b[0;32m    596\u001b[0m     \u001b[1;32mwith\u001b[0m \u001b[0mag_ctx\u001b[0m\u001b[1;33m.\u001b[0m\u001b[0mControlStatusCtx\u001b[0m\u001b[1;33m(\u001b[0m\u001b[0mstatus\u001b[0m\u001b[1;33m=\u001b[0m\u001b[0mag_ctx\u001b[0m\u001b[1;33m.\u001b[0m\u001b[0mStatus\u001b[0m\u001b[1;33m.\u001b[0m\u001b[0mUNSPECIFIED\u001b[0m\u001b[1;33m)\u001b[0m\u001b[1;33m:\u001b[0m\u001b[1;33m\u001b[0m\u001b[1;33m\u001b[0m\u001b[0m\n\u001b[1;32m--> 597\u001b[1;33m       \u001b[1;32mreturn\u001b[0m \u001b[0mfunc\u001b[0m\u001b[1;33m(\u001b[0m\u001b[1;33m*\u001b[0m\u001b[0margs\u001b[0m\u001b[1;33m,\u001b[0m \u001b[1;33m**\u001b[0m\u001b[0mkwargs\u001b[0m\u001b[1;33m)\u001b[0m\u001b[1;33m\u001b[0m\u001b[1;33m\u001b[0m\u001b[0m\n\u001b[0m\u001b[0;32m    598\u001b[0m \u001b[1;33m\u001b[0m\u001b[0m\n\u001b[0;32m    599\u001b[0m   \u001b[1;32mif\u001b[0m \u001b[0minspect\u001b[0m\u001b[1;33m.\u001b[0m\u001b[0misfunction\u001b[0m\u001b[1;33m(\u001b[0m\u001b[0mfunc\u001b[0m\u001b[1;33m)\u001b[0m \u001b[1;32mor\u001b[0m \u001b[0minspect\u001b[0m\u001b[1;33m.\u001b[0m\u001b[0mismethod\u001b[0m\u001b[1;33m(\u001b[0m\u001b[0mfunc\u001b[0m\u001b[1;33m)\u001b[0m\u001b[1;33m:\u001b[0m\u001b[1;33m\u001b[0m\u001b[1;33m\u001b[0m\u001b[0m\n",
      "\u001b[1;32md:\\anaconda3\\envs\\tf-gpu\\lib\\site-packages\\keras\\engine\\training.py\u001b[0m in \u001b[0;36mrun_step\u001b[1;34m(data)\u001b[0m\n\u001b[0;32m    833\u001b[0m \u001b[1;33m\u001b[0m\u001b[0m\n\u001b[0;32m    834\u001b[0m       \u001b[1;32mdef\u001b[0m \u001b[0mrun_step\u001b[0m\u001b[1;33m(\u001b[0m\u001b[0mdata\u001b[0m\u001b[1;33m)\u001b[0m\u001b[1;33m:\u001b[0m\u001b[1;33m\u001b[0m\u001b[1;33m\u001b[0m\u001b[0m\n\u001b[1;32m--> 835\u001b[1;33m         \u001b[0moutputs\u001b[0m \u001b[1;33m=\u001b[0m \u001b[0mmodel\u001b[0m\u001b[1;33m.\u001b[0m\u001b[0mtrain_step\u001b[0m\u001b[1;33m(\u001b[0m\u001b[0mdata\u001b[0m\u001b[1;33m)\u001b[0m\u001b[1;33m\u001b[0m\u001b[1;33m\u001b[0m\u001b[0m\n\u001b[0m\u001b[0;32m    836\u001b[0m         \u001b[1;31m# Ensure counter is updated only if `train_step` succeeds.\u001b[0m\u001b[1;33m\u001b[0m\u001b[1;33m\u001b[0m\u001b[0m\n\u001b[0;32m    837\u001b[0m         \u001b[1;32mwith\u001b[0m \u001b[0mtf\u001b[0m\u001b[1;33m.\u001b[0m\u001b[0mcontrol_dependencies\u001b[0m\u001b[1;33m(\u001b[0m\u001b[0m_minimum_control_deps\u001b[0m\u001b[1;33m(\u001b[0m\u001b[0moutputs\u001b[0m\u001b[1;33m)\u001b[0m\u001b[1;33m)\u001b[0m\u001b[1;33m:\u001b[0m\u001b[1;33m\u001b[0m\u001b[1;33m\u001b[0m\u001b[0m\n",
      "\u001b[1;32md:\\anaconda3\\envs\\tf-gpu\\lib\\site-packages\\keras\\engine\\training.py\u001b[0m in \u001b[0;36mtrain_step\u001b[1;34m(self, data)\u001b[0m\n\u001b[0;32m    790\u001b[0m     \u001b[1;31m# Run backwards pass.\u001b[0m\u001b[1;33m\u001b[0m\u001b[1;33m\u001b[0m\u001b[0m\n\u001b[0;32m    791\u001b[0m     \u001b[0mself\u001b[0m\u001b[1;33m.\u001b[0m\u001b[0moptimizer\u001b[0m\u001b[1;33m.\u001b[0m\u001b[0mminimize\u001b[0m\u001b[1;33m(\u001b[0m\u001b[0mloss\u001b[0m\u001b[1;33m,\u001b[0m \u001b[0mself\u001b[0m\u001b[1;33m.\u001b[0m\u001b[0mtrainable_variables\u001b[0m\u001b[1;33m,\u001b[0m \u001b[0mtape\u001b[0m\u001b[1;33m=\u001b[0m\u001b[0mtape\u001b[0m\u001b[1;33m)\u001b[0m\u001b[1;33m\u001b[0m\u001b[1;33m\u001b[0m\u001b[0m\n\u001b[1;32m--> 792\u001b[1;33m     \u001b[0mself\u001b[0m\u001b[1;33m.\u001b[0m\u001b[0mcompiled_metrics\u001b[0m\u001b[1;33m.\u001b[0m\u001b[0mupdate_state\u001b[0m\u001b[1;33m(\u001b[0m\u001b[0my\u001b[0m\u001b[1;33m,\u001b[0m \u001b[0my_pred\u001b[0m\u001b[1;33m,\u001b[0m \u001b[0msample_weight\u001b[0m\u001b[1;33m)\u001b[0m\u001b[1;33m\u001b[0m\u001b[1;33m\u001b[0m\u001b[0m\n\u001b[0m\u001b[0;32m    793\u001b[0m     \u001b[1;31m# Collect metrics to return\u001b[0m\u001b[1;33m\u001b[0m\u001b[1;33m\u001b[0m\u001b[0m\n\u001b[0;32m    794\u001b[0m     \u001b[0mreturn_metrics\u001b[0m \u001b[1;33m=\u001b[0m \u001b[1;33m{\u001b[0m\u001b[1;33m}\u001b[0m\u001b[1;33m\u001b[0m\u001b[1;33m\u001b[0m\u001b[0m\n",
      "\u001b[1;32md:\\anaconda3\\envs\\tf-gpu\\lib\\site-packages\\keras\\engine\\compile_utils.py\u001b[0m in \u001b[0;36mupdate_state\u001b[1;34m(self, y_true, y_pred, sample_weight)\u001b[0m\n\u001b[0;32m    455\u001b[0m         \u001b[1;32mif\u001b[0m \u001b[0mmetric_obj\u001b[0m \u001b[1;32mis\u001b[0m \u001b[1;32mNone\u001b[0m\u001b[1;33m:\u001b[0m\u001b[1;33m\u001b[0m\u001b[1;33m\u001b[0m\u001b[0m\n\u001b[0;32m    456\u001b[0m           \u001b[1;32mcontinue\u001b[0m\u001b[1;33m\u001b[0m\u001b[1;33m\u001b[0m\u001b[0m\n\u001b[1;32m--> 457\u001b[1;33m         \u001b[0mmetric_obj\u001b[0m\u001b[1;33m.\u001b[0m\u001b[0mupdate_state\u001b[0m\u001b[1;33m(\u001b[0m\u001b[0my_t\u001b[0m\u001b[1;33m,\u001b[0m \u001b[0my_p\u001b[0m\u001b[1;33m,\u001b[0m \u001b[0msample_weight\u001b[0m\u001b[1;33m=\u001b[0m\u001b[0mmask\u001b[0m\u001b[1;33m)\u001b[0m\u001b[1;33m\u001b[0m\u001b[1;33m\u001b[0m\u001b[0m\n\u001b[0m\u001b[0;32m    458\u001b[0m \u001b[1;33m\u001b[0m\u001b[0m\n\u001b[0;32m    459\u001b[0m       \u001b[1;32mfor\u001b[0m \u001b[0mweighted_metric_obj\u001b[0m \u001b[1;32min\u001b[0m \u001b[0mweighted_metric_objs\u001b[0m\u001b[1;33m:\u001b[0m\u001b[1;33m\u001b[0m\u001b[1;33m\u001b[0m\u001b[0m\n",
      "\u001b[1;32md:\\anaconda3\\envs\\tf-gpu\\lib\\site-packages\\keras\\utils\\metrics_utils.py\u001b[0m in \u001b[0;36mdecorated\u001b[1;34m(metric_obj, *args, **kwargs)\u001b[0m\n\u001b[0;32m     71\u001b[0m \u001b[1;33m\u001b[0m\u001b[0m\n\u001b[0;32m     72\u001b[0m     \u001b[1;32mwith\u001b[0m \u001b[0mtf_utils\u001b[0m\u001b[1;33m.\u001b[0m\u001b[0mgraph_context_for_symbolic_tensors\u001b[0m\u001b[1;33m(\u001b[0m\u001b[1;33m*\u001b[0m\u001b[0margs\u001b[0m\u001b[1;33m,\u001b[0m \u001b[1;33m**\u001b[0m\u001b[0mkwargs\u001b[0m\u001b[1;33m)\u001b[0m\u001b[1;33m:\u001b[0m\u001b[1;33m\u001b[0m\u001b[1;33m\u001b[0m\u001b[0m\n\u001b[1;32m---> 73\u001b[1;33m       \u001b[0mupdate_op\u001b[0m \u001b[1;33m=\u001b[0m \u001b[0mupdate_state_fn\u001b[0m\u001b[1;33m(\u001b[0m\u001b[1;33m*\u001b[0m\u001b[0margs\u001b[0m\u001b[1;33m,\u001b[0m \u001b[1;33m**\u001b[0m\u001b[0mkwargs\u001b[0m\u001b[1;33m)\u001b[0m\u001b[1;33m\u001b[0m\u001b[1;33m\u001b[0m\u001b[0m\n\u001b[0m\u001b[0;32m     74\u001b[0m     \u001b[1;32mif\u001b[0m \u001b[0mupdate_op\u001b[0m \u001b[1;32mis\u001b[0m \u001b[1;32mnot\u001b[0m \u001b[1;32mNone\u001b[0m\u001b[1;33m:\u001b[0m  \u001b[1;31m# update_op will be None in eager execution.\u001b[0m\u001b[1;33m\u001b[0m\u001b[1;33m\u001b[0m\u001b[0m\n\u001b[0;32m     75\u001b[0m       \u001b[0mmetric_obj\u001b[0m\u001b[1;33m.\u001b[0m\u001b[0madd_update\u001b[0m\u001b[1;33m(\u001b[0m\u001b[0mupdate_op\u001b[0m\u001b[1;33m)\u001b[0m\u001b[1;33m\u001b[0m\u001b[1;33m\u001b[0m\u001b[0m\n",
      "\u001b[1;32md:\\anaconda3\\envs\\tf-gpu\\lib\\site-packages\\keras\\metrics.py\u001b[0m in \u001b[0;36mupdate_state_fn\u001b[1;34m(*args, **kwargs)\u001b[0m\n\u001b[0;32m    175\u001b[0m         \u001b[0mcontrol_status\u001b[0m \u001b[1;33m=\u001b[0m \u001b[0mtf\u001b[0m\u001b[1;33m.\u001b[0m\u001b[0m__internal__\u001b[0m\u001b[1;33m.\u001b[0m\u001b[0mautograph\u001b[0m\u001b[1;33m.\u001b[0m\u001b[0mcontrol_status_ctx\u001b[0m\u001b[1;33m(\u001b[0m\u001b[1;33m)\u001b[0m\u001b[1;33m\u001b[0m\u001b[1;33m\u001b[0m\u001b[0m\n\u001b[0;32m    176\u001b[0m         \u001b[0mag_update_state\u001b[0m \u001b[1;33m=\u001b[0m \u001b[0mtf\u001b[0m\u001b[1;33m.\u001b[0m\u001b[0m__internal__\u001b[0m\u001b[1;33m.\u001b[0m\u001b[0mautograph\u001b[0m\u001b[1;33m.\u001b[0m\u001b[0mtf_convert\u001b[0m\u001b[1;33m(\u001b[0m\u001b[0mobj_update_state\u001b[0m\u001b[1;33m,\u001b[0m \u001b[0mcontrol_status\u001b[0m\u001b[1;33m)\u001b[0m\u001b[1;33m\u001b[0m\u001b[1;33m\u001b[0m\u001b[0m\n\u001b[1;32m--> 177\u001b[1;33m         \u001b[1;32mreturn\u001b[0m \u001b[0mag_update_state\u001b[0m\u001b[1;33m(\u001b[0m\u001b[1;33m*\u001b[0m\u001b[0margs\u001b[0m\u001b[1;33m,\u001b[0m \u001b[1;33m**\u001b[0m\u001b[0mkwargs\u001b[0m\u001b[1;33m)\u001b[0m\u001b[1;33m\u001b[0m\u001b[1;33m\u001b[0m\u001b[0m\n\u001b[0m\u001b[0;32m    178\u001b[0m     \u001b[1;32melse\u001b[0m\u001b[1;33m:\u001b[0m\u001b[1;33m\u001b[0m\u001b[1;33m\u001b[0m\u001b[0m\n\u001b[0;32m    179\u001b[0m       \u001b[1;32mif\u001b[0m \u001b[0misinstance\u001b[0m\u001b[1;33m(\u001b[0m\u001b[0mobj\u001b[0m\u001b[1;33m.\u001b[0m\u001b[0mupdate_state\u001b[0m\u001b[1;33m,\u001b[0m \u001b[0mtf\u001b[0m\u001b[1;33m.\u001b[0m\u001b[0m__internal__\u001b[0m\u001b[1;33m.\u001b[0m\u001b[0mfunction\u001b[0m\u001b[1;33m.\u001b[0m\u001b[0mFunction\u001b[0m\u001b[1;33m)\u001b[0m\u001b[1;33m:\u001b[0m\u001b[1;33m\u001b[0m\u001b[1;33m\u001b[0m\u001b[0m\n",
      "\u001b[1;32md:\\anaconda3\\envs\\tf-gpu\\lib\\site-packages\\tensorflow\\python\\autograph\\impl\\api.py\u001b[0m in \u001b[0;36mwrapper\u001b[1;34m(*args, **kwargs)\u001b[0m\n\u001b[0;32m    690\u001b[0m       \u001b[1;32mtry\u001b[0m\u001b[1;33m:\u001b[0m\u001b[1;33m\u001b[0m\u001b[1;33m\u001b[0m\u001b[0m\n\u001b[0;32m    691\u001b[0m         \u001b[1;32mwith\u001b[0m \u001b[0mconversion_ctx\u001b[0m\u001b[1;33m:\u001b[0m\u001b[1;33m\u001b[0m\u001b[1;33m\u001b[0m\u001b[0m\n\u001b[1;32m--> 692\u001b[1;33m           \u001b[1;32mreturn\u001b[0m \u001b[0mconverted_call\u001b[0m\u001b[1;33m(\u001b[0m\u001b[0mf\u001b[0m\u001b[1;33m,\u001b[0m \u001b[0margs\u001b[0m\u001b[1;33m,\u001b[0m \u001b[0mkwargs\u001b[0m\u001b[1;33m,\u001b[0m \u001b[0moptions\u001b[0m\u001b[1;33m=\u001b[0m\u001b[0moptions\u001b[0m\u001b[1;33m)\u001b[0m\u001b[1;33m\u001b[0m\u001b[1;33m\u001b[0m\u001b[0m\n\u001b[0m\u001b[0;32m    693\u001b[0m       \u001b[1;32mexcept\u001b[0m \u001b[0mException\u001b[0m \u001b[1;32mas\u001b[0m \u001b[0me\u001b[0m\u001b[1;33m:\u001b[0m  \u001b[1;31m# pylint:disable=broad-except\u001b[0m\u001b[1;33m\u001b[0m\u001b[1;33m\u001b[0m\u001b[0m\n\u001b[0;32m    694\u001b[0m         \u001b[1;32mif\u001b[0m \u001b[0mhasattr\u001b[0m\u001b[1;33m(\u001b[0m\u001b[0me\u001b[0m\u001b[1;33m,\u001b[0m \u001b[1;34m'ag_error_metadata'\u001b[0m\u001b[1;33m)\u001b[0m\u001b[1;33m:\u001b[0m\u001b[1;33m\u001b[0m\u001b[1;33m\u001b[0m\u001b[0m\n",
      "\u001b[1;32md:\\anaconda3\\envs\\tf-gpu\\lib\\site-packages\\tensorflow\\python\\autograph\\impl\\api.py\u001b[0m in \u001b[0;36mconverted_call\u001b[1;34m(f, args, kwargs, caller_fn_scope, options)\u001b[0m\n\u001b[0;32m    334\u001b[0m   \u001b[1;32mif\u001b[0m \u001b[0mconversion\u001b[0m\u001b[1;33m.\u001b[0m\u001b[0mis_in_allowlist_cache\u001b[0m\u001b[1;33m(\u001b[0m\u001b[0mf\u001b[0m\u001b[1;33m,\u001b[0m \u001b[0moptions\u001b[0m\u001b[1;33m)\u001b[0m\u001b[1;33m:\u001b[0m\u001b[1;33m\u001b[0m\u001b[1;33m\u001b[0m\u001b[0m\n\u001b[0;32m    335\u001b[0m     \u001b[0mlogging\u001b[0m\u001b[1;33m.\u001b[0m\u001b[0mlog\u001b[0m\u001b[1;33m(\u001b[0m\u001b[1;36m2\u001b[0m\u001b[1;33m,\u001b[0m \u001b[1;34m'Allowlisted %s: from cache'\u001b[0m\u001b[1;33m,\u001b[0m \u001b[0mf\u001b[0m\u001b[1;33m)\u001b[0m\u001b[1;33m\u001b[0m\u001b[1;33m\u001b[0m\u001b[0m\n\u001b[1;32m--> 336\u001b[1;33m     \u001b[1;32mreturn\u001b[0m \u001b[0m_call_unconverted\u001b[0m\u001b[1;33m(\u001b[0m\u001b[0mf\u001b[0m\u001b[1;33m,\u001b[0m \u001b[0margs\u001b[0m\u001b[1;33m,\u001b[0m \u001b[0mkwargs\u001b[0m\u001b[1;33m,\u001b[0m \u001b[0moptions\u001b[0m\u001b[1;33m,\u001b[0m \u001b[1;32mFalse\u001b[0m\u001b[1;33m)\u001b[0m\u001b[1;33m\u001b[0m\u001b[1;33m\u001b[0m\u001b[0m\n\u001b[0m\u001b[0;32m    337\u001b[0m \u001b[1;33m\u001b[0m\u001b[0m\n\u001b[0;32m    338\u001b[0m   \u001b[1;32mif\u001b[0m \u001b[0mag_ctx\u001b[0m\u001b[1;33m.\u001b[0m\u001b[0mcontrol_status_ctx\u001b[0m\u001b[1;33m(\u001b[0m\u001b[1;33m)\u001b[0m\u001b[1;33m.\u001b[0m\u001b[0mstatus\u001b[0m \u001b[1;33m==\u001b[0m \u001b[0mag_ctx\u001b[0m\u001b[1;33m.\u001b[0m\u001b[0mStatus\u001b[0m\u001b[1;33m.\u001b[0m\u001b[0mDISABLED\u001b[0m\u001b[1;33m:\u001b[0m\u001b[1;33m\u001b[0m\u001b[1;33m\u001b[0m\u001b[0m\n",
      "\u001b[1;32md:\\anaconda3\\envs\\tf-gpu\\lib\\site-packages\\tensorflow\\python\\autograph\\impl\\api.py\u001b[0m in \u001b[0;36m_call_unconverted\u001b[1;34m(f, args, kwargs, options, update_cache)\u001b[0m\n\u001b[0;32m    461\u001b[0m \u001b[1;33m\u001b[0m\u001b[0m\n\u001b[0;32m    462\u001b[0m   \u001b[1;32mif\u001b[0m \u001b[0mkwargs\u001b[0m \u001b[1;32mis\u001b[0m \u001b[1;32mnot\u001b[0m \u001b[1;32mNone\u001b[0m\u001b[1;33m:\u001b[0m\u001b[1;33m\u001b[0m\u001b[1;33m\u001b[0m\u001b[0m\n\u001b[1;32m--> 463\u001b[1;33m     \u001b[1;32mreturn\u001b[0m \u001b[0mf\u001b[0m\u001b[1;33m(\u001b[0m\u001b[1;33m*\u001b[0m\u001b[0margs\u001b[0m\u001b[1;33m,\u001b[0m \u001b[1;33m**\u001b[0m\u001b[0mkwargs\u001b[0m\u001b[1;33m)\u001b[0m\u001b[1;33m\u001b[0m\u001b[1;33m\u001b[0m\u001b[0m\n\u001b[0m\u001b[0;32m    464\u001b[0m   \u001b[1;32mreturn\u001b[0m \u001b[0mf\u001b[0m\u001b[1;33m(\u001b[0m\u001b[1;33m*\u001b[0m\u001b[0margs\u001b[0m\u001b[1;33m)\u001b[0m\u001b[1;33m\u001b[0m\u001b[1;33m\u001b[0m\u001b[0m\n\u001b[0;32m    465\u001b[0m \u001b[1;33m\u001b[0m\u001b[0m\n",
      "\u001b[1;32md:\\anaconda3\\envs\\tf-gpu\\lib\\site-packages\\keras\\metrics.py\u001b[0m in \u001b[0;36mupdate_state\u001b[1;34m(self, y_true, y_pred, sample_weight)\u001b[0m\n\u001b[0;32m    680\u001b[0m     \u001b[0mag_fn\u001b[0m \u001b[1;33m=\u001b[0m \u001b[0mtf\u001b[0m\u001b[1;33m.\u001b[0m\u001b[0m__internal__\u001b[0m\u001b[1;33m.\u001b[0m\u001b[0mautograph\u001b[0m\u001b[1;33m.\u001b[0m\u001b[0mtf_convert\u001b[0m\u001b[1;33m(\u001b[0m\u001b[0mself\u001b[0m\u001b[1;33m.\u001b[0m\u001b[0m_fn\u001b[0m\u001b[1;33m,\u001b[0m \u001b[0mtf\u001b[0m\u001b[1;33m.\u001b[0m\u001b[0m__internal__\u001b[0m\u001b[1;33m.\u001b[0m\u001b[0mautograph\u001b[0m\u001b[1;33m.\u001b[0m\u001b[0mcontrol_status_ctx\u001b[0m\u001b[1;33m(\u001b[0m\u001b[1;33m)\u001b[0m\u001b[1;33m)\u001b[0m\u001b[1;33m\u001b[0m\u001b[1;33m\u001b[0m\u001b[0m\n\u001b[0;32m    681\u001b[0m     \u001b[0mmatches\u001b[0m \u001b[1;33m=\u001b[0m \u001b[0mag_fn\u001b[0m\u001b[1;33m(\u001b[0m\u001b[0my_true\u001b[0m\u001b[1;33m,\u001b[0m \u001b[0my_pred\u001b[0m\u001b[1;33m,\u001b[0m \u001b[1;33m**\u001b[0m\u001b[0mself\u001b[0m\u001b[1;33m.\u001b[0m\u001b[0m_fn_kwargs\u001b[0m\u001b[1;33m)\u001b[0m\u001b[1;33m\u001b[0m\u001b[1;33m\u001b[0m\u001b[0m\n\u001b[1;32m--> 682\u001b[1;33m     return super(MeanMetricWrapper, self).update_state(\n\u001b[0m\u001b[0;32m    683\u001b[0m         matches, sample_weight=sample_weight)\n\u001b[0;32m    684\u001b[0m \u001b[1;33m\u001b[0m\u001b[0m\n",
      "\u001b[1;32md:\\anaconda3\\envs\\tf-gpu\\lib\\site-packages\\keras\\metrics.py\u001b[0m in \u001b[0;36mupdate_state\u001b[1;34m(self, values, sample_weight)\u001b[0m\n\u001b[0;32m    434\u001b[0m     \u001b[1;32melif\u001b[0m \u001b[0mself\u001b[0m\u001b[1;33m.\u001b[0m\u001b[0mreduction\u001b[0m \u001b[1;33m==\u001b[0m \u001b[0mmetrics_utils\u001b[0m\u001b[1;33m.\u001b[0m\u001b[0mReduction\u001b[0m\u001b[1;33m.\u001b[0m\u001b[0mWEIGHTED_MEAN\u001b[0m\u001b[1;33m:\u001b[0m\u001b[1;33m\u001b[0m\u001b[1;33m\u001b[0m\u001b[0m\n\u001b[0;32m    435\u001b[0m       \u001b[1;32mif\u001b[0m \u001b[0msample_weight\u001b[0m \u001b[1;32mis\u001b[0m \u001b[1;32mNone\u001b[0m\u001b[1;33m:\u001b[0m\u001b[1;33m\u001b[0m\u001b[1;33m\u001b[0m\u001b[0m\n\u001b[1;32m--> 436\u001b[1;33m         \u001b[0mnum_values\u001b[0m \u001b[1;33m=\u001b[0m \u001b[0mtf\u001b[0m\u001b[1;33m.\u001b[0m\u001b[0mcast\u001b[0m\u001b[1;33m(\u001b[0m\u001b[0mtf\u001b[0m\u001b[1;33m.\u001b[0m\u001b[0msize\u001b[0m\u001b[1;33m(\u001b[0m\u001b[0mvalues\u001b[0m\u001b[1;33m)\u001b[0m\u001b[1;33m,\u001b[0m \u001b[0mself\u001b[0m\u001b[1;33m.\u001b[0m\u001b[0m_dtype\u001b[0m\u001b[1;33m)\u001b[0m\u001b[1;33m\u001b[0m\u001b[1;33m\u001b[0m\u001b[0m\n\u001b[0m\u001b[0;32m    437\u001b[0m       \u001b[1;32melse\u001b[0m\u001b[1;33m:\u001b[0m\u001b[1;33m\u001b[0m\u001b[1;33m\u001b[0m\u001b[0m\n\u001b[0;32m    438\u001b[0m         \u001b[0mnum_values\u001b[0m \u001b[1;33m=\u001b[0m \u001b[0mtf\u001b[0m\u001b[1;33m.\u001b[0m\u001b[0mreduce_sum\u001b[0m\u001b[1;33m(\u001b[0m\u001b[0msample_weight\u001b[0m\u001b[1;33m)\u001b[0m\u001b[1;33m\u001b[0m\u001b[1;33m\u001b[0m\u001b[0m\n",
      "\u001b[1;32md:\\anaconda3\\envs\\tf-gpu\\lib\\site-packages\\tensorflow\\python\\util\\dispatch.py\u001b[0m in \u001b[0;36mwrapper\u001b[1;34m(*args, **kwargs)\u001b[0m\n\u001b[0;32m    204\u001b[0m     \u001b[1;34m\"\"\"Call target, and fall back on dispatchers if there is a TypeError.\"\"\"\u001b[0m\u001b[1;33m\u001b[0m\u001b[1;33m\u001b[0m\u001b[0m\n\u001b[0;32m    205\u001b[0m     \u001b[1;32mtry\u001b[0m\u001b[1;33m:\u001b[0m\u001b[1;33m\u001b[0m\u001b[1;33m\u001b[0m\u001b[0m\n\u001b[1;32m--> 206\u001b[1;33m       \u001b[1;32mreturn\u001b[0m \u001b[0mtarget\u001b[0m\u001b[1;33m(\u001b[0m\u001b[1;33m*\u001b[0m\u001b[0margs\u001b[0m\u001b[1;33m,\u001b[0m \u001b[1;33m**\u001b[0m\u001b[0mkwargs\u001b[0m\u001b[1;33m)\u001b[0m\u001b[1;33m\u001b[0m\u001b[1;33m\u001b[0m\u001b[0m\n\u001b[0m\u001b[0;32m    207\u001b[0m     \u001b[1;32mexcept\u001b[0m \u001b[1;33m(\u001b[0m\u001b[0mTypeError\u001b[0m\u001b[1;33m,\u001b[0m \u001b[0mValueError\u001b[0m\u001b[1;33m)\u001b[0m\u001b[1;33m:\u001b[0m\u001b[1;33m\u001b[0m\u001b[1;33m\u001b[0m\u001b[0m\n\u001b[0;32m    208\u001b[0m       \u001b[1;31m# Note: convert_to_eager_tensor currently raises a ValueError, not a\u001b[0m\u001b[1;33m\u001b[0m\u001b[1;33m\u001b[0m\u001b[0m\n",
      "\u001b[1;32md:\\anaconda3\\envs\\tf-gpu\\lib\\site-packages\\tensorflow\\python\\ops\\math_ops.py\u001b[0m in \u001b[0;36mcast\u001b[1;34m(x, dtype, name)\u001b[0m\n\u001b[0;32m    988\u001b[0m       \u001b[0mx\u001b[0m \u001b[1;33m=\u001b[0m \u001b[0mops\u001b[0m\u001b[1;33m.\u001b[0m\u001b[0mconvert_to_tensor\u001b[0m\u001b[1;33m(\u001b[0m\u001b[0mx\u001b[0m\u001b[1;33m,\u001b[0m \u001b[0mname\u001b[0m\u001b[1;33m=\u001b[0m\u001b[1;34m\"x\"\u001b[0m\u001b[1;33m)\u001b[0m\u001b[1;33m\u001b[0m\u001b[1;33m\u001b[0m\u001b[0m\n\u001b[0;32m    989\u001b[0m       \u001b[1;32mif\u001b[0m \u001b[0mx\u001b[0m\u001b[1;33m.\u001b[0m\u001b[0mdtype\u001b[0m\u001b[1;33m.\u001b[0m\u001b[0mbase_dtype\u001b[0m \u001b[1;33m!=\u001b[0m \u001b[0mbase_type\u001b[0m\u001b[1;33m:\u001b[0m\u001b[1;33m\u001b[0m\u001b[1;33m\u001b[0m\u001b[0m\n\u001b[1;32m--> 990\u001b[1;33m         \u001b[0mx\u001b[0m \u001b[1;33m=\u001b[0m \u001b[0mgen_math_ops\u001b[0m\u001b[1;33m.\u001b[0m\u001b[0mcast\u001b[0m\u001b[1;33m(\u001b[0m\u001b[0mx\u001b[0m\u001b[1;33m,\u001b[0m \u001b[0mbase_type\u001b[0m\u001b[1;33m,\u001b[0m \u001b[0mname\u001b[0m\u001b[1;33m=\u001b[0m\u001b[0mname\u001b[0m\u001b[1;33m)\u001b[0m\u001b[1;33m\u001b[0m\u001b[1;33m\u001b[0m\u001b[0m\n\u001b[0m\u001b[0;32m    991\u001b[0m     \u001b[1;32mif\u001b[0m \u001b[0mx\u001b[0m\u001b[1;33m.\u001b[0m\u001b[0mdtype\u001b[0m\u001b[1;33m.\u001b[0m\u001b[0mis_complex\u001b[0m \u001b[1;32mand\u001b[0m \u001b[0mbase_type\u001b[0m\u001b[1;33m.\u001b[0m\u001b[0mis_floating\u001b[0m\u001b[1;33m:\u001b[0m\u001b[1;33m\u001b[0m\u001b[1;33m\u001b[0m\u001b[0m\n\u001b[0;32m    992\u001b[0m       \u001b[0mlogging\u001b[0m\u001b[1;33m.\u001b[0m\u001b[0mwarn\u001b[0m\u001b[1;33m(\u001b[0m\u001b[1;34m\"Casting complex to real discards imaginary part.\"\u001b[0m\u001b[1;33m)\u001b[0m\u001b[1;33m\u001b[0m\u001b[1;33m\u001b[0m\u001b[0m\n",
      "\u001b[1;32md:\\anaconda3\\envs\\tf-gpu\\lib\\site-packages\\tensorflow\\python\\ops\\gen_math_ops.py\u001b[0m in \u001b[0;36mcast\u001b[1;34m(x, DstT, Truncate, name)\u001b[0m\n\u001b[0;32m   1936\u001b[0m   \u001b[1;32mif\u001b[0m \u001b[0mtld\u001b[0m\u001b[1;33m.\u001b[0m\u001b[0mis_eager\u001b[0m\u001b[1;33m:\u001b[0m\u001b[1;33m\u001b[0m\u001b[1;33m\u001b[0m\u001b[0m\n\u001b[0;32m   1937\u001b[0m     \u001b[1;32mtry\u001b[0m\u001b[1;33m:\u001b[0m\u001b[1;33m\u001b[0m\u001b[1;33m\u001b[0m\u001b[0m\n\u001b[1;32m-> 1938\u001b[1;33m       _result = pywrap_tfe.TFE_Py_FastPathExecute(\n\u001b[0m\u001b[0;32m   1939\u001b[0m         _ctx, \"Cast\", name, x, \"DstT\", DstT, \"Truncate\", Truncate)\n\u001b[0;32m   1940\u001b[0m       \u001b[1;32mreturn\u001b[0m \u001b[0m_result\u001b[0m\u001b[1;33m\u001b[0m\u001b[1;33m\u001b[0m\u001b[0m\n",
      "\u001b[1;31mKeyboardInterrupt\u001b[0m: "
     ]
    }
   ],
   "source": [
    "from shutil import rmtree\n",
    "\n",
    "rmtree('./logs')\n",
    "model.fit(\n",
    "  train_ds,\n",
    "  epochs=EPOCHS,\n",
    "  validation_data=val_ds,\n",
    "  callbacks=[tensorboard_callback, cp_callback]\n",
    ")\n",
    "model.save('models/'+model.name)\n"
   ]
  },
  {
   "cell_type": "code",
   "execution_count": null,
   "metadata": {},
   "outputs": [],
   "source": [
    "from tensorflow.keras import Model\n",
    "from tensorflow.keras.models import load_model\n",
    "\n",
    "model = load_model('models/'+'SqueezeNetV1_1x224', custom_objects={'recall': recall, 'precision': precision,'f1_score':F1_score})\n"
   ]
  },
  {
   "cell_type": "code",
   "execution_count": null,
   "metadata": {},
   "outputs": [],
   "source": [
    "# test_accuracy = tf.keras.metrics.Accuracy()\n",
    "# test_precision = tf.keras.metrics.Precision()\n",
    "# test_recall= tf.keras.metrics.Recall()\n",
    "# #ds_test_batch = test_ds.batch(10)\n",
    "\n",
    "loss, accuracy, prec, rec, f1 = model.evaluate(test_ds)\n",
    "print(\"Loss :\", loss)\n",
    "print(\"Accuracy :\", accuracy)\n",
    "print(\"Precision :\", prec)\n",
    "print(\"Recall :\", rec)\n",
    "print(\"F1-Score :\", f1)\n",
    "\n",
    "\n"
   ]
  },
  {
   "cell_type": "code",
   "execution_count": null,
   "metadata": {},
   "outputs": [],
   "source": []
  },
  {
   "cell_type": "code",
   "execution_count": null,
   "metadata": {},
   "outputs": [],
   "source": [
    "print(test_ds.take(1))\n"
   ]
  },
  {
   "cell_type": "code",
   "execution_count": null,
   "metadata": {},
   "outputs": [],
   "source": [
    "\n"
   ]
  },
  {
   "cell_type": "markdown",
   "metadata": {},
   "source": [
    "### Testing With A Video Stream"
   ]
  },
  {
   "cell_type": "code",
   "execution_count": null,
   "metadata": {},
   "outputs": [],
   "source": [
    "import cv2\n",
    "from uuid import uuid4\n",
    "import numpy as np\n",
    "import tensorflow as tf\n",
    "count=0\n",
    "Slow = cv2.imread(\"SlowDown.png\")\n",
    "size = 100\n",
    "Slow = cv2.resize(Slow, (size, size))\n",
    "img2gray = cv2.cvtColor(Slow, cv2.COLOR_BGR2GRAY)\n",
    "ret, mask = cv2.threshold(img2gray, 1, 255, cv2.THRESH_BINARY)\n",
    "\n",
    "videos_dir=['Road.avi','Bumps.avi','Potholes.mp4']\n",
    "accs=np.zeros(len(videos_dir))\n",
    "for i in range(len(videos_dir)):\n",
    "    cap = cv2.VideoCapture(videos_dir[i])\n",
    "    images = []\n",
    "    bumps=0\n",
    "    pothole=0\n",
    "    frames=0\n",
    "    print(\"count:\",count)\n",
    "    while(cap.isOpened()):\n",
    "        ret, frame = cap.read()\n",
    "        if ret == True:\n",
    "            # print(frame.shape)\n",
    "            cv2.imwrite(\"q/frame%d.jpg\" % count, frame) \n",
    "\n",
    "            frames=frames+1\n",
    "            # image = tf.image.resize(frame, [IMG_SIZE, IMG_SIZE])\n",
    "            # image=tf.convert_to_tensor(frame)\n",
    "            # image= tf.image.resize(image, [IMG_SIZE, IMG_SIZE])\n",
    "            # image= tf.expand_dims(image,0)\n",
    "\n",
    "            roi = frame[-size-10:-10, -size-10:-10]\n",
    "            # Set an index of where the mask is\n",
    "            roi[np.where(mask)] = 0\n",
    "            \n",
    "\n",
    "            # label = np.argmax(model.predict(image))\n",
    "            # if  i==2 and label !=2:\n",
    "            #     label=label+1 \n",
    "            cv2.imshow('Frame',frame)\n",
    "            # if label==0:\n",
    "            #     print(\"The Prediction is: Road\")\n",
    "            # elif label==1:\n",
    "            #     print(\"The Prediction is: Bump\")\n",
    "            # else:\n",
    "            #     print(\"The Prediction is: Pothole\")\n",
    "            \n",
    "            # print(label)\n",
    "            # if label == 1:\n",
    "            #     bumps=bumps+1\n",
    "            #     # c=input()\n",
    "            #     frame = cv2.circle(frame, (160,20), radius=0, color=(0, 0, 255), thickness=30)#for bumb\n",
    "            #     roi += Slow \n",
    "            # elif label == 2:\n",
    "            #     pothole=pothole+1\n",
    "            #     # c=input()\n",
    "            #     frame = cv2.circle(frame, (180,70), radius=0, color=(255, 0, 0), thickness=30) #for pothole\n",
    "            #     roi += Slow \n",
    "            cv2.putText(img=frame, text='Bump', org=(0, 30), fontFace=cv2.FONT_HERSHEY_TRIPLEX, fontScale=1.0, color=(0, 0, 255),thickness=0) \n",
    "            cv2.putText(img=frame, text='Pothole', org=(0, 80), fontFace=cv2.FONT_HERSHEY_TRIPLEX, fontScale=1.0, color=(255, 0, 0),thickness=0)\n",
    "            cv2.imshow('Frame',frame)\n",
    "            # Press Q on keyboard to  exit\n",
    "            # c=input()\n",
    "            count=count+1\n",
    "            \n",
    "            if cv2.waitKey(25) & 0xFF == ord('q'):\n",
    "                break\n",
    "        else:\n",
    "            break\n",
    "    if i==0:\n",
    "        print(\"number of 1st vides frames are\",frames)\n",
    "        accs[i]=1-((bumps+pothole)/frames)\n",
    "    elif i==1:\n",
    "        print(\"number of 2nd vides frames are\",frames)\n",
    "        accs[i]=bumps/frames\n",
    "    else:\n",
    "        print(\"number of 3rd vides frames are\",frames)\n",
    "        accs[i]=pothole/frames\n",
    "\n",
    "cap.release()\n",
    "cv2.destroyAllWindows()\n",
    "\n",
    "# print(\"total accuracy\",(pothole)/frames)\n",
    "print(\"Accuracy Of Road\",accs[0])\n",
    "print(\"Accuracy Of Bumps\",accs[1])\n",
    "print(\"Accuracy Of Potholes\",accs[2])\n",
    "print(\"AVG Accuracy\",accs.sum()/len(videos_dir))"
   ]
  },
  {
   "cell_type": "markdown",
   "metadata": {},
   "source": [
    "### Creating Video Stream Using Seprated Images"
   ]
  },
  {
   "cell_type": "code",
   "execution_count": null,
   "metadata": {},
   "outputs": [],
   "source": [
    "import cv2\n",
    "import numpy as np\n",
    "import glob\n",
    "\n",
    "img_array = []\n",
    "for filename in glob.glob('q\\\\1\\\\*.*'):\n",
    "    img = cv2.imread(filename)\n",
    "    height, width, layers = img.shape\n",
    "    size = (width,height)\n",
    "    img_array.append(img)\n",
    "    print(filename,'is loaded to the video')\n",
    "print(len(img_array))\n",
    "\n",
    "\n",
    "#convert img_array to video\n",
    "# out = cv2.VideoWriter('q/output.avi',cv2.VideoWriter_fourcc(*'DIVX'), 25, size)\n",
    "# write a video of the images\n",
    "\n",
    "\n",
    "out = cv2.VideoWriter('Road_test.mp4',cv2.VideoWriter_fourcc(*'DIVX'), 10,size)\n",
    " \n",
    "for i in range(len(img_array)):\n",
    "    out.write(img_array[i])\n",
    "out.release()"
   ]
  },
  {
   "cell_type": "code",
   "execution_count": null,
   "metadata": {},
   "outputs": [],
   "source": [
    "c=c1=c2=0\n",
    "\n",
    "for i in test:\n",
    "  # label =np.argmax(model.predict(i))\n",
    "  # cv2.imshow('Frame',i)\n",
    "  # plt.imshow(image_batch[i].numpy().astype(\"uint8\"))\n",
    "  # print('class name: '+ str())\n",
    "  if(label==0):\n",
    "    c=c+1\n",
    "  elif (label==1):\n",
    "    c1=c1+1\n",
    "  elif(label==2):\n",
    "    c2=c2+1\n",
    "print(c,c1,c2)\n"
   ]
  },
  {
   "cell_type": "code",
   "execution_count": null,
   "metadata": {},
   "outputs": [],
   "source": [
    "cv2.destroyAllWindows()\n",
    "model.layers[3].get_weights()"
   ]
  },
  {
   "cell_type": "code",
   "execution_count": null,
   "metadata": {},
   "outputs": [],
   "source": [
    "weights = model.layers[1].get_weights()"
   ]
  },
  {
   "cell_type": "code",
   "execution_count": null,
   "metadata": {},
   "outputs": [],
   "source": [
    "weights.shape"
   ]
  },
  {
   "cell_type": "code",
   "execution_count": null,
   "metadata": {},
   "outputs": [],
   "source": [
    "weights[:,:,2,60]"
   ]
  }
 ],
 "metadata": {
  "accelerator": "GPU",
  "colab": {
   "collapsed_sections": [],
   "name": "images.ipynb",
   "toc_visible": true
  },
  "interpreter": {
   "hash": "c0e9f387c259db4d480008706f04ece23be5a5fe33bd4a4b28ce42f14d82d228"
  },
  "kernelspec": {
   "display_name": "Python 3.9.12 ('tf-gpu')",
   "language": "python",
   "name": "python3"
  },
  "language_info": {
   "codemirror_mode": {
    "name": "ipython",
    "version": 3
   },
   "file_extension": ".py",
   "mimetype": "text/x-python",
   "name": "python",
   "nbconvert_exporter": "python",
   "pygments_lexer": "ipython3",
   "version": "3.9.12"
  }
 },
 "nbformat": 4,
 "nbformat_minor": 0
}

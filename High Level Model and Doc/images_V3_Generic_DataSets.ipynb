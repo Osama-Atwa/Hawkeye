{
 "cells": [
  {
   "cell_type": "markdown",
   "metadata": {
    "id": "mt9dL5dIir8X"
   },
   "source": [
    "##### Copyright 2020 The TensorFlow Authors."
   ]
  },
  {
   "cell_type": "markdown",
   "metadata": {
    "id": "hoQQiZDB6URn"
   },
   "source": [
    "## Setup"
   ]
  },
  {
   "cell_type": "code",
   "execution_count": 2,
   "metadata": {
    "execution": {
     "iopub.execute_input": "2022-01-26T06:29:32.392452Z",
     "iopub.status.busy": "2022-01-26T06:29:32.391867Z",
     "iopub.status.idle": "2022-01-26T06:29:34.478795Z",
     "shell.execute_reply": "2022-01-26T06:29:34.478277Z"
    },
    "id": "3vhAMaIOBIee"
   },
   "outputs": [],
   "source": [
    "import numpy as np\n",
    "import os\n",
    "import PIL\n",
    "import PIL.Image\n",
    "import tensorflow as tf\n",
    "\n",
    "\n",
    "NUM_CLASSES = 3 #Bump/Road\n",
    "IMG_SIZE =40 #SqueezeNet 90x90\n",
    "SHOULD_TEST = False\n",
    "\n",
    "EPOCHS = 40\n",
    "BATCH_SIZE = 64"
   ]
  },
  {
   "cell_type": "code",
   "execution_count": 3,
   "metadata": {},
   "outputs": [],
   "source": [
    "# import pandas\n",
    "# import shutil \n",
    "# import os\n",
    "# csv_file = pandas.read_csv(\"D:/GP/New version/MIIA PotHole/train_ids_labels.csv\") # you can implement options as you want here)\n",
    "# sorted_csv = csv_file.sort_values(by=['Label'])\n",
    "# class_names = list(sorted_csv['Label'].unique())\n",
    "# print(class_names)\n",
    "# print()\n",
    "# if not os.path.exists('D:/GP/New version/PotHole/001') or not os.path.exists('D:/GP/New version/PotHole/002'):\n",
    "#   os.makedirs(os.path.join('D:/GP/New version/PotHole/001'))\n",
    "#   os.makedirs(os.path.join('D:/GP/New version/PotHole/002'))\n",
    "#   print(\"created\")\n",
    "\n",
    "# for i in class_names:\n",
    "#   temp='00'+str(i+1)          \n",
    "#   for c in list(sorted_csv[sorted_csv['Label']== i]['Image_ID']):    # c  ->  individual image \n",
    "#   # Creating path to the image\n",
    "#     get_image = os.path.join('D:/GP/New version/MIIA PotHole/all_data/all_data/',c+'.JPG')\n",
    "#     # print(get_image)\n",
    "#   # get_image to that path\n",
    "#     if os.path.exists('D:/GP/New version/PotHole/'+temp):\n",
    "#         # move the image to this path\n",
    "#         print(get_image,\"Loaded to\",temp)\n",
    "#         move_image = shutil.copy(get_image,'D:/GP/New version/PotHole/'+temp)\n"
   ]
  },
  {
   "cell_type": "code",
   "execution_count": 4,
   "metadata": {},
   "outputs": [],
   "source": [
    "# # print(sorted_csv)\n",
    "# road_images_count=len(sorted_csv[sorted_csv['Label']== 0])\n",
    "# pothole_images_count=len(sorted_csv[sorted_csv['Label']== 1])\n",
    "# print(\"road_images_count: \"+str(road_images_count),\"\\npothole_images_count: \"+str(pothole_images_count))\n"
   ]
  },
  {
   "cell_type": "code",
   "execution_count": 5,
   "metadata": {},
   "outputs": [
    {
     "name": "stdout",
     "output_type": "stream",
     "text": [
      "Found GPU at: /device:GPU:0\n"
     ]
    }
   ],
   "source": [
    "device_name = tf.test.gpu_device_name()\n",
    "if not device_name:\n",
    "  raise SystemError('GPU device not found')\n",
    "print('Found GPU at: {}'.format(device_name))"
   ]
  },
  {
   "cell_type": "markdown",
   "metadata": {
    "id": "Ju2yXtdV5YaT"
   },
   "source": [
    "Note: all images are licensed CC-BY, creators are listed in the LICENSE.txt file."
   ]
  },
  {
   "cell_type": "code",
   "execution_count": 6,
   "metadata": {},
   "outputs": [],
   "source": [
    "import pathlib\n",
    "\n",
    "data_dirs_string=['D:/GP/New version/NEWEST_DATASET_BUMPS','D:/GP/New version/train','D:/GP/New version/PotHole']\n",
    "data_dirs=[]\n",
    "for i in data_dirs_string:\n",
    "  data_dirs.append(pathlib.Path(i))\n",
    "\n",
    "# data_dir = 'D:/GP/New version/NEWEST_DATASET_BUMPS'\n",
    "# data_dir = pathlib.Path(data_dir)\n",
    "\n",
    "# data_dir2 = 'D:/GP/New version/train'\n",
    "# data_dir2 = pathlib.Path(data_dir2)\n",
    "\n",
    "# # data_dir3 = 'D:/GP/New version/train'\n",
    "# # data_dir3 = pathlib.Path(data_dir2)\n",
    "\n",
    "# data_dir3 = 'D:/GP/New version/PotHole'\n",
    "# data_dir3 = pathlib.Path(data_dir3)\n",
    "# image_count_train = len(list(data_dirs[0].glob('*/*.*')))+len(list(data_dirs[1].glob('*/*.*')))+len(list(data_dirs[2].glob('*/*.*'))) \n",
    "# print(image_count_train)\n"
   ]
  },
  {
   "cell_type": "code",
   "execution_count": 7,
   "metadata": {},
   "outputs": [
    {
     "name": "stdout",
     "output_type": "stream",
     "text": [
      "['001', '002', '003']\n"
     ]
    }
   ],
   "source": [
    "class_names=[]\n",
    "for i in range(NUM_CLASSES):\n",
    "  Class = np.array(sorted([item.name for item in data_dirs[i].glob('*') if item.name != \"LICENSE.txt\"]))\n",
    "  for i in Class:\n",
    "    if i not in class_names:\n",
    "      class_names.append(i)\n",
    "print(class_names)\n",
    "# class_names = np.array(sorted([item.name for item in data_dir2.glob('*') if item.name != \"LICENSE.txt\"]))\n",
    "# print(class_names)\n",
    "# class_names = np.array(sorted([item.name for item in data_dir3.glob('*') if item.name != \"LICENSE.txt\"]))\n",
    "# print(class_names)"
   ]
  },
  {
   "cell_type": "code",
   "execution_count": 8,
   "metadata": {
    "execution": {
     "iopub.execute_input": "2022-01-26T06:29:44.484086Z",
     "iopub.status.busy": "2022-01-26T06:29:44.483305Z",
     "iopub.status.idle": "2022-01-26T06:29:44.497795Z",
     "shell.execute_reply": "2022-01-26T06:29:44.498148Z"
    },
    "id": "lAkQp5uxoINu"
   },
   "outputs": [
    {
     "name": "stdout",
     "output_type": "stream",
     "text": [
      "Length of each dataset:  [8112. 4267. 1661.]\n",
      "Min. Length is:  1661\n",
      "train size: 4983\n"
     ]
    }
   ],
   "source": [
    "\n",
    "dataSets=[tf.data.Dataset for x in range(NUM_CLASSES)]\n",
    "dir=[]\n",
    "image_count_train=np.zeros(NUM_CLASSES)\n",
    "\n",
    "for j in range(NUM_CLASSES):\n",
    "  for i in range(NUM_CLASSES):\n",
    "  # if not os.path.exists(str(data_dirs[i]/+class_names[j]+'/*')): \n",
    "    temp=str(class_names[j]+'/*')\n",
    "    dir.append(str(data_dirs[i]/temp))\n",
    "  # print(dir)  \n",
    "  dataSets[j]=(tf.data.Dataset.list_files(dir, shuffle=False))\n",
    "  dir=[]\n",
    "  image_count_train[j]=int(len(dataSets[j]))\n",
    "  dataSets[j] = dataSets[j].shuffle(image_count_train[j], reshuffle_each_iteration=False)\n",
    "  \n",
    "print(\"Length of each dataset: \",image_count_train)\n",
    "minLen= int(min(image_count_train))\n",
    "minIndex=np.argmin(image_count_train)\n",
    "print(\"Min. Length is: \",minLen)    \n",
    "\n",
    "list_ds_train=dataSets[minIndex]\n",
    "for i in range(NUM_CLASSES):\n",
    "  if i != minIndex:\n",
    "    # print(\"hi\")\n",
    "    list_ds_train = list_ds_train.concatenate(dataSets[i].take(minLen))\n",
    "list_ds_train = list_ds_train.shuffle(NUM_CLASSES*minLen, reshuffle_each_iteration=False)\n",
    "\n",
    "print('train size:' , len(list(list_ds_train.as_numpy_iterator())))\n",
    "# list_ds_train = list_ds_train.batch(BATCH_SIZE).prefetch(2)\n",
    "\n",
    "# list_ds_test = tf.data.Dataset.list_files([str(data_dir2/'*/*')], shuffle=False)\n",
    "# list_ds_test = list_ds_test.shuffle(image_count_test, reshuffle_each_iteration=False)"
   ]
  },
  {
   "cell_type": "code",
   "execution_count": 9,
   "metadata": {
    "execution": {
     "iopub.execute_input": "2022-01-26T06:29:44.503154Z",
     "iopub.status.busy": "2022-01-26T06:29:44.502237Z",
     "iopub.status.idle": "2022-01-26T06:29:44.512927Z",
     "shell.execute_reply": "2022-01-26T06:29:44.513285Z"
    },
    "id": "coORvEH-NGwc"
   },
   "outputs": [
    {
     "name": "stdout",
     "output_type": "stream",
     "text": [
      "b'D:\\\\GP\\\\New version\\\\train\\\\002\\\\bump (769).jpg'\n",
      "b'D:\\\\GP\\\\New version\\\\PotHole\\\\003\\\\zJoDmvMgMfYuuID.JPG'\n",
      "b'D:\\\\GP\\\\New version\\\\NEWEST_DATASET_BUMPS\\\\002\\\\VIDEO0012_006.jpg'\n",
      "b'D:\\\\GP\\\\New version\\\\NEWEST_DATASET_BUMPS\\\\002\\\\MVI_1580 10.jpg'\n",
      "b'D:\\\\GP\\\\New version\\\\NEWEST_DATASET_BUMPS\\\\002\\\\20191011_070047 268.jpg'\n"
     ]
    }
   ],
   "source": [
    "for f in list_ds_train.take(5):\n",
    "  print(f.numpy())\n",
    "\n",
    "# for f in list_ds_test.take(5):\n",
    "#   print(f.numpy())  "
   ]
  },
  {
   "cell_type": "markdown",
   "metadata": {
    "id": "6NLQ_VJhWO4z"
   },
   "source": [
    "The tree structure of the files can be used to compile a `class_names` list."
   ]
  },
  {
   "cell_type": "markdown",
   "metadata": {
    "id": "CiptrWmAlmAa"
   },
   "source": [
    "Split the dataset into training and validation sets:"
   ]
  },
  {
   "cell_type": "code",
   "execution_count": 10,
   "metadata": {
    "execution": {
     "iopub.execute_input": "2022-01-26T06:29:44.524897Z",
     "iopub.status.busy": "2022-01-26T06:29:44.524044Z",
     "iopub.status.idle": "2022-01-26T06:29:44.548354Z",
     "shell.execute_reply": "2022-01-26T06:29:44.547835Z"
    },
    "id": "GWHNPzXclpVr"
   },
   "outputs": [],
   "source": [
    "# image_count=sum(image_count_train)\n",
    "# print(image_count*0.2)\n",
    "test_size = int(minLen *0.2)\n",
    "val_size = int(minLen * 0.2)\n",
    "test_ds = list_ds_train.take(test_size)\n",
    "val_ds = list_ds_train.skip(test_size).take(val_size)\n",
    "train_ds = list_ds_train.skip(val_size+test_size)\n"
   ]
  },
  {
   "cell_type": "markdown",
   "metadata": {
    "id": "rkB-IR4-pS3U"
   },
   "source": [
    "You can print the length of each dataset as follows:"
   ]
  },
  {
   "cell_type": "code",
   "execution_count": 11,
   "metadata": {
    "execution": {
     "iopub.execute_input": "2022-01-26T06:29:44.552974Z",
     "iopub.status.busy": "2022-01-26T06:29:44.552265Z",
     "iopub.status.idle": "2022-01-26T06:29:44.554832Z",
     "shell.execute_reply": "2022-01-26T06:29:44.555181Z"
    },
    "id": "SiKQrb9ppS-7"
   },
   "outputs": [
    {
     "name": "stdout",
     "output_type": "stream",
     "text": [
      "test size: 332\n",
      "train size: 4319\n",
      "dev size: 332\n"
     ]
    }
   ],
   "source": [
    "print('test size:' , len(list(test_ds.as_numpy_iterator())))\n",
    "print('train size:' , len(list(train_ds.as_numpy_iterator())))\n",
    "print('dev size:' , len(list(val_ds.as_numpy_iterator())))"
   ]
  },
  {
   "cell_type": "markdown",
   "metadata": {
    "id": "91CPfUUJ_8SZ"
   },
   "source": [
    "Write a short function that converts a file path to an `(img, label)` pair:"
   ]
  },
  {
   "cell_type": "code",
   "execution_count": 12,
   "metadata": {
    "execution": {
     "iopub.execute_input": "2022-01-26T06:29:44.559661Z",
     "iopub.status.busy": "2022-01-26T06:29:44.558876Z",
     "iopub.status.idle": "2022-01-26T06:29:44.560674Z",
     "shell.execute_reply": "2022-01-26T06:29:44.561025Z"
    },
    "id": "arSQzIey-4D4"
   },
   "outputs": [],
   "source": [
    "def get_label(file_path):\n",
    "  # Convert the path to a list of path components\n",
    "  parts = tf.strings.split(file_path, os.path.sep)\n",
    "  # The second to last is the class-directory\n",
    "  \n",
    "  one_hot = parts[-2] == class_names\n",
    "  # Integer encode the label\n",
    "  return tf.argmax(one_hot)"
   ]
  },
  {
   "cell_type": "code",
   "execution_count": 13,
   "metadata": {
    "execution": {
     "iopub.execute_input": "2022-01-26T06:29:44.565350Z",
     "iopub.status.busy": "2022-01-26T06:29:44.564567Z",
     "iopub.status.idle": "2022-01-26T06:29:44.566772Z",
     "shell.execute_reply": "2022-01-26T06:29:44.566353Z"
    },
    "id": "MGlq4IP4Aktb"
   },
   "outputs": [],
   "source": [
    "def decode_img(img):\n",
    "  # Convert the compressed string to a 3D uint8 tensor\n",
    "  img = tf.io.decode_jpeg(img, channels=3)\n",
    "  # Resize the image to the desired size\n",
    "  return tf.image.resize(img, [IMG_SIZE, IMG_SIZE])"
   ]
  },
  {
   "cell_type": "code",
   "execution_count": 14,
   "metadata": {
    "execution": {
     "iopub.execute_input": "2022-01-26T06:29:44.570920Z",
     "iopub.status.busy": "2022-01-26T06:29:44.570131Z",
     "iopub.status.idle": "2022-01-26T06:29:44.572396Z",
     "shell.execute_reply": "2022-01-26T06:29:44.571964Z"
    },
    "id": "-xhBRgvNqRRe"
   },
   "outputs": [],
   "source": [
    "def process_path(file_path):\n",
    "  label = get_label(file_path)\n",
    "  # Load the raw data from the file as a string\n",
    "  img = tf.io.read_file(file_path)\n",
    "  img = decode_img(img)\n",
    "  return img, label"
   ]
  },
  {
   "cell_type": "markdown",
   "metadata": {
    "id": "S9a5GpsUOBx8"
   },
   "source": [
    "Use `Dataset.map` to create a dataset of `image, label` pairs:"
   ]
  },
  {
   "cell_type": "code",
   "execution_count": 15,
   "metadata": {},
   "outputs": [],
   "source": [
    "AUTOTUNE = tf.data.AUTOTUNE"
   ]
  },
  {
   "cell_type": "code",
   "execution_count": 16,
   "metadata": {
    "execution": {
     "iopub.execute_input": "2022-01-26T06:29:44.577584Z",
     "iopub.status.busy": "2022-01-26T06:29:44.576790Z",
     "iopub.status.idle": "2022-01-26T06:29:44.737954Z",
     "shell.execute_reply": "2022-01-26T06:29:44.738344Z"
    },
    "id": "3SDhbo8lOBQv"
   },
   "outputs": [],
   "source": [
    "# Set `num_parallel_calls` so multiple images are loaded/processed in parallel.\n",
    "train_ds = train_ds.map(process_path, num_parallel_calls=AUTOTUNE)\n",
    "val_ds = val_ds.map(process_path, num_parallel_calls=AUTOTUNE)\n",
    "test_ds = test_ds.map(process_path, num_parallel_calls=AUTOTUNE)"
   ]
  },
  {
   "cell_type": "code",
   "execution_count": 17,
   "metadata": {
    "execution": {
     "iopub.execute_input": "2022-01-26T06:29:44.743331Z",
     "iopub.status.busy": "2022-01-26T06:29:44.742385Z",
     "iopub.status.idle": "2022-01-26T06:29:44.784823Z",
     "shell.execute_reply": "2022-01-26T06:29:44.785182Z"
    },
    "id": "kxrl0lGdnpRz"
   },
   "outputs": [
    {
     "name": "stdout",
     "output_type": "stream",
     "text": [
      "1661 1661 1661\n"
     ]
    }
   ],
   "source": [
    "c=0\n",
    "c1=0\n",
    "c2=0\n",
    "for image, label in train_ds:\n",
    "  # print(\"Image shape: \", image.numpy().shape)\n",
    "  # print(\"Label: \", label.numpy())\n",
    "  if(label.numpy()==0):\n",
    "    c=c+1\n",
    "  elif (label.numpy()==1):\n",
    "    c1=c1+1\n",
    "  elif(label.numpy()==2):\n",
    "    c2=c2+1\n",
    "  # print(label.numpy())\n",
    "\n",
    "for image, label in test_ds:\n",
    "  # print(\"Image shape: \", image.numpy().shape)\n",
    "  # print(\"Label: \", label.numpy())\n",
    "\n",
    "  if(label.numpy()==0):\n",
    "    c=c+1\n",
    "  elif (label.numpy()==1):\n",
    "    c1=c1+1\n",
    "  elif(label.numpy()==2):\n",
    "    c2=c2+1\n",
    "  # print(label.numpy())\n",
    "\n",
    "for image, label in val_ds:\n",
    "  # print(\"Image shape: \", image.numpy().shape)\n",
    "  # print(\"Label: \", label.numpy())\n",
    "\n",
    "  if(label.numpy()==0):\n",
    "    c=c+1\n",
    "  elif (label.numpy()==1):\n",
    "    c1=c1+1\n",
    "  elif(label.numpy()==2):\n",
    "    c2=c2+1\n",
    "  # print(label.numpy())\n",
    "print(c,c1,c2)\n",
    "\n",
    "\n",
    "  # images.append(image)\n",
    "  # labels.append(label.numpy())"
   ]
  },
  {
   "cell_type": "markdown",
   "metadata": {
    "id": "vYGCgJuR_9Qp"
   },
   "source": [
    "### Configure dataset for performance"
   ]
  },
  {
   "cell_type": "markdown",
   "metadata": {
    "id": "wwZavzgsIytz"
   },
   "source": [
    "To train a model with this dataset you will want the data:\n",
    "\n",
    "* To be well shuffled.\n",
    "* To be batched.\n",
    "* Batches to be available as soon as possible.\n",
    "\n",
    "These features can be added using the `tf.data` API. For more details, visit the [Input Pipeline Performance](../../guide/performance/datasets.ipynb) guide."
   ]
  },
  {
   "cell_type": "code",
   "execution_count": 18,
   "metadata": {
    "execution": {
     "iopub.execute_input": "2022-01-26T06:29:44.790092Z",
     "iopub.status.busy": "2022-01-26T06:29:44.789534Z",
     "iopub.status.idle": "2022-01-26T06:29:44.794535Z",
     "shell.execute_reply": "2022-01-26T06:29:44.794888Z"
    },
    "id": "uZmZJx8ePw_5"
   },
   "outputs": [],
   "source": [
    "def configure_for_performance(ds):\n",
    "  ds = ds.cache()\n",
    "  ds = ds.shuffle(buffer_size=1000)\n",
    "  ds = ds.batch(BATCH_SIZE)\n",
    "  ds = ds.prefetch(buffer_size=AUTOTUNE)\n",
    "  return ds\n",
    "\n",
    "train_ds = configure_for_performance(train_ds)\n",
    "val_ds = configure_for_performance(val_ds)\n",
    "test_ds = configure_for_performance(test_ds)"
   ]
  },
  {
   "cell_type": "markdown",
   "metadata": {
    "id": "45P7OvzRWzOB"
   },
   "source": [
    "### Visualize the data\n",
    "\n",
    "You can visualize this dataset similarly to the one you created previously:"
   ]
  },
  {
   "cell_type": "code",
   "execution_count": 19,
   "metadata": {
    "execution": {
     "iopub.execute_input": "2022-01-26T06:29:44.799476Z",
     "iopub.status.busy": "2022-01-26T06:29:44.798931Z",
     "iopub.status.idle": "2022-01-26T06:29:45.664291Z",
     "shell.execute_reply": "2022-01-26T06:29:45.664666Z"
    },
    "id": "UN_Dnl72YNIj"
   },
   "outputs": [
    {
     "data": {
      "image/png": "[encoded data removed]",
      "text/plain": [
       "<Figure size 720x720 with 9 Axes>"
      ]
     },
     "metadata": {
      "needs_background": "light"
     },
     "output_type": "display_data"
    }
   ],
   "source": [
    "import matplotlib.pyplot as plt\n",
    "\n",
    "image_batch, label_batch = next(iter(train_ds))\n",
    "plt.figure(figsize=(10, 10))\n",
    "for i in range(9):\n",
    "  ax = plt.subplot(3, 3, i + 1)\n",
    "  plt.imshow(image_batch[i].numpy().astype(\"uint8\"))\n",
    "  label = label_batch[i]\n",
    "  plt.title(class_names[label])\n",
    "  plt.axis(\"off\")"
   ]
  },
  {
   "cell_type": "markdown",
   "metadata": {
    "id": "XqHjIr6cplwY"
   },
   "source": [
    "### Train a model\n",
    "\n",
    "For completeness, you will show how to train a simple model using the datasets you have just prepared.\n",
    "\n",
    "The [Sequential](https://www.tensorflow.org/guide/tf/sequential_model) model consists of three convolution blocks (`tf.tf.layers.Conv2D`) with a max pooling layer (`tf.tf.layers.MaxPooling2D`) in each of them. There's a fully-connected layer (`tf.tf.layers.Dense`) with 128 units on top of it that is activated by a ReLU activation function (`'relu'`). This model has not been tuned in any way—the goal is to show you the mechanics using the datasets you just created. To learn more about image classification, visit the [Image classification](../images/classification.ipynb) tutorial."
   ]
  },
  {
   "cell_type": "code",
   "execution_count": 51,
   "metadata": {},
   "outputs": [],
   "source": [
    "import tensorflow as tf\n",
    "import matplotlib.pyplot as plt\n",
    "from tensorflow import keras\n",
    "\n",
    "from tensorflow.keras import Model\n",
    "from tensorflow.keras.models import Sequential\n",
    "from tensorflow.keras.losses import categorical_crossentropy\n",
    "from tensorflow.keras.layers import Dense, Flatten, Conv2D, AveragePooling2D, MaxPooling2D, BatchNormalization, Concatenate, Dropout, Activation, Input, ZeroPadding2D, LayerNormalization\n",
    "from tensorflow.keras.optimizers import Adam\n",
    "#from tensorflow.keras.metrics import Accuracy, Recall, Precision\n",
    "\n",
    "def recall(y_true, y_pred):\n",
    "    y_true = keras.backend.ones_like(y_true) \n",
    "    true_positives = keras.backend.sum(keras.backend.round(keras.backend.clip(y_true * y_pred, 0, 1)))\n",
    "    all_positives = keras.backend.sum(keras.backend.round(keras.backend.clip(y_true, 0, 1)))\n",
    "        \n",
    "    recall = true_positives / (all_positives + keras.backend.epsilon())\n",
    "    return recall\n",
    "\n",
    "def precision(y_true, y_pred):\n",
    "    y_true = keras.backend.ones_like(y_true) \n",
    "    true_positives = keras.backend.sum(keras.backend.round(keras.backend.clip(y_true * y_pred, 0, 1)))\n",
    "    \n",
    "    predicted_positives = keras.backend.sum(keras.backend.round(keras.backend.clip(y_pred, 0, 1)))\n",
    "    precision = true_positives / (predicted_positives + keras.backend.epsilon())\n",
    "    return precision\n",
    "\n",
    "def f1_score(y_true, y_pred):\n",
    "    prec = precision(y_true, y_pred)\n",
    "    rec = recall(y_true, y_pred)\n",
    "    return 2*((prec*rec)/(prec+rec+keras.backend.epsilon()))\n",
    "\n",
    "\n",
    "class FireModule(keras.layers.Layer):\n",
    "    def __init__(self, s1x1, e1x1, e3x3):\n",
    "        super(FireModule, self).__init__()\n",
    "        self.s1x1 = Conv2D(s1x1, kernel_size=(1, 1), padding='same', kernel_initializer='glorot_normal', activation='relu')\n",
    "        self.e1x1 = Conv2D(e1x1, kernel_size=(1, 1), padding='same', kernel_initializer='glorot_normal', activation='relu')\n",
    "        self.e3x3 = Conv2D(e3x3, kernel_size=(3, 3), padding='same', kernel_initializer='glorot_normal', activation='relu')\n",
    "        self.concat = Concatenate(axis=3)\n",
    "    def get_config(self):\n",
    "        base_config = super(FireModule, self).get_config()\n",
    "        #base_config['output_dim'] = self.output_dim\n",
    "        return base_config\n",
    "\n",
    "    def call(self, inputs):\n",
    "        s1x1 = self.s1x1(inputs)\n",
    "        e1x1 = self.e1x1(s1x1)\n",
    "        e3x3 = self.e3x3(s1x1)\n",
    "        concat = self.concat([e1x1, e3x3])\n",
    "        return concat\n",
    "\n",
    "# def FireModule(s1, e1, e3, input):\n",
    "#     squeeze = Conv2D(s1, kernel_size=(1, 1), padding='same', kernel_initializer='glorot_normal', activation='relu')(input)\n",
    "#     expand1 = Conv2D(e1, kernel_size=(1, 1), padding='same', kernel_initializer='glorot_normal', activation='relu')(squeeze)\n",
    "#     expand3 = Conv2D(e3, kernel_size=(3, 3), padding='same', kernel_initializer='glorot_normal', activation='relu')(squeeze)\n",
    "#     concat = Concatenate(axis=1)([expand1, expand3])\n",
    "#     return concat\n",
    "\n",
    "def SqueezeNetV1_0(input_shape, nb_classes):\n",
    "    \n",
    "    \n",
    "    input = Input(input_shape)\n",
    "    padded = ZeroPadding2D((2, 2))(input)\n",
    "    conv1 = Conv2D(96, kernel_size=(7, 7), strides=(2,2),padding='valid', kernel_initializer='glorot_normal', activation='relu')(padded)\n",
    "    maxpool1 = MaxPooling2D(pool_size=(3, 3), strides=2)(conv1)\n",
    "    fire2 = FireModule(16, 64, 64)(maxpool1)\n",
    "    fire3 = FireModule(16, 64, 64)(fire2)\n",
    "    fire4 = FireModule(32, 128, 128)(fire3)\n",
    "    maxpool4 = MaxPooling2D(pool_size=(3, 3), strides=2)(fire4)\n",
    "    fire5 = FireModule(32, 128, 128)(maxpool4)\n",
    "    fire6 = FireModule(48, 192, 192)(fire5)\n",
    "    fire7 = FireModule(48, 192, 192)(fire6)\n",
    "    fire8 = FireModule(64, 256, 256)(fire7)\n",
    "    maxpool8 = MaxPooling2D(pool_size=(3, 3), strides=2)(fire8)\n",
    "    fire9 = FireModule(64, 256, 256)(maxpool8)\n",
    "    conv10 = Conv2D(1000, kernel_size=(1, 1), strides=1, padding='same', kernel_initializer='glorot_normal', activation='relu')(fire9)\n",
    "    avgpool10 = AveragePooling2D(conv10.get_shape()[1:3], strides=1)(conv10)\n",
    "    #reshaped = tf.squeeze(avgpool10, [1, 2])\n",
    "    flat = Flatten()(avgpool10)\n",
    "    # output = Activation('softmax')(flat)\n",
    "    output = Dense(nb_classes, activation='softmax', kernel_initializer='he_normal')(flat)\n",
    "\n",
    "\n",
    "    model = Model(input, output, name='SqueezeNetV1_0x' + str(IMG_SIZE))\n",
    "    model.compile(optimizer=Adam(learning_rate=0.001),\n",
    "                loss=tf.losses.SparseCategoricalCrossentropy(from_logits=True),\n",
    "                metrics=['accuracy'])\n",
    "    return model\n",
    "\n",
    "def SqueezeNetV1_1(input_shape, nb_classes):\n",
    "    input = Input(input_shape)\n",
    "    conv1 = Conv2D(64, kernel_size=(3, 3), strides=(2,2),padding='valid')(input)\n",
    "    maxpool1 = MaxPooling2D(pool_size=(3, 3), strides=2)(conv1)\n",
    "    fire2 = FireModule(16, 64, 64)(maxpool1)\n",
    "    fire3 = FireModule(16, 64, 64)(fire2)\n",
    "    maxpool3 = MaxPooling2D(pool_size=(3, 3), strides=2)(fire3)\n",
    "    fire4 = FireModule(32, 128, 128)(maxpool3)\n",
    "    fire5 = FireModule(32, 128, 128)(fire4)\n",
    "    maxpool5 = MaxPooling2D(pool_size=(3, 3), strides=2)(fire5)\n",
    "    fire6 = FireModule(48, 192, 192)(maxpool5)\n",
    "    fire7 = FireModule(48, 192, 192)(fire6)\n",
    "    fire8 = FireModule(64, 256, 256)(fire7)\n",
    "    fire9 = FireModule(64, 256, 256)(fire8)\n",
    "    dropout9 = Dropout(0.8)(fire9)\n",
    "    conv10 = Conv2D(nb_classes, kernel_size=(1, 1), strides=1, padding='same', activation=None)(dropout9)\n",
    "    avgpool10 = AveragePooling2D(conv10.get_shape()[1:3])(conv10)\n",
    "    #reshaped10 = Flatten()(avgpool10)\n",
    "    output = Flatten()(avgpool10)\n",
    "    #output = Activation('softmax')(reshaped10)\n",
    "    #output = Dense(nb_classes, activation='softmax', kernel_initializer='he_normal')(reshaped10)\n",
    "\n",
    "    model = Model(input, output, name='SqueezeNetV1_1x' + str(IMG_SIZE))\n",
    "    model.compile(optimizer='adam',\n",
    "                loss=tf.losses.SparseCategoricalCrossentropy(from_logits=True),\n",
    "                metrics=['accuracy', precision, recall, f1_score])\n",
    "    return model\n",
    "\n",
    "\n",
    "def FLSCNN(input_shape, nb_classes):\n",
    "    input = Input(input_shape)\n",
    "\n",
    "    conv1 = Conv2D(8, kernel_size=(5, 5),activation='relu')(input)\n",
    "    bn1 = LayerNormalization()(conv1)\n",
    "    \n",
    "    maxpool1 = MaxPooling2D(pool_size=(4, 4), strides=2, padding='same')(bn1)\n",
    "    \n",
    "    conv2 = Conv2D(16, kernel_size=(5, 5), activation='relu')(maxpool1)\n",
    "    bn2 = LayerNormalization()(conv2)\n",
    "\n",
    "    maxpool2 = MaxPooling2D(pool_size=(4, 4), strides=2, padding='same')(bn2)\n",
    "    \n",
    "    conv3 = Conv2D(16, kernel_size=(5, 5), activation='relu')(maxpool2)\n",
    "    bn3 = LayerNormalization()(conv3)\n",
    "\n",
    "    maxpool3 = MaxPooling2D(pool_size=(3, 3), strides=2)(bn3)\n",
    "\n",
    "    conv4 = Conv2D(32, kernel_size=(5, 5), activation='relu')(maxpool3)\n",
    "    bn4 = LayerNormalization()(conv4)\n",
    "\n",
    "    maxpool4 = MaxPooling2D(pool_size=(5, 5), strides=2, padding='same')(bn4)\n",
    "\n",
    "    conv5 = Conv2D(32, kernel_size=(1, 1), activation='relu', padding='same')(maxpool4)\n",
    "    bn5 = LayerNormalization()(conv5)\n",
    "\n",
    "    maxpool5 = MaxPooling2D(pool_size=(3, 3), strides=2, padding='valid')(bn5)\n",
    "\n",
    "    #maxpool6 = MaxPooling2D(pool_size=(3, 3), strides=1, padding='valid')(maxpool5)\n",
    "\n",
    "    fc1 = Dense(32, activation='tanh',)(maxpool5)\n",
    "    fc2 = Dense(4, activation='tanh',)(fc1)\n",
    "    fc3 = Dense(nb_classes, activation='softmax',)(fc2)\n",
    "\n",
    "    output = Flatten()(fc3)\n",
    "\n",
    "    model = Model(input, output, name='FLSCNNx' + str(IMG_SIZE))\n",
    "    model.compile(optimizer=Adam(learning_rate=0.09),\n",
    "                loss=tf.losses.SparseCategoricalCrossentropy(from_logits=True),\n",
    "                metrics=['accuracy'])\n",
    "    return model"
   ]
  },
  {
   "cell_type": "markdown",
   "metadata": {
    "id": "d83f5aa7f3fb"
   },
   "source": [
    "Choose the `tf.keras.optimizers.Adam` optimizer and `tf.keras.losses.SparseCategoricalCrossentropy` loss function. To view training and validation accuracy for each training epoch, pass the `metrics` argument to `Model.compile`."
   ]
  },
  {
   "cell_type": "code",
   "execution_count": 52,
   "metadata": {},
   "outputs": [],
   "source": [
    "for images, labels in train_ds.take(1):\n",
    "    pass\n"
   ]
  },
  {
   "cell_type": "code",
   "execution_count": 53,
   "metadata": {
    "execution": {
     "iopub.execute_input": "2022-01-26T06:29:38.121144Z",
     "iopub.status.busy": "2022-01-26T06:29:38.120510Z",
     "iopub.status.idle": "2022-01-26T06:29:38.126328Z",
     "shell.execute_reply": "2022-01-26T06:29:38.126669Z"
    },
    "id": "t_BlmsnmsEr4"
   },
   "outputs": [
    {
     "name": "stdout",
     "output_type": "stream",
     "text": [
      "Model: \"SqueezeNetV1_1x40\"\n",
      "_________________________________________________________________\n",
      "Layer (type)                 Output Shape              Param #   \n",
      "=================================================================\n",
      "input_6 (InputLayer)         [(None, 40, 40, 3)]       0         \n",
      "_________________________________________________________________\n",
      "conv2d_130 (Conv2D)          (None, 19, 19, 64)        1792      \n",
      "_________________________________________________________________\n",
      "max_pooling2d_15 (MaxPooling (None, 9, 9, 64)          0         \n",
      "_________________________________________________________________\n",
      "fire_module_40 (FireModule)  (None, 9, 9, 128)         11408     \n",
      "_________________________________________________________________\n",
      "fire_module_41 (FireModule)  (None, 9, 9, 128)         12432     \n",
      "_________________________________________________________________\n",
      "max_pooling2d_16 (MaxPooling (None, 4, 4, 128)         0         \n",
      "_________________________________________________________________\n",
      "fire_module_42 (FireModule)  (None, 4, 4, 256)         45344     \n",
      "_________________________________________________________________\n",
      "fire_module_43 (FireModule)  (None, 4, 4, 256)         49440     \n",
      "_________________________________________________________________\n",
      "max_pooling2d_17 (MaxPooling (None, 1, 1, 256)         0         \n",
      "_________________________________________________________________\n",
      "fire_module_44 (FireModule)  (None, 1, 1, 384)         104880    \n",
      "_________________________________________________________________\n",
      "fire_module_45 (FireModule)  (None, 1, 1, 384)         111024    \n",
      "_________________________________________________________________\n",
      "fire_module_46 (FireModule)  (None, 1, 1, 512)         188992    \n",
      "_________________________________________________________________\n",
      "fire_module_47 (FireModule)  (None, 1, 1, 512)         197184    \n",
      "_________________________________________________________________\n",
      "dropout_5 (Dropout)          (None, 1, 1, 512)         0         \n",
      "_________________________________________________________________\n",
      "conv2d_155 (Conv2D)          (None, 1, 1, 3)           1539      \n",
      "_________________________________________________________________\n",
      "average_pooling2d_5 (Average (None, 1, 1, 3)           0         \n",
      "_________________________________________________________________\n",
      "flatten_5 (Flatten)          (None, 3)                 0         \n",
      "=================================================================\n",
      "Total params: 724,035\n",
      "Trainable params: 724,035\n",
      "Non-trainable params: 0\n",
      "_________________________________________________________________\n"
     ]
    }
   ],
   "source": [
    "model = SqueezeNetV1_1(images[0].numpy().shape, NUM_CLASSES)\n",
    "model.summary()"
   ]
  },
  {
   "cell_type": "markdown",
   "metadata": {
    "id": "ffwd44ldNMOE"
   },
   "source": [
    "Note: You will only train for a few epochs so this tutorial runs quickly. "
   ]
  },
  {
   "cell_type": "code",
   "execution_count": 54,
   "metadata": {
    "collapsed": false
   },
   "outputs": [],
   "source": [
    "import datetime\n",
    "# Place the logs in a timestamped subdirectory\n",
    "# This allows to easy select different training runs\n",
    "# In order not to overwrite some data, it is useful to have a name with a timestamp\n",
    "log_dir=\"logs/fit/\" + datetime.datetime.now().strftime(\"%Y%m%d-%H%M%S\")\n",
    "# Specify the callback object\n",
    "tensorboard_callback = tf.keras.callbacks.TensorBoard(log_dir=log_dir, histogram_freq=1, profile_batch = (50,80))\n",
    "\n",
    "# tf.keras.callback.TensorBoard ensures that logs are created and stored\n",
    "# We need to pass callback object to the fit method\n",
    "# The way to do this is by passing the list of callback objects, which is in our case just one"
   ]
  },
  {
   "cell_type": "code",
   "execution_count": 55,
   "metadata": {},
   "outputs": [],
   "source": [
    "checkpoint_path = \"training_1/cp.ckpt\"\n",
    "checkpoint_dir = os.path.dirname(checkpoint_path)\n",
    "\n",
    "# Create a callback that saves the model's weights\n",
    "cp_callback = tf.keras.callbacks.ModelCheckpoint(filepath=checkpoint_path,\n",
    "                                                 save_weights_only=True,\n",
    "                                                 verbose=1)\n"
   ]
  },
  {
   "cell_type": "code",
   "execution_count": 56,
   "metadata": {
    "execution": {
     "iopub.execute_input": "2022-01-26T06:29:38.130807Z",
     "iopub.status.busy": "2022-01-26T06:29:38.130262Z",
     "iopub.status.idle": "2022-01-26T06:29:44.478265Z",
     "shell.execute_reply": "2022-01-26T06:29:44.478658Z"
    },
    "id": "S08ZKKODsnGW"
   },
   "outputs": [
    {
     "name": "stdout",
     "output_type": "stream",
     "text": [
      "Epoch 1/40\n",
      "TPPPPPPP:  Tensor(\"Cast_8:0\", shape=(), dtype=int32) PPPPPPP:  Tensor(\"Sum_7:0\", shape=(), dtype=float32)\n",
      "TPPPPPPP:  Tensor(\"Cast_11:0\", shape=(), dtype=int32) PPPPPPP:  Tensor(\"Sum_12:0\", shape=(), dtype=float32)\n",
      "TPPPPPPP:  Tensor(\"Cast_8:0\", shape=(), dtype=int32) PPPPPPP:  Tensor(\"Sum_7:0\", shape=(), dtype=float32)\n",
      "TPPPPPPP:  Tensor(\"Cast_11:0\", shape=(), dtype=int32) PPPPPPP:  Tensor(\"Sum_12:0\", shape=(), dtype=float32)\n",
      "68/68 [==============================] - ETA: 0s - loss: 0.8743 - accuracy: 0.5483 - precision: 0.9265 - recall: 0.8028 - f1_score: 0.7687TPPPPPPP:  Tensor(\"Cast_8:0\", shape=(), dtype=int32) PPPPPPP:  Tensor(\"Sum_7:0\", shape=(), dtype=float32)\n",
      "TPPPPPPP:  Tensor(\"Cast_11:0\", shape=(), dtype=int32) PPPPPPP:  Tensor(\"Sum_12:0\", shape=(), dtype=float32)\n",
      "68/68 [==============================] - 5s 31ms/step - loss: 0.8743 - accuracy: 0.5483 - precision: 0.9265 - recall: 0.8028 - f1_score: 0.7687 - val_loss: 0.6756 - val_accuracy: 0.6416 - val_precision: 1.0000 - val_recall: 1.7188 - val_f1_score: 1.2626\n",
      "\n",
      "Epoch 00001: saving model to training_1\\cp.ckpt\n",
      "Epoch 2/40\n",
      "68/68 [==============================] - 7s 98ms/step - loss: 0.6869 - accuracy: 0.6356 - precision: 1.0000 - recall: 1.5610 - f1_score: 1.2175 - val_loss: 0.6292 - val_accuracy: 0.6446 - val_precision: 1.0000 - val_recall: 1.5200 - val_f1_score: 1.2053\n",
      "\n",
      "Epoch 00002: saving model to training_1\\cp.ckpt\n",
      "Epoch 3/40\n",
      "68/68 [==============================] - 1s 17ms/step - loss: 0.6627 - accuracy: 0.6522 - precision: 1.0000 - recall: 1.4634 - f1_score: 1.1826 - val_loss: 0.6035 - val_accuracy: 0.7380 - val_precision: 1.0000 - val_recall: 1.7891 - val_f1_score: 1.2828\n",
      "\n",
      "Epoch 00003: saving model to training_1\\cp.ckpt\n",
      "Epoch 4/40\n",
      "68/68 [==============================] - 1s 16ms/step - loss: 0.5722 - accuracy: 0.7504 - precision: 1.0000 - recall: 1.6215 - f1_score: 1.2350 - val_loss: 0.5593 - val_accuracy: 0.6747 - val_precision: 1.0000 - val_recall: 1.9236 - val_f1_score: 1.3159\n",
      "\n",
      "Epoch 00004: saving model to training_1\\cp.ckpt\n",
      "Epoch 5/40\n",
      "68/68 [==============================] - 1s 18ms/step - loss: 0.5332 - accuracy: 0.7534 - precision: 1.0000 - recall: 1.6449 - f1_score: 1.2417 - val_loss: 0.4967 - val_accuracy: 0.7831 - val_precision: 1.0000 - val_recall: 1.8316 - val_f1_score: 1.2935\n",
      "\n",
      "Epoch 00005: saving model to training_1\\cp.ckpt\n",
      "Epoch 6/40\n",
      "68/68 [==============================] - 1s 18ms/step - loss: 0.4515 - accuracy: 0.8074 - precision: 1.0000 - recall: 1.6371 - f1_score: 1.2407 - val_loss: 0.3756 - val_accuracy: 0.8614 - val_precision: 1.0000 - val_recall: 1.7708 - val_f1_score: 1.2780\n",
      "\n",
      "Epoch 00006: saving model to training_1\\cp.ckpt\n",
      "Epoch 7/40\n",
      "68/68 [==============================] - 1s 17ms/step - loss: 0.4329 - accuracy: 0.8169 - precision: 1.0000 - recall: 1.6125 - f1_score: 1.2337 - val_loss: 0.3927 - val_accuracy: 0.8584 - val_precision: 1.0000 - val_recall: 1.7891 - val_f1_score: 1.2828\n",
      "\n",
      "Epoch 00007: saving model to training_1\\cp.ckpt\n",
      "Epoch 8/40\n",
      "68/68 [==============================] - 1s 17ms/step - loss: 0.4117 - accuracy: 0.8219 - precision: 1.0000 - recall: 1.6319 - f1_score: 1.2393 - val_loss: 0.3615 - val_accuracy: 0.8614 - val_precision: 1.0000 - val_recall: 1.7622 - val_f1_score: 1.2757\n",
      "\n",
      "Epoch 00008: saving model to training_1\\cp.ckpt\n",
      "Epoch 9/40\n",
      "68/68 [==============================] - 1s 20ms/step - loss: 0.3905 - accuracy: 0.8428 - precision: 1.0000 - recall: 1.6096 - f1_score: 1.2329 - val_loss: 0.3804 - val_accuracy: 0.8554 - val_precision: 1.0000 - val_recall: 1.7040 - val_f1_score: 1.2600\n",
      "\n",
      "Epoch 00009: saving model to training_1\\cp.ckpt\n",
      "Epoch 10/40\n",
      "68/68 [==============================] - 1s 16ms/step - loss: 0.3838 - accuracy: 0.8416 - precision: 1.0000 - recall: 1.6125 - f1_score: 1.2335 - val_loss: 0.3266 - val_accuracy: 0.8735 - val_precision: 1.0000 - val_recall: 1.7231 - val_f1_score: 1.2654\n",
      "\n",
      "Epoch 00010: saving model to training_1\\cp.ckpt\n",
      "Epoch 11/40\n",
      "68/68 [==============================] - 1s 15ms/step - loss: 0.3392 - accuracy: 0.8643 - precision: 1.0000 - recall: 1.6244 - f1_score: 1.2371 - val_loss: 0.3222 - val_accuracy: 0.8735 - val_precision: 1.0000 - val_recall: 1.7083 - val_f1_score: 1.2613\n",
      "\n",
      "Epoch 00011: saving model to training_1\\cp.ckpt\n",
      "Epoch 12/40\n",
      "68/68 [==============================] - 1s 16ms/step - loss: 0.3239 - accuracy: 0.8687 - precision: 1.0000 - recall: 1.5823 - f1_score: 1.2249 - val_loss: 0.3714 - val_accuracy: 0.8645 - val_precision: 1.0000 - val_recall: 1.7214 - val_f1_score: 1.2649\n",
      "\n",
      "Epoch 00012: saving model to training_1\\cp.ckpt\n",
      "Epoch 13/40\n",
      "68/68 [==============================] - 1s 18ms/step - loss: 0.3340 - accuracy: 0.8629 - precision: 1.0000 - recall: 1.6136 - f1_score: 1.2341 - val_loss: 0.2972 - val_accuracy: 0.8825 - val_precision: 1.0000 - val_recall: 1.6780 - val_f1_score: 1.2528\n",
      "\n",
      "Epoch 00013: saving model to training_1\\cp.ckpt\n",
      "Epoch 14/40\n",
      "68/68 [==============================] - 1s 17ms/step - loss: 0.2730 - accuracy: 0.8944 - precision: 1.0000 - recall: 1.5538 - f1_score: 1.2164 - val_loss: 0.3435 - val_accuracy: 0.8584 - val_precision: 1.0000 - val_recall: 1.7405 - val_f1_score: 1.2699\n",
      "\n",
      "Epoch 00014: saving model to training_1\\cp.ckpt\n",
      "Epoch 15/40\n",
      "68/68 [==============================] - 1s 16ms/step - loss: 0.2792 - accuracy: 0.8921 - precision: 1.0000 - recall: 1.6080 - f1_score: 1.2326 - val_loss: 0.3571 - val_accuracy: 0.8675 - val_precision: 1.0000 - val_recall: 1.6858 - val_f1_score: 1.2551\n",
      "\n",
      "Epoch 00015: saving model to training_1\\cp.ckpt\n",
      "Epoch 16/40\n",
      "68/68 [==============================] - 1s 16ms/step - loss: 0.2537 - accuracy: 0.9011 - precision: 1.0000 - recall: 1.5952 - f1_score: 1.2288 - val_loss: 0.3079 - val_accuracy: 0.9006 - val_precision: 1.0000 - val_recall: 1.7335 - val_f1_score: 1.2681\n",
      "\n",
      "Epoch 00016: saving model to training_1\\cp.ckpt\n",
      "Epoch 17/40\n",
      "68/68 [==============================] - 1s 17ms/step - loss: 0.2525 - accuracy: 0.8995 - precision: 1.0000 - recall: 1.5979 - f1_score: 1.2297 - val_loss: 0.2855 - val_accuracy: 0.9066 - val_precision: 1.0000 - val_recall: 1.7274 - val_f1_score: 1.2663\n",
      "\n",
      "Epoch 00017: saving model to training_1\\cp.ckpt\n",
      "Epoch 18/40\n",
      "68/68 [==============================] - 1s 19ms/step - loss: 0.2058 - accuracy: 0.9197 - precision: 1.0000 - recall: 1.6119 - f1_score: 1.2339 - val_loss: 0.2768 - val_accuracy: 0.9066 - val_precision: 1.0000 - val_recall: 1.6970 - val_f1_score: 1.2583\n",
      "\n",
      "Epoch 00018: saving model to training_1\\cp.ckpt\n",
      "Epoch 19/40\n",
      "68/68 [==============================] - 1s 19ms/step - loss: 0.2355 - accuracy: 0.9058 - precision: 1.0000 - recall: 1.5975 - f1_score: 1.2295 - val_loss: 0.3451 - val_accuracy: 0.8825 - val_precision: 1.0000 - val_recall: 1.7248 - val_f1_score: 1.2654\n",
      "\n",
      "Epoch 00019: saving model to training_1\\cp.ckpt\n",
      "Epoch 20/40\n",
      "68/68 [==============================] - 1s 18ms/step - loss: 0.1962 - accuracy: 0.9257 - precision: 1.0000 - recall: 1.5786 - f1_score: 1.2239 - val_loss: 0.3115 - val_accuracy: 0.8795 - val_precision: 1.0000 - val_recall: 1.6849 - val_f1_score: 1.2548\n",
      "\n",
      "Epoch 00020: saving model to training_1\\cp.ckpt\n",
      "Epoch 21/40\n",
      "68/68 [==============================] - 1s 18ms/step - loss: 0.1780 - accuracy: 0.9305 - precision: 1.0000 - recall: 1.5701 - f1_score: 1.2213 - val_loss: 0.3620 - val_accuracy: 0.8976 - val_precision: 1.0000 - val_recall: 1.6918 - val_f1_score: 1.2567\n",
      "\n",
      "Epoch 00021: saving model to training_1\\cp.ckpt\n",
      "Epoch 22/40\n",
      "68/68 [==============================] - 1s 18ms/step - loss: 0.1740 - accuracy: 0.9340 - precision: 1.0000 - recall: 1.5779 - f1_score: 1.2237 - val_loss: 0.2356 - val_accuracy: 0.9247 - val_precision: 1.0000 - val_recall: 1.6979 - val_f1_score: 1.2578\n",
      "\n",
      "Epoch 00022: saving model to training_1\\cp.ckpt\n",
      "Epoch 23/40\n",
      "68/68 [==============================] - 1s 18ms/step - loss: 0.1733 - accuracy: 0.9386 - precision: 1.0000 - recall: 1.5986 - f1_score: 1.2298 - val_loss: 0.2726 - val_accuracy: 0.9187 - val_precision: 1.0000 - val_recall: 1.6901 - val_f1_score: 1.2564\n",
      "\n",
      "Epoch 00023: saving model to training_1\\cp.ckpt\n",
      "Epoch 24/40\n",
      "68/68 [==============================] - 1s 19ms/step - loss: 0.1651 - accuracy: 0.9398 - precision: 1.0000 - recall: 1.5678 - f1_score: 1.2206 - val_loss: 0.3054 - val_accuracy: 0.9217 - val_precision: 1.0000 - val_recall: 1.6866 - val_f1_score: 1.2554\n",
      "\n",
      "Epoch 00024: saving model to training_1\\cp.ckpt\n",
      "Epoch 25/40\n",
      "68/68 [==============================] - 2s 23ms/step - loss: 0.2047 - accuracy: 0.9178 - precision: 1.0000 - recall: 1.5855 - f1_score: 1.2260 - val_loss: 0.2970 - val_accuracy: 0.8886 - val_precision: 1.0000 - val_recall: 1.7214 - val_f1_score: 1.2647\n",
      "\n",
      "Epoch 00025: saving model to training_1\\cp.ckpt\n",
      "Epoch 26/40\n",
      "68/68 [==============================] - 1s 17ms/step - loss: 0.2177 - accuracy: 0.9176 - precision: 1.0000 - recall: 1.5887 - f1_score: 1.2268 - val_loss: 0.2969 - val_accuracy: 0.8886 - val_precision: 1.0000 - val_recall: 1.7188 - val_f1_score: 1.2641\n",
      "\n",
      "Epoch 00026: saving model to training_1\\cp.ckpt\n",
      "Epoch 27/40\n",
      "68/68 [==============================] - 1s 17ms/step - loss: 0.1632 - accuracy: 0.9377 - precision: 1.0000 - recall: 1.5042 - f1_score: 1.2007 - val_loss: 0.5162 - val_accuracy: 0.8343 - val_precision: 1.0000 - val_recall: 1.6024 - val_f1_score: 1.2299\n",
      "\n",
      "Epoch 00027: saving model to training_1\\cp.ckpt\n",
      "Epoch 28/40\n",
      "68/68 [==============================] - 1s 17ms/step - loss: 0.2182 - accuracy: 0.9162 - precision: 1.0000 - recall: 1.4365 - f1_score: 1.1784 - val_loss: 0.3024 - val_accuracy: 0.9006 - val_precision: 1.0000 - val_recall: 1.7049 - val_f1_score: 1.2600\n",
      "\n",
      "Epoch 00028: saving model to training_1\\cp.ckpt\n",
      "Epoch 29/40\n",
      "68/68 [==============================] - 1s 18ms/step - loss: 0.1545 - accuracy: 0.9414 - precision: 1.0000 - recall: 1.4469 - f1_score: 1.1823 - val_loss: 0.3893 - val_accuracy: 0.8735 - val_precision: 1.0000 - val_recall: 1.5156 - val_f1_score: 1.2044\n",
      "\n",
      "Epoch 00029: saving model to training_1\\cp.ckpt\n",
      "Epoch 30/40\n",
      "68/68 [==============================] - 1s 16ms/step - loss: 0.1482 - accuracy: 0.9479 - precision: 1.0000 - recall: 1.4122 - f1_score: 1.1702 - val_loss: 0.3089 - val_accuracy: 0.9066 - val_precision: 1.0000 - val_recall: 1.6259 - val_f1_score: 1.2377\n",
      "\n",
      "Epoch 00030: saving model to training_1\\cp.ckpt\n",
      "Epoch 31/40\n",
      "68/68 [==============================] - 1s 16ms/step - loss: 0.1513 - accuracy: 0.9444 - precision: 1.0000 - recall: 1.4009 - f1_score: 1.1664 - val_loss: 0.3774 - val_accuracy: 0.8735 - val_precision: 1.0000 - val_recall: 1.6771 - val_f1_score: 1.2526\n",
      "\n",
      "Epoch 00031: saving model to training_1\\cp.ckpt\n",
      "Epoch 32/40\n",
      "68/68 [==============================] - 1s 18ms/step - loss: 0.1111 - accuracy: 0.9592 - precision: 1.0000 - recall: 1.4468 - f1_score: 1.1821 - val_loss: 0.3318 - val_accuracy: 0.9187 - val_precision: 1.0000 - val_recall: 1.6927 - val_f1_score: 1.2571\n",
      "\n",
      "Epoch 00032: saving model to training_1\\cp.ckpt\n",
      "Epoch 33/40\n",
      "68/68 [==============================] - 2s 24ms/step - loss: 0.0900 - accuracy: 0.9701 - precision: 1.0000 - recall: 1.4352 - f1_score: 1.1782 - val_loss: 0.3355 - val_accuracy: 0.9157 - val_precision: 1.0000 - val_recall: 1.6944 - val_f1_score: 1.2577\n",
      "\n",
      "Epoch 00033: saving model to training_1\\cp.ckpt\n",
      "Epoch 34/40\n",
      "68/68 [==============================] - 2s 23ms/step - loss: 0.0905 - accuracy: 0.9694 - precision: 1.0000 - recall: 1.4232 - f1_score: 1.1742 - val_loss: 0.3293 - val_accuracy: 0.9247 - val_precision: 1.0000 - val_recall: 1.6406 - val_f1_score: 1.2421\n",
      "\n",
      "Epoch 00034: saving model to training_1\\cp.ckpt\n",
      "Epoch 35/40\n",
      "68/68 [==============================] - 1s 19ms/step - loss: 0.0809 - accuracy: 0.9718 - precision: 1.0000 - recall: 1.4021 - f1_score: 1.1667 - val_loss: 0.2550 - val_accuracy: 0.9096 - val_precision: 1.0000 - val_recall: 1.6120 - val_f1_score: 1.2334\n",
      "\n",
      "Epoch 00035: saving model to training_1\\cp.ckpt\n",
      "Epoch 36/40\n",
      "68/68 [==============================] - 1s 19ms/step - loss: 0.0820 - accuracy: 0.9718 - precision: 1.0000 - recall: 1.4205 - f1_score: 1.1732 - val_loss: 0.3172 - val_accuracy: 0.9217 - val_precision: 1.0000 - val_recall: 1.6615 - val_f1_score: 1.2477\n",
      "\n",
      "Epoch 00036: saving model to training_1\\cp.ckpt\n",
      "Epoch 37/40\n",
      "68/68 [==============================] - 1s 17ms/step - loss: 0.1142 - accuracy: 0.9625 - precision: 1.0000 - recall: 1.4471 - f1_score: 1.1822 - val_loss: 0.3825 - val_accuracy: 0.8916 - val_precision: 1.0000 - val_recall: 1.7266 - val_f1_score: 1.2664\n",
      "\n",
      "Epoch 00037: saving model to training_1\\cp.ckpt\n",
      "Epoch 38/40\n",
      "68/68 [==============================] - 1s 16ms/step - loss: 0.1028 - accuracy: 0.9641 - precision: 1.0000 - recall: 1.4356 - f1_score: 1.1784 - val_loss: 0.3423 - val_accuracy: 0.8976 - val_precision: 1.0000 - val_recall: 1.6701 - val_f1_score: 1.2507\n",
      "\n",
      "Epoch 00038: saving model to training_1\\cp.ckpt\n",
      "Epoch 39/40\n",
      "68/68 [==============================] - 1s 17ms/step - loss: 0.0796 - accuracy: 0.9729 - precision: 1.0000 - recall: 1.4310 - f1_score: 1.1768 - val_loss: 0.3313 - val_accuracy: 0.9307 - val_precision: 1.0000 - val_recall: 1.6997 - val_f1_score: 1.2577\n",
      "\n",
      "Epoch 00039: saving model to training_1\\cp.ckpt\n",
      "Epoch 40/40\n",
      "68/68 [==============================] - 1s 16ms/step - loss: 0.1075 - accuracy: 0.9599 - precision: 1.0000 - recall: 1.4278 - f1_score: 1.1756 - val_loss: 0.3103 - val_accuracy: 0.9307 - val_precision: 1.0000 - val_recall: 1.6866 - val_f1_score: 1.2554\n",
      "\n",
      "Epoch 00040: saving model to training_1\\cp.ckpt\n"
     ]
    },
    {
     "name": "stderr",
     "output_type": "stream",
     "text": [
      "WARNING:absl:Found untraced functions such as conv2d_131_layer_call_fn, conv2d_131_layer_call_and_return_conditional_losses, conv2d_132_layer_call_fn, conv2d_132_layer_call_and_return_conditional_losses, conv2d_133_layer_call_fn while saving (showing 5 of 160). These functions will not be directly callable after loading.\n"
     ]
    },
    {
     "name": "stdout",
     "output_type": "stream",
     "text": [
      "INFO:tensorflow:Assets written to: models/SqueezeNetV1_1x40\\assets\n"
     ]
    },
    {
     "name": "stderr",
     "output_type": "stream",
     "text": [
      "INFO:tensorflow:Assets written to: models/SqueezeNetV1_1x40\\assets\n"
     ]
    }
   ],
   "source": [
    "from shutil import rmtree\n",
    "\n",
    "rmtree('./logs')\n",
    "model.fit(\n",
    "  train_ds,\n",
    "  epochs=EPOCHS,\n",
    "  validation_data=val_ds,\n",
    "  callbacks=[tensorboard_callback, cp_callback]\n",
    ")\n",
    "model.save('models/'+model.name)\n"
   ]
  },
  {
   "cell_type": "code",
   "execution_count": null,
   "metadata": {},
   "outputs": [],
   "source": [
    "from tensorflow.keras.models import load_model\n",
    "\n",
    "model = load_model('models/'+model.name, custom_objects={'recall': recall, 'precision': precision,'f1_score':f1_score})\n"
   ]
  },
  {
   "cell_type": "code",
   "execution_count": null,
   "metadata": {},
   "outputs": [
    {
     "name": "stdout",
     "output_type": "stream",
     "text": [
      "6/6 [==============================] - 1s 20ms/step - loss: 0.4496 - accuracy: 0.8675 - precision: 1.0000 - recall: 1.7040 - f1_score: 1.2600\n",
      "Loss : 0.44955649971961975\n",
      "Accuracy : 0.8674699068069458\n",
      "Precision : 1.0\n",
      "Recall : 1.7039929628372192\n",
      "F1-Score : 1.2600265741348267\n"
     ]
    }
   ],
   "source": [
    "test_accuracy = tf.keras.metrics.Accuracy()\n",
    "#ds_test_batch = test_ds.batch(10)\n",
    "\n",
    "loss, accuracy, prec, rec, f1 = model.evaluate(test_ds)\n",
    "print(\"Loss :\", loss)\n",
    "print(\"Accuracy :\", accuracy)\n",
    "print(\"Precision :\", prec)\n",
    "print(\"Recall :\", rec)\n",
    "print(\"F1-Score :\", f1)\n",
    "\n",
    "#print(\"Test set accuracy: {:.3%}\".format(test_accuracy.result()))\n"
   ]
  },
  {
   "cell_type": "code",
   "execution_count": null,
   "metadata": {},
   "outputs": [
    {
     "data": {
      "text/plain": [
       "[array([[[[ 0.01556807,  0.07391512,  0.3368279 , ..., -0.07126247,\n",
       "           -0.2170175 , -0.02033901],\n",
       "          [-0.02662421, -0.04000798, -0.1027464 , ...,  0.03115628,\n",
       "            0.05362149, -0.18842499],\n",
       "          [-0.01606936,  0.23082016, -0.11508348, ...,  0.1606015 ,\n",
       "           -0.04517771, -0.3237775 ],\n",
       "          ...,\n",
       "          [ 0.02123212,  0.07320458,  0.3615402 , ...,  0.2763626 ,\n",
       "            0.01053592,  0.05924619],\n",
       "          [-0.18955462,  0.09731818,  0.06794779, ..., -0.08076224,\n",
       "            0.23056947,  0.00119642],\n",
       "          [ 0.00852288, -0.07053231, -0.09599829, ..., -0.06583361,\n",
       "            0.24803385, -0.23970789]]]], dtype=float32),\n",
       " array([ 0.04873258, -0.13601622, -0.03618615, -0.02710439,  0.03912748,\n",
       "        -0.01741141, -0.01453101,  0.03600643, -0.02032084, -0.00836696,\n",
       "         0.06668332,  0.02978985, -0.01742508, -0.00314302,  0.04586649,\n",
       "         0.04395663], dtype=float32),\n",
       " array([[[[-0.04046103, -0.04101899,  0.03857753, ..., -0.01975333,\n",
       "           -0.12314908, -0.13348073],\n",
       "          [-0.00724314,  0.03994791, -0.03045081, ...,  0.09819113,\n",
       "            0.15520823,  0.06665555],\n",
       "          [-0.09099423, -0.08097698, -0.09528498, ..., -0.191976  ,\n",
       "           -0.11039554, -0.35815975],\n",
       "          ...,\n",
       "          [-0.0516475 , -0.23720956, -0.11925493, ..., -0.05124588,\n",
       "           -0.28959885, -0.13963886],\n",
       "          [-0.34759682,  0.25338873, -0.18104963, ..., -0.01178257,\n",
       "           -0.02599785,  0.31008336],\n",
       "          [ 0.02218279,  0.00223055,  0.02675291, ...,  0.15709639,\n",
       "            0.0038337 ,  0.15228643]]]], dtype=float32),\n",
       " array([-0.03483541,  0.01177474, -0.0121743 , -0.02403075, -0.01148755,\n",
       "        -0.043526  , -0.05674299,  0.03356465, -0.05067546,  0.06237971,\n",
       "         0.01178371,  0.00181264,  0.03086293, -0.02103004, -0.02849336,\n",
       "        -0.02434209, -0.04337309,  0.00027905,  0.06127815, -0.03023229,\n",
       "         0.02660548, -0.02145514, -0.08246209,  0.04454129,  0.02168584,\n",
       "        -0.08182029, -0.0186857 ,  0.03161928, -0.01929665, -0.00903379,\n",
       "         0.03381661, -0.05924362, -0.05063032,  0.00050103, -0.02467804,\n",
       "         0.02531363,  0.05508813,  0.04716073, -0.03581082, -0.00969264,\n",
       "         0.03879917, -0.00139115,  0.01390264, -0.00816218, -0.03651977,\n",
       "        -0.00974776, -0.03317058,  0.07195396, -0.00427158, -0.01598931,\n",
       "        -0.04944639, -0.01709174, -0.01597931,  0.04353147,  0.04140754,\n",
       "        -0.07918116,  0.06586721,  0.01302259, -0.01987202,  0.00930639,\n",
       "        -0.04287903,  0.04121508,  0.00981467,  0.03329887], dtype=float32),\n",
       " array([[[[ 4.51318212e-02, -2.20863651e-02,  2.78553795e-02, ...,\n",
       "           -2.14251295e-01,  1.83547273e-01, -2.10017674e-02],\n",
       "          [ 2.00858116e-01, -1.29228523e-02, -4.12047021e-02, ...,\n",
       "            4.37976345e-02, -5.54526076e-02, -2.74943225e-02],\n",
       "          [ 6.02566637e-02,  1.27034456e-01,  3.58240902e-02, ...,\n",
       "            4.88000065e-02,  2.01370697e-02,  1.47856716e-02],\n",
       "          ...,\n",
       "          [ 7.86786005e-02, -8.05695262e-03, -1.99713260e-02, ...,\n",
       "           -3.52876894e-02, -7.48681799e-02, -1.26629282e-04],\n",
       "          [-3.87982316e-02,  1.28711239e-02, -7.01923147e-02, ...,\n",
       "            4.11673859e-02,  9.67618152e-02,  5.66354543e-02],\n",
       "          [-2.31417231e-02,  1.01333186e-01, -1.52732711e-02, ...,\n",
       "           -8.13399926e-02,  1.35307508e-02,  7.97387771e-03]],\n",
       " \n",
       "         [[ 3.13698575e-02, -7.54805878e-02,  1.95913892e-02, ...,\n",
       "            1.86962020e-02, -5.48019335e-02, -3.93055119e-02],\n",
       "          [ 1.77919138e-02, -1.66334882e-01, -9.31200534e-02, ...,\n",
       "            2.96384692e-02, -3.85843404e-02, -2.86528971e-02],\n",
       "          [ 7.87555706e-03,  6.35951757e-02,  4.73986976e-02, ...,\n",
       "            2.09514238e-02,  3.30053046e-02,  2.75142565e-02],\n",
       "          ...,\n",
       "          [ 6.95698336e-02,  1.03263082e-02, -1.81051083e-02, ...,\n",
       "           -1.49136603e-01,  1.79522391e-02,  1.86628364e-02],\n",
       "          [ 1.26207573e-03,  6.84811100e-02, -3.79367471e-02, ...,\n",
       "            1.24512417e-02,  9.88771543e-02, -7.61290267e-02],\n",
       "          [-1.16632681e-03, -7.00320378e-02,  7.60718016e-03, ...,\n",
       "           -9.59339514e-02,  1.53372332e-01,  1.69831552e-02]],\n",
       " \n",
       "         [[-1.46870062e-01, -2.39740565e-01,  4.13936712e-02, ...,\n",
       "            1.39266020e-02, -8.57301652e-02,  1.39176935e-01],\n",
       "          [-8.06922391e-02, -1.47667497e-01,  6.11269148e-03, ...,\n",
       "           -7.98594877e-02, -1.00744694e-01, -4.93256375e-02],\n",
       "          [ 2.34735142e-02, -5.41604199e-02, -8.70404299e-03, ...,\n",
       "            7.72581547e-02,  1.26624942e-01,  9.33001167e-04],\n",
       "          ...,\n",
       "          [ 6.23746365e-02,  1.05262017e-02, -1.03886686e-01, ...,\n",
       "           -1.72746107e-02,  7.37888692e-03, -8.09770748e-02],\n",
       "          [-7.31435791e-03,  2.68742535e-02,  4.81043570e-02, ...,\n",
       "            5.03785573e-02, -5.99840656e-02,  2.10555755e-02],\n",
       "          [ 3.38840634e-02,  6.59634769e-02,  2.00688858e-02, ...,\n",
       "           -2.94770785e-02,  1.38731599e-01, -7.26369247e-02]]],\n",
       " \n",
       " \n",
       "        [[[ 4.03241627e-02, -3.63197550e-02, -7.19423871e-03, ...,\n",
       "            1.89969972e-01,  1.62928123e-02, -6.19826056e-02],\n",
       "          [ 3.77521776e-02, -4.15553413e-02, -5.26823588e-02, ...,\n",
       "            1.30843356e-01,  1.36459857e-01, -2.74387412e-02],\n",
       "          [ 5.55621497e-02,  1.17162377e-01, -8.19355547e-02, ...,\n",
       "            2.04340667e-02, -4.51578014e-02, -5.18051200e-02],\n",
       "          ...,\n",
       "          [-4.21659648e-02, -5.30543998e-02, -4.35940474e-02, ...,\n",
       "           -8.94462317e-02,  5.80503186e-03, -5.39198294e-02],\n",
       "          [-3.04026753e-02, -4.06139009e-02,  3.33632901e-02, ...,\n",
       "            8.70138183e-02, -2.63682846e-02, -4.12226841e-02],\n",
       "          [-4.81390059e-02,  9.97599438e-02,  3.57795581e-02, ...,\n",
       "           -1.48985490e-01,  2.76811533e-02,  1.42595498e-02]],\n",
       " \n",
       "         [[-3.67748663e-02,  3.66506539e-02, -5.82693033e-02, ...,\n",
       "            1.68768631e-03,  2.52133212e-03,  6.61967173e-02],\n",
       "          [-3.08473557e-02,  1.86282117e-02, -8.28497931e-02, ...,\n",
       "           -2.55824393e-03,  1.58130616e-01,  9.82786436e-03],\n",
       "          [-1.17974706e-01, -1.37124762e-01, -1.92746855e-02, ...,\n",
       "            1.63469296e-02,  7.27975070e-02,  3.44985770e-03],\n",
       "          ...,\n",
       "          [-2.96502616e-02,  1.41352869e-03, -9.80625078e-02, ...,\n",
       "            4.64110263e-02,  1.17458683e-02,  2.70239147e-03],\n",
       "          [-5.68743125e-02,  3.54289785e-02, -9.26195979e-02, ...,\n",
       "           -5.20507172e-02, -1.94625527e-01, -1.07010290e-01],\n",
       "          [-1.14699721e-01,  1.56949833e-01,  4.31839637e-02, ...,\n",
       "            3.15889977e-02, -4.25811782e-02,  3.04294191e-02]],\n",
       " \n",
       "         [[-3.06782480e-02,  6.66042194e-02,  8.42675641e-02, ...,\n",
       "           -2.80819610e-02, -2.07324028e-02,  2.00765692e-02],\n",
       "          [-1.48779124e-01,  3.35182771e-02,  7.53047243e-02, ...,\n",
       "           -1.89885981e-02,  5.01232855e-02, -3.88873369e-02],\n",
       "          [-1.68416128e-02, -1.26409903e-01,  7.54163181e-03, ...,\n",
       "            1.09910499e-02,  8.12311471e-02, -9.46248546e-02],\n",
       "          ...,\n",
       "          [-1.11809202e-01,  8.67030025e-02, -7.49707669e-02, ...,\n",
       "           -1.79398861e-02,  1.09417215e-01, -2.33409903e-03],\n",
       "          [ 2.48004440e-02, -1.16943568e-02, -1.97082069e-02, ...,\n",
       "           -4.42924956e-03, -1.60353735e-01,  6.82778582e-02],\n",
       "          [-2.64464039e-02,  8.58997703e-02,  2.13129781e-02, ...,\n",
       "           -7.62377586e-03,  7.69673437e-02, -3.87191400e-02]]],\n",
       " \n",
       " \n",
       "        [[[ 4.99462560e-02, -2.36751195e-02,  1.96427722e-02, ...,\n",
       "            1.13679720e-02, -2.55203173e-02, -8.43836665e-02],\n",
       "          [-1.11609869e-01, -1.59538481e-02,  3.56004164e-02, ...,\n",
       "            1.76708885e-02, -1.00850664e-01, -6.79004639e-02],\n",
       "          [-1.23800956e-01, -2.19702870e-01, -6.03538146e-03, ...,\n",
       "            8.45655333e-03, -1.04862280e-01, -3.16948746e-03],\n",
       "          ...,\n",
       "          [ 3.35005447e-02,  7.27559179e-02,  1.01744801e-01, ...,\n",
       "           -3.47460248e-02,  1.27052993e-01, -3.17590311e-02],\n",
       "          [-4.04412998e-03,  4.34528291e-02, -8.24786723e-03, ...,\n",
       "           -9.36929509e-02, -1.57146975e-01, -9.09207538e-02],\n",
       "          [-1.39320157e-02, -5.80184162e-02, -3.51451188e-02, ...,\n",
       "            2.04352159e-02, -1.55380340e-02,  3.04617099e-02]],\n",
       " \n",
       "         [[-1.45580824e-02,  9.84817520e-02, -2.52920650e-02, ...,\n",
       "            1.24589456e-02, -5.10072447e-02,  8.99605267e-03],\n",
       "          [-1.61645621e-01, -7.08746091e-02, -8.28514844e-02, ...,\n",
       "            3.26793455e-02,  3.27249058e-02, -1.79109182e-02],\n",
       "          [-4.13709134e-02, -8.41810033e-02, -5.20575494e-02, ...,\n",
       "            4.40986943e-04, -9.18943733e-02,  2.30789708e-04],\n",
       "          ...,\n",
       "          [-1.24152051e-02, -2.66076941e-02, -1.03450017e-02, ...,\n",
       "            6.15045018e-02,  2.08725333e-02,  3.31387557e-02],\n",
       "          [-7.31536597e-02, -2.67552249e-02, -4.11068127e-02, ...,\n",
       "           -1.57900348e-01, -1.45442277e-01, -2.71604937e-02],\n",
       "          [-4.42953873e-03,  1.93009945e-03, -1.43302409e-02, ...,\n",
       "           -1.17934301e-01,  8.48360956e-02,  4.27713953e-02]],\n",
       " \n",
       "         [[-7.58761317e-02,  3.54500301e-02, -3.81622165e-02, ...,\n",
       "           -5.92753254e-02,  5.59386378e-03, -1.16549954e-02],\n",
       "          [-1.26891360e-01, -4.29342827e-03,  4.04497162e-02, ...,\n",
       "           -1.46932334e-01,  3.06816143e-03,  7.31802965e-03],\n",
       "          [-3.71376984e-02, -1.19658031e-01, -5.47800884e-02, ...,\n",
       "            5.71632683e-02, -8.04941431e-02, -7.01199248e-02],\n",
       "          ...,\n",
       "          [-7.06687197e-02, -8.87469873e-02,  4.90148291e-02, ...,\n",
       "            8.08351859e-02,  1.64153483e-02, -2.14493759e-02],\n",
       "          [ 1.29422843e-02,  2.79525481e-02, -2.25708564e-03, ...,\n",
       "           -4.30237129e-02, -5.95575832e-02, -5.26189506e-02],\n",
       "          [ 8.96322802e-02, -7.82028809e-02, -4.47317548e-02, ...,\n",
       "           -5.18491939e-02,  4.16443421e-04,  1.00366861e-01]]]],\n",
       "       dtype=float32),\n",
       " array([ 0.00745729, -0.04077953, -0.02036794, -0.0354532 ,  0.06129972,\n",
       "         0.01956404,  0.00581201,  0.01134258, -0.01475757,  0.0400857 ,\n",
       "        -0.01292089, -0.02981575, -0.03819274,  0.00914395,  0.04099718,\n",
       "         0.0260733 ,  0.0361924 , -0.00778927,  0.03653135, -0.00521644,\n",
       "        -0.04960439,  0.00271556, -0.05065586, -0.05735689, -0.01522557,\n",
       "        -0.02411446, -0.02228942, -0.02740216, -0.01042185, -0.00045858,\n",
       "        -0.02330176,  0.01754623, -0.03515369,  0.0205965 , -0.00994474,\n",
       "        -0.01894512, -0.04990242, -0.01351245, -0.02619396, -0.0419984 ,\n",
       "         0.0229626 , -0.00731924, -0.0275772 , -0.00999889, -0.00257636,\n",
       "        -0.02572644,  0.01203765,  0.00519633,  0.04977837, -0.01836225,\n",
       "         0.00089545, -0.07698756, -0.0164047 , -0.00292216,  0.02427289,\n",
       "        -0.01241598,  0.03052325,  0.01172805,  0.01441029, -0.01130241,\n",
       "        -0.01011069, -0.02157965, -0.01805642, -0.006787  ], dtype=float32)]"
      ]
     },
     "execution_count": 668,
     "metadata": {},
     "output_type": "execute_result"
    }
   ],
   "source": [
    "model.layers[3].get_weights()"
   ]
  },
  {
   "cell_type": "code",
   "execution_count": null,
   "metadata": {},
   "outputs": [],
   "source": [
    "weights = model.layers[1].get_weights()"
   ]
  },
  {
   "cell_type": "code",
   "execution_count": null,
   "metadata": {},
   "outputs": [
    {
     "ename": "AttributeError",
     "evalue": "'list' object has no attribute 'shape'",
     "output_type": "error",
     "traceback": [
      "\u001b[1;31m---------------------------------------------------------------------------\u001b[0m",
      "\u001b[1;31mAttributeError\u001b[0m                            Traceback (most recent call last)",
      "\u001b[1;32m~\\AppData\\Local\\Temp/ipykernel_7284/1837806548.py\u001b[0m in \u001b[0;36m<module>\u001b[1;34m\u001b[0m\n\u001b[1;32m----> 1\u001b[1;33m \u001b[0mweights\u001b[0m\u001b[1;33m.\u001b[0m\u001b[0mshape\u001b[0m\u001b[1;33m\u001b[0m\u001b[1;33m\u001b[0m\u001b[0m\n\u001b[0m",
      "\u001b[1;31mAttributeError\u001b[0m: 'list' object has no attribute 'shape'"
     ]
    }
   ],
   "source": [
    "weights.shape"
   ]
  },
  {
   "cell_type": "code",
   "execution_count": null,
   "metadata": {},
   "outputs": [
    {
     "data": {
      "text/plain": [
       "array([[ 0.00660257,  0.05393029,  0.07871939],\n",
       "       [-0.02834111,  0.02452181, -0.05535853],\n",
       "       [-0.11845279, -0.07768951, -0.08921076]], dtype=float32)"
      ]
     },
     "execution_count": 118,
     "metadata": {},
     "output_type": "execute_result"
    }
   ],
   "source": [
    "weights[:,:,2,60]"
   ]
  }
 ],
 "metadata": {
  "accelerator": "GPU",
  "colab": {
   "collapsed_sections": [],
   "name": "images.ipynb",
   "toc_visible": true
  },
  "kernelspec": {
   "display_name": "Python 3",
   "name": "python3"
  },
  "language_info": {
   "codemirror_mode": {
    "name": "ipython",
    "version": 3
   },
   "file_extension": ".py",
   "mimetype": "text/x-python",
   "name": "python",
   "nbconvert_exporter": "python",
   "pygments_lexer": "ipython3",
   "version": "3.9.12"
  }
 },
 "nbformat": 4,
 "nbformat_minor": 0
}
